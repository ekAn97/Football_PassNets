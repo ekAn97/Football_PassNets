{
 "cells": [
  {
   "cell_type": "code",
   "execution_count": 1,
   "id": "fbb0406c-1d85-4c87-a376-762289d1b203",
   "metadata": {},
   "outputs": [],
   "source": [
    "# Import libraries\n",
    "import datetime\n",
    "import pandas as pd\n",
    "import numpy as np\n",
    "import networkx as nx\n",
    "import matplotlib.pyplot as plt\n",
    "import json\n",
    "from mplsoccer import Pitch, Sbopen\n",
    "from typing import Literal"
   ]
  },
  {
   "cell_type": "code",
   "execution_count": 2,
   "id": "f22b3e90-1d8f-4c24-87a3-8d8d2ad15cbc",
   "metadata": {},
   "outputs": [],
   "source": [
    "# Find sys path\n",
    "import sys\n",
    "sys.path.append(\"../src\")"
   ]
  },
  {
   "cell_type": "code",
   "execution_count": 3,
   "id": "c5989dbe-5d60-43c8-b3db-37289b017c7d",
   "metadata": {},
   "outputs": [],
   "source": [
    "# Import custom functions\n",
    "import load_data as ld\n",
    "import net_analysis as net_an"
   ]
  },
  {
   "cell_type": "markdown",
   "id": "d70bc000-7532-4f4d-8f68-2c9ce6786fed",
   "metadata": {},
   "source": [
    "## Load data"
   ]
  },
  {
   "cell_type": "code",
   "execution_count": 4,
   "id": "f5d65b60-7754-4b16-8b75-47da1adf3fa4",
   "metadata": {},
   "outputs": [],
   "source": [
    "# Read config json file and define parameters\n",
    "with open(\"../config.json\", \"r\") as file:\n",
    "    params = json.load(file)\n",
    "\n",
    "# Load data and get match data\n",
    "parser, match_data = ld.get_match_data(params[\"competition\"], params[\"season\"])\n",
    "\n",
    "# Get match info\n",
    "match_info_dict, lineups = ld.get_match_info(parser, match_data, 3942819)"
   ]
  },
  {
   "cell_type": "code",
   "execution_count": 5,
   "id": "78210af9-c3e0-49ba-9def-9124c26a707d",
   "metadata": {},
   "outputs": [
    {
     "name": "stdout",
     "output_type": "stream",
     "text": [
      "{'Home Team': 'Netherlands', 'Away Team': 'England', 'Final Score': '1-2', 'Match Date': 'July 10, 2024', 'Stage': 'Semi-finals', 'Stadium': 'Signal-Iduna-Park'}\n",
      "   player_id    player_name player_nickname  jersey_number  match_id  team_id  \\\n",
      "0       2988  Memphis Depay   Memphis Depay             10   3942819      941   \n",
      "1       3306     Nathan Aké      Nathan Aké              5   3942819      941   \n",
      "\n",
      "     team_name  country_id country_name  \n",
      "0  Netherlands         160  Netherlands  \n",
      "1  Netherlands         160  Netherlands  \n"
     ]
    }
   ],
   "source": [
    "# TEST 1: Show match info and a glimpse of the lineups\n",
    "print(match_info_dict)\n",
    "print(lineups.head(2))"
   ]
  },
  {
   "cell_type": "code",
   "execution_count": 6,
   "id": "6e575b9f-ef5f-4f67-be25-f317b598de5d",
   "metadata": {},
   "outputs": [],
   "source": [
    "# Get match event data & phases of play\n",
    "event_df, related, freeze, tactics = parser.event(3942819)\n",
    "phase_bounds = ld.phase_of_play(event_df, match_info_dict[\"Home Team\"])"
   ]
  },
  {
   "cell_type": "code",
   "execution_count": 7,
   "id": "d9339d78-c100-4f5e-8885-40d1dcb74b78",
   "metadata": {},
   "outputs": [
    {
     "name": "stdout",
     "output_type": "stream",
     "text": [
      "[1101, 1701, 3396]\n"
     ]
    }
   ],
   "source": [
    "# TEST 2: Show phases of play bounds\n",
    "print(phase_bounds)"
   ]
  },
  {
   "cell_type": "code",
   "execution_count": 8,
   "id": "45218fd9-ac71-4f1c-8362-f548e66c5fe5",
   "metadata": {},
   "outputs": [],
   "source": [
    "# Obtain pass data for a specific phase of play and add \n",
    "passes = ld.get_passing_data(event_df, lineups, match_info_dict[\"Home Team\"], 1, phase_bounds)\n",
    "passes = ld.cosine_pass_vector(passes)"
   ]
  },
  {
   "cell_type": "code",
   "execution_count": 9,
   "id": "acf21312-c4a5-4234-9492-98023b94e50a",
   "metadata": {},
   "outputs": [
    {
     "data": {
      "text/html": [
       "<div>\n",
       "<style scoped>\n",
       "    .dataframe tbody tr th:only-of-type {\n",
       "        vertical-align: middle;\n",
       "    }\n",
       "\n",
       "    .dataframe tbody tr th {\n",
       "        vertical-align: top;\n",
       "    }\n",
       "\n",
       "    .dataframe thead th {\n",
       "        text-align: right;\n",
       "    }\n",
       "</style>\n",
       "<table border=\"1\" class=\"dataframe\">\n",
       "  <thead>\n",
       "    <tr style=\"text-align: right;\">\n",
       "      <th></th>\n",
       "      <th>x</th>\n",
       "      <th>y</th>\n",
       "      <th>end_x</th>\n",
       "      <th>end_y</th>\n",
       "      <th>pass_length</th>\n",
       "      <th>player_id</th>\n",
       "      <th>player_name</th>\n",
       "      <th>pass_recipient_id</th>\n",
       "      <th>pass_recipient_name</th>\n",
       "      <th>player_name_jersey</th>\n",
       "      <th>pass_recipient_jersey</th>\n",
       "      <th>cosine</th>\n",
       "    </tr>\n",
       "  </thead>\n",
       "  <tbody>\n",
       "    <tr>\n",
       "      <th>0</th>\n",
       "      <td>47.8</td>\n",
       "      <td>66.3</td>\n",
       "      <td>65.4</td>\n",
       "      <td>55.1</td>\n",
       "      <td>19.075708</td>\n",
       "      <td>15582.0</td>\n",
       "      <td>Malen</td>\n",
       "      <td>20750.0</td>\n",
       "      <td>Gakpo</td>\n",
       "      <td>18</td>\n",
       "      <td>11</td>\n",
       "      <td>0.843661</td>\n",
       "    </tr>\n",
       "    <tr>\n",
       "      <th>1</th>\n",
       "      <td>4.6</td>\n",
       "      <td>42.0</td>\n",
       "      <td>30.9</td>\n",
       "      <td>24.2</td>\n",
       "      <td>29.038930</td>\n",
       "      <td>37274.0</td>\n",
       "      <td>Verbruggen</td>\n",
       "      <td>21582.0</td>\n",
       "      <td>Reijnders</td>\n",
       "      <td>1</td>\n",
       "      <td>14</td>\n",
       "      <td>0.828154</td>\n",
       "    </tr>\n",
       "  </tbody>\n",
       "</table>\n",
       "</div>"
      ],
      "text/plain": [
       "      x     y  end_x  end_y  pass_length  player_id player_name  \\\n",
       "0  47.8  66.3   65.4   55.1    19.075708    15582.0       Malen   \n",
       "1   4.6  42.0   30.9   24.2    29.038930    37274.0  Verbruggen   \n",
       "\n",
       "   pass_recipient_id pass_recipient_name player_name_jersey  \\\n",
       "0            20750.0               Gakpo                 18   \n",
       "1            21582.0           Reijnders                  1   \n",
       "\n",
       "  pass_recipient_jersey    cosine  \n",
       "0                    11  0.843661  \n",
       "1                    14  0.828154  "
      ]
     },
     "execution_count": 9,
     "metadata": {},
     "output_type": "execute_result"
    }
   ],
   "source": [
    "# TEST 3: Show passes for the Home Team after the first substitution\n",
    "passes.head(2)"
   ]
  },
  {
   "cell_type": "code",
   "execution_count": 10,
   "id": "489dfe1d-c56e-406e-82f3-5f38c66c9f51",
   "metadata": {},
   "outputs": [
    {
     "name": "stdout",
     "output_type": "stream",
     "text": [
      "End of defensive third: 40.0 | Var. Type: <class 'numpy.float64'>\n",
      "End of midfield third: 80.0 | Var. Type: <class 'numpy.float64'>\n",
      "       x     y  end_x  end_y  pass_length  player_id player_name  \\\n",
      "0   47.8  66.3   65.4   55.1    19.075708    15582.0       Malen   \n",
      "10  43.5  34.3   38.8   44.1     9.938397    15582.0       Malen   \n",
      "\n",
      "    pass_recipient_id pass_recipient_name player_name_jersey  \\\n",
      "0             20750.0               Gakpo                 18   \n",
      "10            39167.0              Simons                 18   \n",
      "\n",
      "   pass_recipient_jersey    cosine  \n",
      "0                     11  0.843661  \n",
      "10                     7 -0.432432  \n"
     ]
    }
   ],
   "source": [
    "# Divide pitch and get filtered data for a specific region\n",
    "first_bound, second_bound, mid_region_passes = ld.region_pass_filter(passes, params, \"statsbomb\", \"mid\")\n",
    "\n",
    "# TEST 4: Show passes originating from midfield\n",
    "print(f\"End of defensive third: {first_bound} | Var. Type: {type(first_bound)}\")\n",
    "print(f\"End of midfield third: {second_bound} | Var. Type: {type(second_bound)}\")\n",
    "print(mid_region_passes.head(2))"
   ]
  },
  {
   "cell_type": "code",
   "execution_count": 11,
   "id": "918ea6c4-f938-4849-8ff6-0d0bb2fdbb0b",
   "metadata": {},
   "outputs": [
    {
     "name": "stdout",
     "output_type": "stream",
     "text": [
      "Overall passes: 74\n",
      "Passes originating from midfield: 38\n",
      "Forward passes originating from midfield: 9 | Progressive passes to attacking third from midfield: 3\n"
     ]
    }
   ],
   "source": [
    "# Obtain forward passes that originated in midfield\n",
    "fwd_mid_passes = ld.direction_pass_filter(mid_region_passes, \"fwd\")\n",
    "# Obtain progressive passes from midfield to attacking third\n",
    "prog_m2a_passes = ld.progressive_passes(fwd_mid_passes, \"m2a\", first_bound, second_bound)\n",
    "\n",
    "# TEST 5: Show forward passes from midfield and progressive passes\n",
    "print(f\"Overall passes: {len(passes)}\") \n",
    "print(f\"Passes originating from midfield: {len(mid_region_passes)}\")\n",
    "print(f\"Forward passes originating from midfield: {len(fwd_mid_passes)} | Progressive passes to attacking third from midfield: {len(prog_m2a_passes)}\")"
   ]
  },
  {
   "cell_type": "markdown",
   "id": "574d75b4-7c62-4529-bd37-8b206e137182",
   "metadata": {},
   "source": [
    "### Network Analysis"
   ]
  },
  {
   "cell_type": "code",
   "execution_count": 14,
   "id": "fb3b74c0-0bf0-4e39-92da-c8e3ef6a9347",
   "metadata": {},
   "outputs": [
    {
     "name": "stdout",
     "output_type": "stream",
     "text": [
      "Number of nodes: 11 | Number of edges: 44\n",
      "Player 6 average position: [54.97, 60.41]\n",
      "Sample edge data: {0: {'intensity': 4, 'distance': 2500.0}}\n"
     ]
    }
   ],
   "source": [
    "# Create graph object for the overall data of a specific phase of play\n",
    "graph = net_an.create_graph(passes)\n",
    "\n",
    "# TEST 1: Show number of nodes, edges and a glimpse of the node attributes of a player\n",
    "print(f\"Number of nodes: {len(graph.nodes())} | Number of edges: {len(graph.edges())}\")\n",
    "print(f\"Player 6 average position: {graph.nodes['6']['avg_pos']}\")\n",
    "print(f\"Sample edge data: {graph.get_edge_data('6', '4')}\")"
   ]
  },
  {
   "cell_type": "code",
   "execution_count": 15,
   "id": "b3419abe-1b27-44f6-8b1d-14b5dca4e462",
   "metadata": {},
   "outputs": [],
   "source": [
    "# Calculate node centralities\n",
    "net_an.node_strength(graph, \"in\", \"intensity\")\n",
    "net_an.node_strength(graph, \"out\", \"intensity\")\n",
    "net_an.node_strength(graph, None, \"intensity\")\n",
    "net_an.distance_centralities(graph, \"betweenness\", \"distance\")\n",
    "net_an.distance_centralities(graph, \"in-harmonic\", \"distance\")\n",
    "net_an.distance_centralities(graph, \"out-harmonic\", \"distance\")"
   ]
  },
  {
   "cell_type": "code",
   "execution_count": 17,
   "id": "f9dfb09d-8e68-48f1-b6e3-180428e27f08",
   "metadata": {},
   "outputs": [
    {
     "name": "stdout",
     "output_type": "stream",
     "text": [
      "{'avg_pos': [54.97, 60.41], 'in-strength': 10, 'out-strength': 10, 'strength': 20, 'betweenness': 0.2722, 'in-harmonic': 0.0014, 'out-harmonic': 0.0016}\n"
     ]
    }
   ],
   "source": [
    "# TEST 2: Get full node attributes after calculating centralities\n",
    "print(graph.nodes[\"6\"])"
   ]
  },
  {
   "cell_type": "markdown",
   "id": "986574e4-ce0d-47e4-b101-16b406c8ed38",
   "metadata": {},
   "source": [
    "### Visualization & Statistics"
   ]
  }
 ],
 "metadata": {
  "kernelspec": {
   "display_name": "Python 3 (ipykernel)",
   "language": "python",
   "name": "python3"
  },
  "language_info": {
   "codemirror_mode": {
    "name": "ipython",
    "version": 3
   },
   "file_extension": ".py",
   "mimetype": "text/x-python",
   "name": "python",
   "nbconvert_exporter": "python",
   "pygments_lexer": "ipython3",
   "version": "3.10.13"
  }
 },
 "nbformat": 4,
 "nbformat_minor": 5
}
