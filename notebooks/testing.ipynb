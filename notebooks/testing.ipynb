{
 "cells": [
  {
   "cell_type": "code",
   "execution_count": 1,
   "id": "fbb0406c-1d85-4c87-a376-762289d1b203",
   "metadata": {},
   "outputs": [],
   "source": [
    "import datetime\n",
    "import pandas as pd\n",
    "import numpy as np\n",
    "import networkx as nx\n",
    "import matplotlib.pyplot as plt\n",
    "import json\n",
    "from mplsoccer import Pitch, Sbopen\n",
    "from typing import Literal"
   ]
  },
  {
   "cell_type": "markdown",
   "id": "d70bc000-7532-4f4d-8f68-2c9ce6786fed",
   "metadata": {},
   "source": [
    "### Custom Functions"
   ]
  },
  {
   "cell_type": "code",
   "execution_count": 11,
   "id": "c8f6eb2b-69f2-4f30-b69c-24e19a4d9182",
   "metadata": {},
   "outputs": [],
   "source": [
    "def get_passing_data(event_data, team_name, sub_idx):\n",
    "    '''\n",
    "    Creating the pass data frame from the event data\n",
    "\n",
    "    INPUT\n",
    "        event_data: pd.DataFrame with event data\n",
    "        team_name: str\n",
    "        sub_idx: int, index that corresponds to the substitution event\n",
    "\n",
    "    OUTPUT\n",
    "        pass_data: pd.DataFrame with x,y positions of passer and receiver\n",
    "        pass_network_df: pd.DataFrame to be used as an edgelist for Graph creation\n",
    "    '''\n",
    "    pass_data = (event_data.type_name == \"Pass\") & (event_data.team_name == team_name) & (event_data.index < sub_idx) & (event_data.outcome_name.isnull()) & (event_data.sub_type_name != \"Throw-in\")\n",
    "    pass_data = event_data.loc[pass_data, [\"x\", \"y\", \"end_x\", \"end_y\", \"player_name\", \"pass_recipient_name\"]]\n",
    "    # Keep player surname only and jersey number\n",
    "    pass_data[\"player_name\"] = pass_data[\"player_name\"].apply(lambda x: str(x).split()[-1])\n",
    "    pass_data[\"pass_recipient_name\"] = pass_data[\"pass_recipient_name\"].apply(lambda x: str(x).split()[-1])\n",
    "    # Passing network data frame\n",
    "    pass_net_edgelist = (\n",
    "        pass_data.groupby([\"player_name\", \"pass_recipient_name\"])\n",
    "        .size()\n",
    "        .reset_index(name = \"Intensity\")\n",
    "        .rename(columns = {\"player_name\": \"Passer\", \"pass_recipient_name\": \"Receiver\"})\n",
    "    )\n",
    "\n",
    "    # Create a DiGraph object\n",
    "    G = nx.from_pandas_edgelist(\n",
    "        pass_net_edgelist,\n",
    "        source = \"Passer\",\n",
    "        target = \"Receiver\",\n",
    "        edge_attr = \"Intensity\",\n",
    "        create_using = nx.MultiDiGraph\n",
    "    )\n",
    "\n",
    "    # Set average position as nodal attribute\n",
    "    avg_pos = {}\n",
    "    for player in G.nodes():\n",
    "        # Get x, y, endx, endy positions of player only\n",
    "        player_x = pass_data[pass_data[\"player_name\"] == player][\"x\"].to_numpy()\n",
    "        player_y = pass_data[pass_data[\"player_name\"] == player][\"y\"].to_numpy()\n",
    "        player_endx = pass_data[pass_data[\"pass_recipient_name\"] == player][\"end_x\"].to_numpy()\n",
    "        player_endy = pass_data[pass_data[\"pass_recipient_name\"] == player][\"end_y\"].to_numpy()\n",
    "        \n",
    "        avg_Xpos = float(np.round(np.mean(np.concatenate([player_x, player_endx])), 2))\n",
    "        avg_Ypos = float(np.round(np.mean(np.concatenate([player_y, player_endy])), 2))\n",
    "\n",
    "        avg_pos.update({player: [avg_Xpos, avg_Ypos]})\n",
    "\n",
    "    # Set node attribute: average X and average Y position\n",
    "    nx.set_node_attributes(G, avg_pos, \"Avg Pos\")\n",
    "\n",
    "    # Set edge attribute: Distance defined as the inverse of edge weights, i.e. passes\n",
    "    distances = {}\n",
    "    for key, values in nx.get_edge_attributes(G, \"Intensity\").items():\n",
    "        distances.update({key: round(1 / values, 4) * 10000})\n",
    "\n",
    "    nx.set_edge_attributes(G, distances, name = \"Distance\")\n",
    "    \n",
    "    return pass_data, pass_net_edgelist, G"
   ]
  },
  {
   "cell_type": "code",
   "execution_count": 5,
   "id": "62210fa4-f2cf-4fad-97b8-67c136b977ec",
   "metadata": {},
   "outputs": [],
   "source": [
    "def node_strength(G, direction: Literal[\"in\", \"out\", None], weight):\n",
    "    '''\n",
    "    Calculates the strength (weighted degree) of the nodes in a graph for\n",
    "    a directed and undirected network.\n",
    "\n",
    "    INPUT:\n",
    "        G: networkx graph object\n",
    "        direction:  \"in\", \"out\" or None; specifies the directionality of the network\n",
    "        weight: str, denotes the variable that acts as an edge weight\n",
    "        \n",
    "    OUTPUT:\n",
    "        -\n",
    "    '''\n",
    "    # Get the adjacency matrix and create a dictionary to store strength values\n",
    "    adj_matrix = nx.to_numpy_array(G, weight = weight)\n",
    "    strength_values = {node: None for node in G.nodes()}\n",
    "\n",
    "    # Calculation of strength according to direction. Adjacency matrix is read \n",
    "    # from Left to Right\n",
    "    for idx, node in enumerate(G.nodes()):\n",
    "        if direction == \"in\":\n",
    "            strength_values[node] = int(sum(adj_matrix[:, idx]))\n",
    "            name = \"In-Strength\"\n",
    "        elif direction == \"out\":\n",
    "            strength_values[node] = int(sum(adj_matrix[idx]))\n",
    "            name = \"Out-Strength\"\n",
    "        else:\n",
    "            strength_values[node] = int(sum(adj_matrix[:, idx]) + sum(adj_matrix[idx]))\n",
    "            name = \"Strength\"\n",
    "            \n",
    "    # Store strength values as node attribute\n",
    "    nx.set_node_attributes(G, strength_values, name = name)"
   ]
  },
  {
   "cell_type": "code",
   "execution_count": 39,
   "id": "c07a52ba-d4d0-41d1-91fa-1ccf78c8500f",
   "metadata": {},
   "outputs": [],
   "source": [
    "def distance_centralities(G, centrality_name, distance_attribute):\n",
    "    '''\n",
    "    Calculate distance-related centralities like Betweenness, Harmonic Closeness\n",
    "\n",
    "    INPUT:\n",
    "        G: networkx Graph object\n",
    "        centrality_name: str\n",
    "        distance_attribute: str, specify the name of the edge attribute used as distance\n",
    "\n",
    "    OUTPUT:\n",
    "        -\n",
    "    '''\n",
    "    if centrality_name == \"Betweenness\":\n",
    "        centrality_dict = nx.betweenness_centrality(G, normalized = True, weight = distance_attribute)\n",
    "    elif centrality_name == \"In-Harmonic\":\n",
    "        centrality_dict = nx.harmonic_centrality(G, distance = distance_attribute)\n",
    "    elif centrality_name == \"Out-Harmonic\":\n",
    "        Grev = G.reverse(copy = True)\n",
    "        centrality_dict = nx.harmonic_centrality(Grev, distance = distance_attribute)\n",
    "\n",
    "    # Up to four (4) decimals\n",
    "    for key, value in centrality_dict.items():\n",
    "        centrality_dict[key] = round(value, 4)\n",
    "        \n",
    "    # Store strength values as node attribute\n",
    "    nx.set_node_attributes(G, centrality_dict, name = centrality_name)"
   ]
  },
  {
   "cell_type": "markdown",
   "id": "3ec59ab6-d1b5-4411-9a61-04d85b3c06ba",
   "metadata": {},
   "source": [
    "### Data Preparation"
   ]
  },
  {
   "cell_type": "code",
   "execution_count": 4,
   "id": "f5d65b60-7754-4b16-8b75-47da1adf3fa4",
   "metadata": {},
   "outputs": [],
   "source": [
    "# Read config json file and define parameters\n",
    "with open(\"config.json\", \"r\") as file:\n",
    "    params = json.load(file)\n",
    "\n",
    "# Load data and get match data\n",
    "parser, match_data = get_match_data(**params)\n",
    "\n",
    "# Get match info\n",
    "match_info_dict, lineups = get_match_info(match_data, 3942819)"
   ]
  },
  {
   "cell_type": "code",
   "execution_count": 5,
   "id": "6e575b9f-ef5f-4f67-be25-f317b598de5d",
   "metadata": {},
   "outputs": [],
   "source": [
    "# Match Event Data\n",
    "event_df, related, freeze, tactics = parser.event(3942819)"
   ]
  },
  {
   "cell_type": "code",
   "execution_count": 13,
   "id": "d9339d78-c100-4f5e-8885-40d1dcb74b78",
   "metadata": {},
   "outputs": [],
   "source": [
    "# Get the indices of substitution events (np.array)\n",
    "subs_hteam = event_df[(event_df[\"type_name\"] == \"Substitution\") & (event_df[\"team_name\"] == match_info_dict[\"Home Team\"])][\"index\"].values\n",
    "subs_ateam = event_df[(event_df[\"type_name\"] == \"Substitution\") & (event_df[\"team_name\"] == match_info_dict[\"Away Team\"])][\"index\"].values"
   ]
  },
  {
   "cell_type": "code",
   "execution_count": 14,
   "id": "45218fd9-ac71-4f1c-8362-f548e66c5fe5",
   "metadata": {},
   "outputs": [],
   "source": [
    "x = phase_of_play(event_df, match_info_dict[\"Home Team\"])\n",
    "phase_idx = [_ for _ in range(1, len(x)+1)]"
   ]
  },
  {
   "cell_type": "code",
   "execution_count": 22,
   "id": "acf21312-c4a5-4234-9492-98023b94e50a",
   "metadata": {},
   "outputs": [
    {
     "data": {
      "text/plain": [
       "1.23"
      ]
     },
     "execution_count": 22,
     "metadata": {},
     "output_type": "execute_result"
    }
   ],
   "source": [
    "np.round(1.2343, 2)"
   ]
  },
  {
   "cell_type": "code",
   "execution_count": 8,
   "id": "489dfe1d-c56e-406e-82f3-5f38c66c9f51",
   "metadata": {},
   "outputs": [],
   "source": [
    "x1 = np.array([1, 2, 3])\n",
    "x2 = np.array([3, 4, 5])\n",
    "y1 = np.array([3, 4, 5])\n",
    "y2 = np.array([1, 2, 3])\n",
    "\n",
    "deltax = x2 - x1\n",
    "deltay = y2 - y1"
   ]
  },
  {
   "cell_type": "code",
   "execution_count": 9,
   "id": "63cacc69-1557-4148-a9ac-d5f5d4b13da7",
   "metadata": {},
   "outputs": [
    {
     "data": {
      "text/plain": [
       "array([2.82842712, 2.82842712, 2.82842712])"
      ]
     },
     "execution_count": 9,
     "metadata": {},
     "output_type": "execute_result"
    }
   ],
   "source": [
    "np.hypot(deltax, deltay)"
   ]
  },
  {
   "cell_type": "code",
   "execution_count": 20,
   "id": "420799a7-0ca3-4acd-ba41-a96faaa79773",
   "metadata": {},
   "outputs": [],
   "source": [
    "def cosine_pass_vector(pass_data):\n",
    "    '''\n",
    "    A function that calculates the cosine of the angle of a pass\n",
    "\n",
    "    INPUT:\n",
    "        pass_data: pd.DataFrame with passing data\n",
    "        x_start: str, column name for the x-position of passer\n",
    "        x_end: str, column name for the x-position of recipient\n",
    "        y_start: str, column name for the y-position of passer\n",
    "        y_end: str, column name for the position of recipient\n",
    "\n",
    "    OUTPUT:\n",
    "        pass_data: pd.DataFrame with a \"cosine\" column\n",
    "    '''\n",
    "    # Get x, y coordinates\n",
    "    x_start, y_start = np.array(pass_data[\"x\"].to_list()), np.array(pass_data[\"y\"].to_list())\n",
    "    x_end, y_end = np.array(pass_data[\"end_x\"].to_list()), np.array(pass_data[\"end_y\"].to_list())\n",
    "\n",
    "    delta_x = x_end - x_start\n",
    "    delta_y = y_end - y_start\n",
    "\n",
    "    # Euclidean norm\n",
    "    norm = np.hypot(delta_x, delta_y)\n",
    "\n",
    "    # Create the cosine column in the pass data frame\n",
    "    pass_data[\"cosine\"] = np.round(np.divide(delta_x, norm), 4)\n",
    "\n",
    "    return pass_data \n",
    "\n",
    "pass_data = cosine_pass_vector(pass_xy_data)"
   ]
  },
  {
   "cell_type": "code",
   "execution_count": 14,
   "id": "f5567229-7151-496d-be9e-9595b79cc163",
   "metadata": {},
   "outputs": [],
   "source": [
    "# Create pass data frames and Graph object\n",
    "pass_xy_data, pass_net_edgelist, pass_graph = get_passing_data(event_df, match_info_dict[\"Home Team\"], subs_hteam[0])"
   ]
  },
  {
   "cell_type": "markdown",
   "id": "574d75b4-7c62-4529-bd37-8b206e137182",
   "metadata": {},
   "source": [
    "### Network Analysis"
   ]
  },
  {
   "cell_type": "code",
   "execution_count": 40,
   "id": "b3419abe-1b27-44f6-8b1d-14b5dca4e462",
   "metadata": {},
   "outputs": [],
   "source": [
    "# Calculate node centralities\n",
    "node_strength(pass_graph, \"in\", \"Intensity\")\n",
    "node_strength(pass_graph, \"out\", \"Intensity\")\n",
    "node_strength(pass_graph, None, \"Intensity\")\n",
    "distance_centralities(pass_graph, \"Betweenness\", \"Distance\")\n",
    "distance_centralities(pass_graph, \"In-Harmonic\", \"Distance\")\n",
    "distance_centralities(pass_graph, \"Out-Harmonic\", \"Distance\")"
   ]
  },
  {
   "cell_type": "code",
   "execution_count": 45,
   "id": "f9dfb09d-8e68-48f1-b6e3-180428e27f08",
   "metadata": {},
   "outputs": [
    {
     "name": "stdout",
     "output_type": "stream",
     "text": [
      "TEST 1: Network Creation\n",
      "11\n",
      "True\n",
      "TEST 2: Initial Node and Edge Attributes\n",
      "[34.28, 37.4]\n",
      "{'Avg Pos': [64.29, 69.5], 'In-Strength': 7, 'Out-Strength': 7, 'Strength': 14, 'Betweenness': 0.0, 'In-Harmonic': 0.0013, 'Out-Harmonic': 0.0011}\n"
     ]
    }
   ],
   "source": [
    "# TEST 1: Loading data and creating the Graph object\n",
    "print(\"TEST 1: Network Creation\")\n",
    "print(pass_graph.number_of_nodes())\n",
    "print(pass_net_edgelist.shape[0] == pass_graph.number_of_edges())\n",
    "\n",
    "# TEST 2: Check node and edge attributes\n",
    "print(\"TEST 2: Initial Node and Edge Attributes\")\n",
    "print(pass_graph.nodes[\"Dijk\"][\"Avg Pos\"])\n",
    "pass_graph.get_edge_data(\"Dijk\", \"Depay\")\n",
    "\n",
    "# TEST 3:\n",
    "print(pass_graph.nodes[\"Simons\"])"
   ]
  },
  {
   "cell_type": "markdown",
   "id": "986574e4-ce0d-47e4-b101-16b406c8ed38",
   "metadata": {},
   "source": [
    "### Visualization & Statistics"
   ]
  },
  {
   "cell_type": "code",
   "execution_count": 58,
   "id": "00fa9cdf-3a26-4cee-85f2-d5dc2afd1423",
   "metadata": {},
   "outputs": [
    {
     "data": {
      "text/plain": [
       "array(['Final', 'Group Stage', 'Quarter-finals', 'Round of 16',\n",
       "       'Semi-finals'], dtype=object)"
      ]
     },
     "execution_count": 58,
     "metadata": {},
     "output_type": "execute_result"
    }
   ],
   "source": [
    "np.unique(match_data[\"competition_stage_name\"].values)"
   ]
  },
  {
   "cell_type": "code",
   "execution_count": 44,
   "id": "31098692-f3b8-4ad6-9724-728af83fd188",
   "metadata": {
    "scrolled": true
   },
   "outputs": [
    {
     "name": "stdout",
     "output_type": "stream",
     "text": [
      "<class 'str'>\n"
     ]
    }
   ],
   "source": [
    "import datetime\n",
    "\n",
    "py_dt = datetime.datetime.utcfromtimestamp(x.astype('datetime64[s]').astype(int))\n",
    "\n",
    "# Format to friendly string\n",
    "friendly_str = py_dt.strftime(\"%B %d, %Y\")  # e.g., \"July 10, 2024\"\n",
    "\n",
    "print(type(friendly_str))"
   ]
  },
  {
   "cell_type": "code",
   "execution_count": 8,
   "id": "c9ce0949-c002-400d-a6dd-e6c9edb97b1c",
   "metadata": {
    "scrolled": true
   },
   "outputs": [
    {
     "data": {
      "text/html": [
       "<div>\n",
       "<style scoped>\n",
       "    .dataframe tbody tr th:only-of-type {\n",
       "        vertical-align: middle;\n",
       "    }\n",
       "\n",
       "    .dataframe tbody tr th {\n",
       "        vertical-align: top;\n",
       "    }\n",
       "\n",
       "    .dataframe thead th {\n",
       "        text-align: right;\n",
       "    }\n",
       "</style>\n",
       "<table border=\"1\" class=\"dataframe\">\n",
       "  <thead>\n",
       "    <tr style=\"text-align: right;\">\n",
       "      <th></th>\n",
       "      <th>match_id</th>\n",
       "      <th>match_date</th>\n",
       "      <th>kick_off</th>\n",
       "      <th>home_score</th>\n",
       "      <th>away_score</th>\n",
       "      <th>match_status</th>\n",
       "      <th>match_status_360</th>\n",
       "      <th>last_updated</th>\n",
       "      <th>last_updated_360</th>\n",
       "      <th>match_week</th>\n",
       "      <th>...</th>\n",
       "      <th>competition_stage_id</th>\n",
       "      <th>competition_stage_name</th>\n",
       "      <th>stadium_id</th>\n",
       "      <th>stadium_name</th>\n",
       "      <th>stadium_country_id</th>\n",
       "      <th>stadium_country_name</th>\n",
       "      <th>referee_id</th>\n",
       "      <th>referee_name</th>\n",
       "      <th>referee_country_id</th>\n",
       "      <th>referee_country_name</th>\n",
       "    </tr>\n",
       "  </thead>\n",
       "  <tbody>\n",
       "    <tr>\n",
       "      <th>0</th>\n",
       "      <td>3942819</td>\n",
       "      <td>2024-07-10</td>\n",
       "      <td>2024-07-10 22:00:00</td>\n",
       "      <td>1</td>\n",
       "      <td>2</td>\n",
       "      <td>available</td>\n",
       "      <td>available</td>\n",
       "      <td>2024-07-15 07:54:23.583297</td>\n",
       "      <td>2024-07-15 07:57:36.684453</td>\n",
       "      <td>6</td>\n",
       "      <td>...</td>\n",
       "      <td>15</td>\n",
       "      <td>Semi-finals</td>\n",
       "      <td>373</td>\n",
       "      <td>Signal-Iduna-Park</td>\n",
       "      <td>85</td>\n",
       "      <td>Germany</td>\n",
       "      <td>241</td>\n",
       "      <td>Felix Zwayer</td>\n",
       "      <td>85</td>\n",
       "      <td>Germany</td>\n",
       "    </tr>\n",
       "    <tr>\n",
       "      <th>2</th>\n",
       "      <td>3942752</td>\n",
       "      <td>2024-07-09</td>\n",
       "      <td>2024-07-09 22:00:00</td>\n",
       "      <td>2</td>\n",
       "      <td>1</td>\n",
       "      <td>available</td>\n",
       "      <td>available</td>\n",
       "      <td>2024-07-10 08:51:07.032303</td>\n",
       "      <td>2024-07-10 13:01:26.597509</td>\n",
       "      <td>6</td>\n",
       "      <td>...</td>\n",
       "      <td>15</td>\n",
       "      <td>Semi-finals</td>\n",
       "      <td>4867</td>\n",
       "      <td>Allianz Arena</td>\n",
       "      <td>85</td>\n",
       "      <td>Germany</td>\n",
       "      <td>943</td>\n",
       "      <td>Slavko Vinčić</td>\n",
       "      <td>208</td>\n",
       "      <td>Slovenia</td>\n",
       "    </tr>\n",
       "  </tbody>\n",
       "</table>\n",
       "<p>2 rows × 52 columns</p>\n",
       "</div>"
      ],
      "text/plain": [
       "   match_id match_date            kick_off  home_score  away_score  \\\n",
       "0   3942819 2024-07-10 2024-07-10 22:00:00           1           2   \n",
       "2   3942752 2024-07-09 2024-07-09 22:00:00           2           1   \n",
       "\n",
       "  match_status match_status_360               last_updated  \\\n",
       "0    available        available 2024-07-15 07:54:23.583297   \n",
       "2    available        available 2024-07-10 08:51:07.032303   \n",
       "\n",
       "            last_updated_360  match_week  ...  competition_stage_id  \\\n",
       "0 2024-07-15 07:57:36.684453           6  ...                    15   \n",
       "2 2024-07-10 13:01:26.597509           6  ...                    15   \n",
       "\n",
       "  competition_stage_name stadium_id       stadium_name stadium_country_id  \\\n",
       "0            Semi-finals        373  Signal-Iduna-Park                 85   \n",
       "2            Semi-finals       4867      Allianz Arena                 85   \n",
       "\n",
       "   stadium_country_name referee_id   referee_name referee_country_id  \\\n",
       "0               Germany        241   Felix Zwayer                 85   \n",
       "2               Germany        943  Slavko Vinčić                208   \n",
       "\n",
       "   referee_country_name  \n",
       "0               Germany  \n",
       "2              Slovenia  \n",
       "\n",
       "[2 rows x 52 columns]"
      ]
     },
     "execution_count": 8,
     "metadata": {},
     "output_type": "execute_result"
    }
   ],
   "source": [
    "match_data[match_data[\"competition_stage_name\"] == \"Semi-finals\"]"
   ]
  },
  {
   "cell_type": "code",
   "execution_count": 7,
   "id": "399c3f48-5ec9-416e-b375-f58e59322f15",
   "metadata": {},
   "outputs": [
    {
     "data": {
      "text/plain": [
       "array([1101, 1701, 3395, 3396])"
      ]
     },
     "execution_count": 7,
     "metadata": {},
     "output_type": "execute_result"
    }
   ],
   "source": [
    "subs_hteam"
   ]
  },
  {
   "cell_type": "code",
   "execution_count": 26,
   "id": "f40006ce-0bd2-44ac-bef4-e0fecd10cfaf",
   "metadata": {},
   "outputs": [
    {
     "data": {
      "text/plain": [
       "0       NaN\n",
       "1       NaN\n",
       "2       NaN\n",
       "3       NaN\n",
       "4       NaN\n",
       "       ... \n",
       "3480    NaN\n",
       "3481    NaN\n",
       "3482    NaN\n",
       "3483    NaN\n",
       "3484    NaN\n",
       "Name: substitution_replacement_name, Length: 3485, dtype: object"
      ]
     },
     "execution_count": 26,
     "metadata": {},
     "output_type": "execute_result"
    }
   ],
   "source": []
  },
  {
   "cell_type": "code",
   "execution_count": 16,
   "id": "f9d70872-2fa9-434f-8e55-4690cfada6e9",
   "metadata": {},
   "outputs": [],
   "source": [
    "pass_data = (event_df.type_name == \"Pass\") & (event_df.team_name == match_info_dict[\"Home Team\"]) & (event_df.index < subs_hteam[0]) & (event_df.outcome_name.isnull()) & (event_df.sub_type_name != \"Throw-in\")\n",
    "#pass_data = event_df.loc[pass_data, [\"x\", \"y\", \"end_x\", \"end_y\", \"player_name\", \"pass_recipient_name\"]]"
   ]
  },
  {
   "cell_type": "code",
   "execution_count": 29,
   "id": "666508c4-bf98-4f6f-bc96-ff244446250b",
   "metadata": {},
   "outputs": [
    {
     "data": {
      "text/plain": [
       "1100    NaN\n",
       "1699    NaN\n",
       "1700    NaN\n",
       "3014    NaN\n",
       "3015    NaN\n",
       "3392    NaN\n",
       "3393    NaN\n",
       "3394    NaN\n",
       "3395    NaN\n",
       "Name: sub_type_name, dtype: object"
      ]
     },
     "execution_count": 29,
     "metadata": {},
     "output_type": "execute_result"
    }
   ],
   "source": [
    "event_df[event_df[\"type_name\"] == \"Substitution\"][\"sub_type_name\"]"
   ]
  },
  {
   "cell_type": "code",
   "execution_count": 15,
   "id": "1c757740-f5f6-4c5c-a7dd-68826db3e1b8",
   "metadata": {},
   "outputs": [
    {
     "data": {
      "text/plain": [
       "[1, 2, 3]"
      ]
     },
     "execution_count": 15,
     "metadata": {},
     "output_type": "execute_result"
    }
   ],
   "source": [
    "phase_idx"
   ]
  },
  {
   "cell_type": "code",
   "execution_count": 21,
   "id": "278e33a5-0326-4596-bc94-e871801cadeb",
   "metadata": {},
   "outputs": [
    {
     "data": {
      "text/html": [
       "<div>\n",
       "<style scoped>\n",
       "    .dataframe tbody tr th:only-of-type {\n",
       "        vertical-align: middle;\n",
       "    }\n",
       "\n",
       "    .dataframe tbody tr th {\n",
       "        vertical-align: top;\n",
       "    }\n",
       "\n",
       "    .dataframe thead th {\n",
       "        text-align: right;\n",
       "    }\n",
       "</style>\n",
       "<table border=\"1\" class=\"dataframe\">\n",
       "  <thead>\n",
       "    <tr style=\"text-align: right;\">\n",
       "      <th></th>\n",
       "      <th>x</th>\n",
       "      <th>y</th>\n",
       "      <th>end_x</th>\n",
       "      <th>end_y</th>\n",
       "      <th>player_name</th>\n",
       "      <th>pass_recipient_name</th>\n",
       "      <th>cosine</th>\n",
       "    </tr>\n",
       "  </thead>\n",
       "  <tbody>\n",
       "    <tr>\n",
       "      <th>22</th>\n",
       "      <td>50.1</td>\n",
       "      <td>16.3</td>\n",
       "      <td>37.1</td>\n",
       "      <td>24.1</td>\n",
       "      <td>Aké</td>\n",
       "      <td>Dijk</td>\n",
       "      <td>-0.8575</td>\n",
       "    </tr>\n",
       "  </tbody>\n",
       "</table>\n",
       "</div>"
      ],
      "text/plain": [
       "       x     y  end_x  end_y player_name pass_recipient_name  cosine\n",
       "22  50.1  16.3   37.1   24.1         Aké                Dijk -0.8575"
      ]
     },
     "execution_count": 21,
     "metadata": {},
     "output_type": "execute_result"
    }
   ],
   "source": [
    "pass_data.head(1)"
   ]
  },
  {
   "cell_type": "code",
   "execution_count": 19,
   "id": "7ebc7689-a604-4917-ad35-9daed88265d4",
   "metadata": {},
   "outputs": [
    {
     "data": {
      "text/plain": [
       "-0.8574929257125442"
      ]
     },
     "execution_count": 19,
     "metadata": {},
     "output_type": "execute_result"
    }
   ],
   "source": [
    "(37.1 - 50.1) /np.sqrt((37.1 - 50.1)**2 + (24.1 - 16.3)**2)"
   ]
  },
  {
   "cell_type": "code",
   "execution_count": 22,
   "id": "435c4f9d-7958-4217-b96f-d2132611b83f",
   "metadata": {},
   "outputs": [
    {
     "data": {
      "text/html": [
       "<div>\n",
       "<style scoped>\n",
       "    .dataframe tbody tr th:only-of-type {\n",
       "        vertical-align: middle;\n",
       "    }\n",
       "\n",
       "    .dataframe tbody tr th {\n",
       "        vertical-align: top;\n",
       "    }\n",
       "\n",
       "    .dataframe thead th {\n",
       "        text-align: right;\n",
       "    }\n",
       "</style>\n",
       "<table border=\"1\" class=\"dataframe\">\n",
       "  <thead>\n",
       "    <tr style=\"text-align: right;\">\n",
       "      <th></th>\n",
       "      <th>player_id</th>\n",
       "      <th>player_name</th>\n",
       "      <th>player_nickname</th>\n",
       "      <th>jersey_number</th>\n",
       "      <th>match_id</th>\n",
       "      <th>team_id</th>\n",
       "      <th>team_name</th>\n",
       "      <th>country_id</th>\n",
       "      <th>country_name</th>\n",
       "    </tr>\n",
       "  </thead>\n",
       "  <tbody>\n",
       "    <tr>\n",
       "      <th>0</th>\n",
       "      <td>2988</td>\n",
       "      <td>Memphis Depay</td>\n",
       "      <td>Memphis Depay</td>\n",
       "      <td>10</td>\n",
       "      <td>3942819</td>\n",
       "      <td>941</td>\n",
       "      <td>Netherlands</td>\n",
       "      <td>160</td>\n",
       "      <td>Netherlands</td>\n",
       "    </tr>\n",
       "    <tr>\n",
       "      <th>1</th>\n",
       "      <td>3306</td>\n",
       "      <td>Nathan Aké</td>\n",
       "      <td>Nathan Aké</td>\n",
       "      <td>5</td>\n",
       "      <td>3942819</td>\n",
       "      <td>941</td>\n",
       "      <td>Netherlands</td>\n",
       "      <td>160</td>\n",
       "      <td>Netherlands</td>\n",
       "    </tr>\n",
       "    <tr>\n",
       "      <th>2</th>\n",
       "      <td>3311</td>\n",
       "      <td>Daley Blind</td>\n",
       "      <td>Daley Blind</td>\n",
       "      <td>17</td>\n",
       "      <td>3942819</td>\n",
       "      <td>941</td>\n",
       "      <td>Netherlands</td>\n",
       "      <td>160</td>\n",
       "      <td>Netherlands</td>\n",
       "    </tr>\n",
       "    <tr>\n",
       "      <th>3</th>\n",
       "      <td>3567</td>\n",
       "      <td>Georginio Wijnaldum</td>\n",
       "      <td>Georginio Wijnaldum</td>\n",
       "      <td>8</td>\n",
       "      <td>3942819</td>\n",
       "      <td>941</td>\n",
       "      <td>Netherlands</td>\n",
       "      <td>160</td>\n",
       "      <td>Netherlands</td>\n",
       "    </tr>\n",
       "    <tr>\n",
       "      <th>4</th>\n",
       "      <td>3669</td>\n",
       "      <td>Virgil van Dijk</td>\n",
       "      <td>Virgil van Dijk</td>\n",
       "      <td>4</td>\n",
       "      <td>3942819</td>\n",
       "      <td>941</td>\n",
       "      <td>Netherlands</td>\n",
       "      <td>160</td>\n",
       "      <td>Netherlands</td>\n",
       "    </tr>\n",
       "  </tbody>\n",
       "</table>\n",
       "</div>"
      ],
      "text/plain": [
       "   player_id          player_name      player_nickname  jersey_number  \\\n",
       "0       2988        Memphis Depay        Memphis Depay             10   \n",
       "1       3306           Nathan Aké           Nathan Aké              5   \n",
       "2       3311          Daley Blind          Daley Blind             17   \n",
       "3       3567  Georginio Wijnaldum  Georginio Wijnaldum              8   \n",
       "4       3669      Virgil van Dijk      Virgil van Dijk              4   \n",
       "\n",
       "   match_id  team_id    team_name  country_id country_name  \n",
       "0   3942819      941  Netherlands         160  Netherlands  \n",
       "1   3942819      941  Netherlands         160  Netherlands  \n",
       "2   3942819      941  Netherlands         160  Netherlands  \n",
       "3   3942819      941  Netherlands         160  Netherlands  \n",
       "4   3942819      941  Netherlands         160  Netherlands  "
      ]
     },
     "execution_count": 22,
     "metadata": {},
     "output_type": "execute_result"
    }
   ],
   "source": [
    "lineups.head(5)"
   ]
  },
  {
   "cell_type": "code",
   "execution_count": 29,
   "id": "44379d95-202f-4f2a-aa41-5f1bd9472724",
   "metadata": {},
   "outputs": [],
   "source": [
    "def get_passing_data(event_data, lineup, team_name, phase_idx, subs_id):\n",
    "    '''\n",
    "    Creating the pass data frame from the event data for the selected phase\n",
    "\n",
    "    INPUT\n",
    "        event_data: pd.DataFrame with event data\n",
    "        lineup: pd.DataFrame with lineups to obtain jersey numbers\n",
    "        team_name: str\n",
    "        phase_idx: int, index that corresponds to the phase selected by user\n",
    "        subs_id: array, array of indices corresponding to substitution events\n",
    "\n",
    "    OUTPUT\n",
    "        pass_data: pd.DataFrame with x,y positions of passer and receiver\n",
    "    '''\n",
    "    if len(subs_id) == 0: # case of zero substitutions\n",
    "        start_idx, end_idx = 0, len(event_data)\n",
    "    else:\n",
    "        start_idx = 0 if phase_idx == 0 else subs_id[phase_idx - 1]\n",
    "        end_idx = subs_id[phase_idx] if phase_idx < len(subs_id) else len(event_data)\n",
    "\n",
    "    mask = (\n",
    "        (event_data.type_name == \"Pass\") &\n",
    "        (event_data.team_name == team_name) &\n",
    "        (event_data.outcome_name.isnull()) &\n",
    "        (event_data.sub_type_name != \"Throw-in\")\n",
    "    )\n",
    "\n",
    "    pass_data = event_data.loc[start_idx: end_idx, :].loc[mask, [\"x\", \"y\", \"end_x\", \"end_y\", \"player_id\", \"player_name\", \"pass_recipient_id\", \"pass_recipient_name\"]]\n",
    "\n",
    "    # Keep player surname only\n",
    "    pass_data[\"player_name\"] = pass_data[\"player_name\"].apply(lambda x: str(x).split()[-1])\n",
    "    pass_data[\"pass_recipient_name\"] = pass_data[\"pass_recipient_name\"].apply(lambda x: str(x).split()[-1])\n",
    "    \n",
    "    # Assign jersey number to passer according to lineups data frame\n",
    "    pass_data = pass_data.merge(\n",
    "        lineup[[\"player_id\", \"jersey_number\"]],\n",
    "        on = \"player_id\",\n",
    "        how = \"left\"\n",
    "    ).rename(columns = {\"jersey_number\": \"player_name_jersey\"})\n",
    "\n",
    "    # Assign jersey number to recipient according to lineups data frame\n",
    "    pass_data = pass_data.merge(\n",
    "        lineup[[\"player_id\", \"jersey_number\"]],\n",
    "        left_on = \"pass_recipient_id\",\n",
    "        right_on = \"player_id\",\n",
    "        how = \"left\",\n",
    "        suffixes = (\"\", \"_recipient\")\n",
    "    ).rename(columns = {\"jersey_number\": \"pass_recipient_jersey\"})\n",
    "\n",
    "    pass_data = pass_data.drop(columns = [\"player_id_recipient\"])\n",
    "\n",
    "    return pass_data"
   ]
  },
  {
   "cell_type": "code",
   "execution_count": 30,
   "id": "f231850e-ff40-4274-a329-323565398ec2",
   "metadata": {},
   "outputs": [],
   "source": [
    "passes = get_passing_data(event_df, lineups, match_info_dict[\"Home Team\"], 0, np.array([1101, 1701, 3396]))"
   ]
  },
  {
   "cell_type": "code",
   "execution_count": 31,
   "id": "bfecd61c-c476-4993-abed-d6dc7533627e",
   "metadata": {},
   "outputs": [
    {
     "data": {
      "text/plain": [
       "(92, 10)"
      ]
     },
     "execution_count": 31,
     "metadata": {},
     "output_type": "execute_result"
    }
   ],
   "source": [
    "passes.shape"
   ]
  },
  {
   "cell_type": "code",
   "execution_count": 2,
   "id": "9cf80847-a273-4fb9-8fbe-36b3b1e2aaac",
   "metadata": {},
   "outputs": [],
   "source": [
    "pitch = Pitch(pitch_type = \"statsbomb\")"
   ]
  },
  {
   "cell_type": "code",
   "execution_count": 7,
   "id": "b27fea02-6511-4170-a009-c9bd967127a8",
   "metadata": {},
   "outputs": [
    {
     "data": {
      "text/plain": [
       "{'pitch_type': 'statsbomb',\n",
       " 'half': False,\n",
       " 'pitch_color': 'white',\n",
       " 'line_color': '#b0b0b0',\n",
       " 'linewidth': 2,\n",
       " 'linestyle': None,\n",
       " 'spot_scale': 0.002,\n",
       " 'spot_type': 'circle',\n",
       " 'line_zorder': 0.9,\n",
       " 'stripe': False,\n",
       " 'stripe_color': '#c2d59d',\n",
       " 'stripe_zorder': 0.6,\n",
       " 'pad_left': 4,\n",
       " 'pad_right': 4,\n",
       " 'pad_bottom': 4,\n",
       " 'pad_top': 4,\n",
       " 'positional': False,\n",
       " 'positional_zorder': 0.8,\n",
       " 'positional_linewidth': 2,\n",
       " 'positional_linestyle': None,\n",
       " 'positional_color': '#eadddd',\n",
       " 'positional_alpha': 1,\n",
       " 'shade_middle': False,\n",
       " 'shade_color': '#f2f2f2',\n",
       " 'shade_alpha': 1,\n",
       " 'shade_zorder': 0.7,\n",
       " 'pitch_length': None,\n",
       " 'pitch_width': None,\n",
       " 'goal_type': 'line',\n",
       " 'goal_alpha': 1,\n",
       " 'goal_linestyle': None,\n",
       " 'line_alpha': 1,\n",
       " 'axis': False,\n",
       " 'label': False,\n",
       " 'tick': False,\n",
       " 'corner_arcs': False,\n",
       " 'diameter1': 20.0,\n",
       " 'diameter2': 20.0,\n",
       " 'diameter_spot1': 0.48,\n",
       " 'diameter_spot2': 0.48,\n",
       " 'diameter_corner1': 2.186,\n",
       " 'diameter_corner2': 2.186,\n",
       " 'arc1_theta1': -53.05,\n",
       " 'arc1_theta2': 53.05,\n",
       " 'arc2_theta1': 126.95,\n",
       " 'arc2_theta2': 233.05,\n",
       " 'extent': array([ -4., 124.,  84.,  -4.], dtype=float32),\n",
       " 'visible_pitch': array([  0., 120.,  80.,   0.], dtype=float32),\n",
       " 'ax_aspect': 1.4545454545454546,\n",
       " 'aspect': 1.0,\n",
       " 'kde_clip': ((0.0, 120.0), (80.0, 0.0)),\n",
       " 'hexbin_gridsize': (17, 8),\n",
       " 'hex_extent': array([  0., 120.,   0.,  80.], dtype=float32),\n",
       " 'vertical': False,\n",
       " 'reverse_cmap': True,\n",
       " 'standardizer': Standardizer(pitch_from=statsbomb, pitch_to=custom, length_from=None, width_from=None, length_to=105, width_to=68),\n",
       " 'dim': FixedDims(pitch_width=80.0, pitch_length=120.0, goal_width=8.0, goal_length=2.4, six_yard_width=20.0, six_yard_length=6.0, penalty_area_width=44.0, penalty_area_length=18.0, circle_diameter=20.0, corner_diameter=2.186, arc=53.05, invert_y=True, origin_center=False, pad_default=4, pad_multiplier=1, aspect_equal=True, left=0.0, right=120.0, bottom=80.0, top=0.0, aspect=1.0, width=80.0, length=120.0, goal_bottom=44.0, goal_top=36.0, six_yard_left=6.0, six_yard_right=114.0, six_yard_bottom=50.0, six_yard_top=30.0, penalty_spot_distance=12.0, penalty_left=12.0, penalty_right=108.0, penalty_area_left=18.0, penalty_area_right=102.0, penalty_area_bottom=62.0, penalty_area_top=18.0, center_width=40.0, center_length=60.0, x_markings_sorted=array([  0.,   6.,  12.,  18.,  60., 102., 108., 114., 120.]), y_markings_sorted=array([ 0., 18., 30., 36., 44., 50., 62., 80.]), pitch_extent=array([  0., 120.,   0.,  80.]), positional_x=array([  0.,  18.,  39.,  60.,  81., 102., 120.]), positional_y=array([ 0., 18., 30., 50., 62., 80.]), stripe_locations=array([  0. ,   6. ,  12. ,  18. ,  24. ,  31.2,  38.4,  45.6,  52.8,\n",
       "         60. ,  67.2,  74.4,  81.6,  88.8,  96. , 102. , 108. , 114. ,\n",
       "        120. ]), position_line4=PositionLine4(GK=Coordinate(x=12.0, y=40.0, x_flip=108.0, y_flip=40.0, x_half=3.0, y_half=40.0, x_half_flip=117.0, y_half_flip=40.0), RB=Coordinate(x=31.2, y=70.0, x_flip=88.8, y_flip=10.0, x_half=13.2, y_half=70.0, x_half_flip=106.8, y_half_flip=10.0), RCB=Coordinate(x=31.2, y=50.0, x_flip=88.8, y_flip=30.0, x_half=13.2, y_half=50.0, x_half_flip=106.8, y_half_flip=30.0), LCB=Coordinate(x=31.2, y=30.0, x_flip=88.8, y_flip=50.0, x_half=13.2, y_half=30.0, x_half_flip=106.8, y_half_flip=50.0), LB=Coordinate(x=31.2, y=10.0, x_flip=88.8, y_flip=70.0, x_half=13.2, y_half=10.0, x_half_flip=106.8, y_half_flip=70.0), RWB=Coordinate(x=50.4, y=70.0, x_flip=69.6, y_flip=10.0, x_half=23.4, y_half=70.0, x_half_flip=96.6, y_half_flip=10.0), RDM=Coordinate(x=50.4, y=50.0, x_flip=69.6, y_flip=30.0, x_half=23.4, y_half=50.0, x_half_flip=96.6, y_half_flip=30.0), LDM=Coordinate(x=50.4, y=30.0, x_flip=69.6, y_flip=50.0, x_half=23.4, y_half=30.0, x_half_flip=96.6, y_half_flip=50.0), LWB=Coordinate(x=50.4, y=10.0, x_flip=69.6, y_flip=70.0, x_half=23.4, y_half=10.0, x_half_flip=96.6, y_half_flip=70.0), RM=Coordinate(x=69.6, y=70.0, x_flip=50.400000000000006, y_flip=10.0, x_half=33.599999999999994, y_half=70.0, x_half_flip=86.4, y_half_flip=10.0), RCM=Coordinate(x=69.6, y=50.0, x_flip=50.400000000000006, y_flip=30.0, x_half=33.599999999999994, y_half=50.0, x_half_flip=86.4, y_half_flip=30.0), LCM=Coordinate(x=69.6, y=30.0, x_flip=50.400000000000006, y_flip=50.0, x_half=33.599999999999994, y_half=30.0, x_half_flip=86.4, y_half_flip=50.0), LM=Coordinate(x=69.6, y=10.0, x_flip=50.400000000000006, y_flip=70.0, x_half=33.599999999999994, y_half=10.0, x_half_flip=86.4, y_half_flip=70.0), RW=Coordinate(x=88.8, y=70.0, x_flip=31.200000000000003, y_flip=10.0, x_half=43.8, y_half=70.0, x_half_flip=76.2, y_half_flip=10.0), RAM=Coordinate(x=88.8, y=50.0, x_flip=31.200000000000003, y_flip=30.0, x_half=43.8, y_half=50.0, x_half_flip=76.2, y_half_flip=30.0), LAM=Coordinate(x=88.8, y=30.0, x_flip=31.200000000000003, y_flip=50.0, x_half=43.8, y_half=30.0, x_half_flip=76.2, y_half_flip=50.0), LW=Coordinate(x=88.8, y=10.0, x_flip=31.200000000000003, y_flip=70.0, x_half=43.8, y_half=10.0, x_half_flip=76.2, y_half_flip=70.0), RCF=Coordinate(x=108.0, y=50.0, x_flip=12.0, y_flip=30.0, x_half=54.0, y_half=50.0, x_half_flip=66.0, y_half_flip=30.0), LCF=Coordinate(x=108.0, y=30.0, x_flip=12.0, y_flip=50.0, x_half=54.0, y_half=30.0, x_half_flip=66.0, y_half_flip=50.0)), position_line5=PositionLine5(GK=Coordinate(x=12.0, y=40.0, x_flip=108.0, y_flip=40.0, x_half=3.0, y_half=40.0, x_half_flip=117.0, y_half_flip=40.0), RB=Coordinate(x=31.2, y=72.0, x_flip=88.8, y_flip=8.0, x_half=13.2, y_half=72.0, x_half_flip=106.8, y_half_flip=8.0), RCB=Coordinate(x=31.2, y=56.0, x_flip=88.8, y_flip=24.0, x_half=13.2, y_half=56.0, x_half_flip=106.8, y_half_flip=24.0), CB=Coordinate(x=31.2, y=40.0, x_flip=88.8, y_flip=40.0, x_half=13.2, y_half=40.0, x_half_flip=106.8, y_half_flip=40.0), LCB=Coordinate(x=31.2, y=24.0, x_flip=88.8, y_flip=56.0, x_half=13.2, y_half=24.0, x_half_flip=106.8, y_half_flip=56.0), LB=Coordinate(x=31.2, y=8.0, x_flip=88.8, y_flip=72.0, x_half=13.2, y_half=8.0, x_half_flip=106.8, y_half_flip=72.0), RWB=Coordinate(x=50.4, y=72.0, x_flip=69.6, y_flip=8.0, x_half=23.4, y_half=72.0, x_half_flip=96.6, y_half_flip=8.0), RDM=Coordinate(x=50.4, y=56.0, x_flip=69.6, y_flip=24.0, x_half=23.4, y_half=56.0, x_half_flip=96.6, y_half_flip=24.0), CDM=Coordinate(x=50.4, y=40.0, x_flip=69.6, y_flip=40.0, x_half=23.4, y_half=40.0, x_half_flip=96.6, y_half_flip=40.0), LDM=Coordinate(x=50.4, y=24.0, x_flip=69.6, y_flip=56.0, x_half=23.4, y_half=24.0, x_half_flip=96.6, y_half_flip=56.0), LWB=Coordinate(x=50.4, y=8.0, x_flip=69.6, y_flip=72.0, x_half=23.4, y_half=8.0, x_half_flip=96.6, y_half_flip=72.0), RM=Coordinate(x=69.6, y=72.0, x_flip=50.400000000000006, y_flip=8.0, x_half=33.599999999999994, y_half=72.0, x_half_flip=86.4, y_half_flip=8.0), RCM=Coordinate(x=69.6, y=56.0, x_flip=50.400000000000006, y_flip=24.0, x_half=33.599999999999994, y_half=56.0, x_half_flip=86.4, y_half_flip=24.0), CM=Coordinate(x=69.6, y=40.0, x_flip=50.400000000000006, y_flip=40.0, x_half=33.599999999999994, y_half=40.0, x_half_flip=86.4, y_half_flip=40.0), LCM=Coordinate(x=69.6, y=24.0, x_flip=50.400000000000006, y_flip=56.0, x_half=33.599999999999994, y_half=24.0, x_half_flip=86.4, y_half_flip=56.0), LM=Coordinate(x=69.6, y=8.0, x_flip=50.400000000000006, y_flip=72.0, x_half=33.599999999999994, y_half=8.0, x_half_flip=86.4, y_half_flip=72.0), RW=Coordinate(x=88.8, y=72.0, x_flip=31.200000000000003, y_flip=8.0, x_half=43.8, y_half=72.0, x_half_flip=76.2, y_half_flip=8.0), RAM=Coordinate(x=88.8, y=56.0, x_flip=31.200000000000003, y_flip=24.0, x_half=43.8, y_half=56.0, x_half_flip=76.2, y_half_flip=24.0), CAM=Coordinate(x=88.8, y=40.0, x_flip=31.200000000000003, y_flip=40.0, x_half=43.8, y_half=40.0, x_half_flip=76.2, y_half_flip=40.0), LAM=Coordinate(x=88.8, y=24.0, x_flip=31.200000000000003, y_flip=56.0, x_half=43.8, y_half=24.0, x_half_flip=76.2, y_half_flip=56.0), LW=Coordinate(x=88.8, y=8.0, x_flip=31.200000000000003, y_flip=72.0, x_half=43.8, y_half=8.0, x_half_flip=76.2, y_half_flip=72.0), RCF=Coordinate(x=108.0, y=56.0, x_flip=12.0, y_flip=24.0, x_half=54.0, y_half=56.0, x_half_flip=66.0, y_half_flip=24.0), ST=Coordinate(x=108.0, y=40.0, x_flip=12.0, y_flip=40.0, x_half=54.0, y_half=40.0, x_half_flip=66.0, y_half_flip=40.0), LCF=Coordinate(x=108.0, y=24.0, x_flip=12.0, y_flip=56.0, x_half=54.0, y_half=24.0, x_half_flip=66.0, y_half_flip=56.0)), position_line4_with_ss=PositionLine4(GK=Coordinate(x=12.0, y=40.0, x_flip=108.0, y_flip=40.0, x_half=3.0, y_half=40.0, x_half_flip=117.0, y_half_flip=40.0), RB=Coordinate(x=28.0, y=70.0, x_flip=92.0, y_flip=10.0, x_half=11.5, y_half=70.0, x_half_flip=108.5, y_half_flip=10.0), RCB=Coordinate(x=28.0, y=50.0, x_flip=92.0, y_flip=30.0, x_half=11.5, y_half=50.0, x_half_flip=108.5, y_half_flip=30.0), LCB=Coordinate(x=28.0, y=30.0, x_flip=92.0, y_flip=50.0, x_half=11.5, y_half=30.0, x_half_flip=108.5, y_half_flip=50.0), LB=Coordinate(x=28.0, y=10.0, x_flip=92.0, y_flip=70.0, x_half=11.5, y_half=10.0, x_half_flip=108.5, y_half_flip=70.0), RWB=Coordinate(x=44.0, y=70.0, x_flip=76.0, y_flip=10.0, x_half=20.0, y_half=70.0, x_half_flip=100.0, y_half_flip=10.0), RDM=Coordinate(x=44.0, y=50.0, x_flip=76.0, y_flip=30.0, x_half=20.0, y_half=50.0, x_half_flip=100.0, y_half_flip=30.0), LDM=Coordinate(x=44.0, y=30.0, x_flip=76.0, y_flip=50.0, x_half=20.0, y_half=30.0, x_half_flip=100.0, y_half_flip=50.0), LWB=Coordinate(x=44.0, y=10.0, x_flip=76.0, y_flip=70.0, x_half=20.0, y_half=10.0, x_half_flip=100.0, y_half_flip=70.0), RM=Coordinate(x=60.0, y=70.0, x_flip=60.0, y_flip=10.0, x_half=28.5, y_half=70.0, x_half_flip=91.5, y_half_flip=10.0), RCM=Coordinate(x=60.0, y=50.0, x_flip=60.0, y_flip=30.0, x_half=28.5, y_half=50.0, x_half_flip=91.5, y_half_flip=30.0), LCM=Coordinate(x=60.0, y=30.0, x_flip=60.0, y_flip=50.0, x_half=28.5, y_half=30.0, x_half_flip=91.5, y_half_flip=50.0), LM=Coordinate(x=60.0, y=10.0, x_flip=60.0, y_flip=70.0, x_half=28.5, y_half=10.0, x_half_flip=91.5, y_half_flip=70.0), RW=Coordinate(x=76.0, y=70.0, x_flip=44.0, y_flip=10.0, x_half=37.0, y_half=70.0, x_half_flip=83.0, y_half_flip=10.0), RAM=Coordinate(x=76.0, y=50.0, x_flip=44.0, y_flip=30.0, x_half=37.0, y_half=50.0, x_half_flip=83.0, y_half_flip=30.0), LAM=Coordinate(x=76.0, y=30.0, x_flip=44.0, y_flip=50.0, x_half=37.0, y_half=30.0, x_half_flip=83.0, y_half_flip=50.0), LW=Coordinate(x=76.0, y=10.0, x_flip=44.0, y_flip=70.0, x_half=37.0, y_half=10.0, x_half_flip=83.0, y_half_flip=70.0), RCF=Coordinate(x=108.0, y=50.0, x_flip=12.0, y_flip=30.0, x_half=54.0, y_half=50.0, x_half_flip=66.0, y_half_flip=30.0), LCF=Coordinate(x=108.0, y=30.0, x_flip=12.0, y_flip=50.0, x_half=54.0, y_half=30.0, x_half_flip=66.0, y_half_flip=50.0)), position_line5_with_ss=PositionLine5WithSecondStriker(GK=Coordinate(x=12.0, y=40.0, x_flip=108.0, y_flip=40.0, x_half=3.0, y_half=40.0, x_half_flip=117.0, y_half_flip=40.0), RB=Coordinate(x=28.0, y=72.0, x_flip=92.0, y_flip=8.0, x_half=11.5, y_half=72.0, x_half_flip=108.5, y_half_flip=8.0), RCB=Coordinate(x=28.0, y=56.0, x_flip=92.0, y_flip=24.0, x_half=11.5, y_half=56.0, x_half_flip=108.5, y_half_flip=24.0), CB=Coordinate(x=28.0, y=40.0, x_flip=92.0, y_flip=40.0, x_half=11.5, y_half=40.0, x_half_flip=108.5, y_half_flip=40.0), LCB=Coordinate(x=28.0, y=24.0, x_flip=92.0, y_flip=56.0, x_half=11.5, y_half=24.0, x_half_flip=108.5, y_half_flip=56.0), LB=Coordinate(x=28.0, y=8.0, x_flip=92.0, y_flip=72.0, x_half=11.5, y_half=8.0, x_half_flip=108.5, y_half_flip=72.0), RWB=Coordinate(x=44.0, y=72.0, x_flip=76.0, y_flip=8.0, x_half=20.0, y_half=72.0, x_half_flip=100.0, y_half_flip=8.0), RDM=Coordinate(x=44.0, y=56.0, x_flip=76.0, y_flip=24.0, x_half=20.0, y_half=56.0, x_half_flip=100.0, y_half_flip=24.0), CDM=Coordinate(x=44.0, y=40.0, x_flip=76.0, y_flip=40.0, x_half=20.0, y_half=40.0, x_half_flip=100.0, y_half_flip=40.0), LDM=Coordinate(x=44.0, y=24.0, x_flip=76.0, y_flip=56.0, x_half=20.0, y_half=24.0, x_half_flip=100.0, y_half_flip=56.0), LWB=Coordinate(x=44.0, y=8.0, x_flip=76.0, y_flip=72.0, x_half=20.0, y_half=8.0, x_half_flip=100.0, y_half_flip=72.0), RM=Coordinate(x=60.0, y=72.0, x_flip=60.0, y_flip=8.0, x_half=28.5, y_half=72.0, x_half_flip=91.5, y_half_flip=8.0), RCM=Coordinate(x=60.0, y=56.0, x_flip=60.0, y_flip=24.0, x_half=28.5, y_half=56.0, x_half_flip=91.5, y_half_flip=24.0), CM=Coordinate(x=60.0, y=40.0, x_flip=60.0, y_flip=40.0, x_half=28.5, y_half=40.0, x_half_flip=91.5, y_half_flip=40.0), LCM=Coordinate(x=60.0, y=24.0, x_flip=60.0, y_flip=56.0, x_half=28.5, y_half=24.0, x_half_flip=91.5, y_half_flip=56.0), LM=Coordinate(x=60.0, y=8.0, x_flip=60.0, y_flip=72.0, x_half=28.5, y_half=8.0, x_half_flip=91.5, y_half_flip=72.0), RW=Coordinate(x=76.0, y=72.0, x_flip=44.0, y_flip=8.0, x_half=37.0, y_half=72.0, x_half_flip=83.0, y_half_flip=8.0), RAM=Coordinate(x=76.0, y=56.0, x_flip=44.0, y_flip=24.0, x_half=37.0, y_half=56.0, x_half_flip=83.0, y_half_flip=24.0), CAM=Coordinate(x=76.0, y=40.0, x_flip=44.0, y_flip=40.0, x_half=37.0, y_half=40.0, x_half_flip=83.0, y_half_flip=40.0), LAM=Coordinate(x=76.0, y=24.0, x_flip=44.0, y_flip=56.0, x_half=37.0, y_half=24.0, x_half_flip=83.0, y_half_flip=56.0), LW=Coordinate(x=76.0, y=8.0, x_flip=44.0, y_flip=72.0, x_half=37.0, y_half=8.0, x_half_flip=83.0, y_half_flip=72.0), RCF=Coordinate(x=108.0, y=56.0, x_flip=12.0, y_flip=24.0, x_half=54.0, y_half=56.0, x_half_flip=66.0, y_half_flip=24.0), ST=Coordinate(x=108.0, y=40.0, x_flip=12.0, y_flip=40.0, x_half=54.0, y_half=40.0, x_half_flip=66.0, y_half_flip=40.0), LCF=Coordinate(x=108.0, y=24.0, x_flip=12.0, y_flip=56.0, x_half=54.0, y_half=24.0, x_half_flip=66.0, y_half_flip=56.0), SS=Coordinate(x=92.0, y=40.0, x_flip=28.0, y_flip=40.0, x_half=45.5, y_half=40.0, x_half_flip=74.5, y_half_flip=40.0)), formations={'442': [Position(name='GK', statsbomb=[1], opta=1, wyscout='gk', x=12.0, y=40.0, x_flip=108.0, y_flip=40.0, x_half=3.0, y_half=40.0, x_half_flip=117.0, y_half_flip=40.0), Position(name='RB', statsbomb=[2], opta=2, wyscout='rb', x=31.2, y=70.0, x_flip=88.8, y_flip=10.0, x_half=13.2, y_half=70.0, x_half_flip=106.8, y_half_flip=10.0), Position(name='RCB', statsbomb=[3], opta=5, wyscout='rcb', x=31.2, y=50.0, x_flip=88.8, y_flip=30.0, x_half=13.2, y_half=50.0, x_half_flip=106.8, y_half_flip=30.0), Position(name='LCB', statsbomb=[5], opta=6, wyscout='lcb', x=31.2, y=30.0, x_flip=88.8, y_flip=50.0, x_half=13.2, y_half=30.0, x_half_flip=106.8, y_half_flip=50.0), Position(name='LB', statsbomb=[6], opta=3, wyscout='lb', x=31.2, y=10.0, x_flip=88.8, y_flip=70.0, x_half=13.2, y_half=10.0, x_half_flip=106.8, y_half_flip=70.0), Position(name='RM', statsbomb=[12, 17], opta=7, wyscout='rw', x=69.6, y=70.0, x_flip=50.400000000000006, y_flip=10.0, x_half=33.599999999999994, y_half=70.0, x_half_flip=86.4, y_half_flip=10.0), Position(name='RCM', statsbomb=[13, 9], opta=4, wyscout='rcmf', x=69.6, y=50.0, x_flip=50.400000000000006, y_flip=30.0, x_half=33.599999999999994, y_half=50.0, x_half_flip=86.4, y_half_flip=30.0), Position(name='LCM', statsbomb=[15, 11], opta=8, wyscout='lcmf', x=69.6, y=30.0, x_flip=50.400000000000006, y_flip=50.0, x_half=33.599999999999994, y_half=30.0, x_half_flip=86.4, y_half_flip=50.0), Position(name='LM', statsbomb=[16, 21], opta=11, wyscout='lw', x=69.6, y=10.0, x_flip=50.400000000000006, y_flip=70.0, x_half=33.599999999999994, y_half=10.0, x_half_flip=86.4, y_half_flip=70.0), Position(name='RCF', statsbomb=[22], opta=10, wyscout='ss', x=108.0, y=50.0, x_flip=12.0, y_flip=30.0, x_half=54.0, y_half=50.0, x_half_flip=66.0, y_half_flip=30.0), Position(name='LCF', statsbomb=[24], opta=9, wyscout='cf', x=108.0, y=30.0, x_flip=12.0, y_flip=50.0, x_half=54.0, y_half=30.0, x_half_flip=66.0, y_half_flip=50.0)], '41212': [Position(name='GK', statsbomb=[1], opta=1, wyscout=None, x=12.0, y=40.0, x_flip=108.0, y_flip=40.0, x_half=3.0, y_half=40.0, x_half_flip=117.0, y_half_flip=40.0), Position(name='RB', statsbomb=[2], opta=2, wyscout=None, x=31.2, y=70.0, x_flip=88.8, y_flip=10.0, x_half=13.2, y_half=70.0, x_half_flip=106.8, y_half_flip=10.0), Position(name='RCB', statsbomb=[3], opta=5, wyscout=None, x=31.2, y=50.0, x_flip=88.8, y_flip=30.0, x_half=13.2, y_half=50.0, x_half_flip=106.8, y_half_flip=30.0), Position(name='LCB', statsbomb=[5], opta=6, wyscout=None, x=31.2, y=30.0, x_flip=88.8, y_flip=50.0, x_half=13.2, y_half=30.0, x_half_flip=106.8, y_half_flip=50.0), Position(name='LB', statsbomb=[6], opta=3, wyscout=None, x=31.2, y=10.0, x_flip=88.8, y_flip=70.0, x_half=13.2, y_half=10.0, x_half_flip=106.8, y_half_flip=70.0), Position(name='CDM', statsbomb=[10], opta=4, wyscout=None, x=50.4, y=40.0, x_flip=69.6, y_flip=40.0, x_half=23.4, y_half=40.0, x_half_flip=96.6, y_half_flip=40.0), Position(name='RCM', statsbomb=[13, 12], opta=7, wyscout=None, x=69.6, y=56.0, x_flip=50.400000000000006, y_flip=24.0, x_half=33.599999999999994, y_half=56.0, x_half_flip=86.4, y_half_flip=24.0), Position(name='LCM', statsbomb=[15, 16], opta=11, wyscout=None, x=69.6, y=24.0, x_flip=50.400000000000006, y_flip=56.0, x_half=33.599999999999994, y_half=24.0, x_half_flip=86.4, y_half_flip=56.0), Position(name='CAM', statsbomb=[19, 25], opta=8, wyscout=None, x=88.8, y=40.0, x_flip=31.200000000000003, y_flip=40.0, x_half=43.8, y_half=40.0, x_half_flip=76.2, y_half_flip=40.0), Position(name='RCF', statsbomb=[22], opta=10, wyscout=None, x=108.0, y=50.0, x_flip=12.0, y_flip=30.0, x_half=54.0, y_half=50.0, x_half_flip=66.0, y_half_flip=30.0), Position(name='LCF', statsbomb=[24], opta=9, wyscout=None, x=108.0, y=30.0, x_flip=12.0, y_flip=50.0, x_half=54.0, y_half=30.0, x_half_flip=66.0, y_half_flip=50.0)], '433': [Position(name='GK', statsbomb=[1], opta=1, wyscout='gk', x=12.0, y=40.0, x_flip=108.0, y_flip=40.0, x_half=3.0, y_half=40.0, x_half_flip=117.0, y_half_flip=40.0), Position(name='RB', statsbomb=[2], opta=2, wyscout='rb', x=31.2, y=70.0, x_flip=88.8, y_flip=10.0, x_half=13.2, y_half=70.0, x_half_flip=106.8, y_half_flip=10.0), Position(name='RCB', statsbomb=[3], opta=5, wyscout='rcb', x=31.2, y=50.0, x_flip=88.8, y_flip=30.0, x_half=13.2, y_half=50.0, x_half_flip=106.8, y_half_flip=30.0), Position(name='LCB', statsbomb=[5], opta=6, wyscout='lcb', x=31.2, y=30.0, x_flip=88.8, y_flip=50.0, x_half=13.2, y_half=30.0, x_half_flip=106.8, y_half_flip=50.0), Position(name='LB', statsbomb=[6], opta=3, wyscout='lb', x=31.2, y=10.0, x_flip=88.8, y_flip=70.0, x_half=13.2, y_half=10.0, x_half_flip=106.8, y_half_flip=70.0), Position(name='CDM', statsbomb=[10, 14], opta=4, wyscout='dmf', x=50.4, y=40.0, x_flip=69.6, y_flip=40.0, x_half=23.4, y_half=40.0, x_half_flip=96.6, y_half_flip=40.0), Position(name='RCM', statsbomb=[13, 12, 9], opta=7, wyscout='rcmf3', x=69.6, y=56.0, x_flip=50.400000000000006, y_flip=24.0, x_half=33.599999999999994, y_half=56.0, x_half_flip=86.4, y_half_flip=24.0), Position(name='LCM', statsbomb=[15, 16, 11], opta=8, wyscout='lcmf3', x=69.6, y=24.0, x_flip=50.400000000000006, y_flip=56.0, x_half=33.599999999999994, y_half=24.0, x_half_flip=86.4, y_half_flip=56.0), Position(name='RW', statsbomb=[17, 22], opta=10, wyscout='rwf', x=88.8, y=72.0, x_flip=31.200000000000003, y_flip=8.0, x_half=43.8, y_half=72.0, x_half_flip=76.2, y_half_flip=8.0), Position(name='LW', statsbomb=[21, 24], opta=11, wyscout='lwf', x=88.8, y=8.0, x_flip=31.200000000000003, y_flip=72.0, x_half=43.8, y_half=8.0, x_half_flip=76.2, y_half_flip=72.0), Position(name='ST', statsbomb=[23, 25, 19], opta=9, wyscout='cf', x=108.0, y=40.0, x_flip=12.0, y_flip=40.0, x_half=54.0, y_half=40.0, x_half_flip=66.0, y_half_flip=40.0)], '451': [Position(name='GK', statsbomb=[1], opta=1, wyscout='gk', x=12.0, y=40.0, x_flip=108.0, y_flip=40.0, x_half=3.0, y_half=40.0, x_half_flip=117.0, y_half_flip=40.0), Position(name='RB', statsbomb=[2], opta=2, wyscout='rb', x=31.2, y=70.0, x_flip=88.8, y_flip=10.0, x_half=13.2, y_half=70.0, x_half_flip=106.8, y_half_flip=10.0), Position(name='RCB', statsbomb=[3], opta=5, wyscout='rcb', x=31.2, y=50.0, x_flip=88.8, y_flip=30.0, x_half=13.2, y_half=50.0, x_half_flip=106.8, y_half_flip=30.0), Position(name='LCB', statsbomb=[5], opta=6, wyscout='lcb', x=31.2, y=30.0, x_flip=88.8, y_flip=50.0, x_half=13.2, y_half=30.0, x_half_flip=106.8, y_half_flip=50.0), Position(name='LB', statsbomb=[6], opta=3, wyscout='lb', x=31.2, y=10.0, x_flip=88.8, y_flip=70.0, x_half=13.2, y_half=10.0, x_half_flip=106.8, y_half_flip=70.0), Position(name='RM', statsbomb=[12, 17], opta=7, wyscout='rw', x=69.6, y=72.0, x_flip=50.400000000000006, y_flip=8.0, x_half=33.599999999999994, y_half=72.0, x_half_flip=86.4, y_half_flip=8.0), Position(name='RCM', statsbomb=[13, 9], opta=4, wyscout='rcmf3', x=69.6, y=56.0, x_flip=50.400000000000006, y_flip=24.0, x_half=33.599999999999994, y_half=56.0, x_half_flip=86.4, y_half_flip=24.0), Position(name='CM', statsbomb=[10, 14, 19], opta=10, wyscout='dmf', x=69.6, y=40.0, x_flip=50.400000000000006, y_flip=40.0, x_half=33.599999999999994, y_half=40.0, x_half_flip=86.4, y_half_flip=40.0), Position(name='LCM', statsbomb=[15, 11], opta=8, wyscout='lcmf3', x=69.6, y=24.0, x_flip=50.400000000000006, y_flip=56.0, x_half=33.599999999999994, y_half=24.0, x_half_flip=86.4, y_half_flip=56.0), Position(name='LM', statsbomb=[16, 21], opta=11, wyscout='lw', x=69.6, y=8.0, x_flip=50.400000000000006, y_flip=72.0, x_half=33.599999999999994, y_half=8.0, x_half_flip=86.4, y_half_flip=72.0), Position(name='ST', statsbomb=[23, 25], opta=9, wyscout='cf', x=108.0, y=40.0, x_flip=12.0, y_flip=40.0, x_half=54.0, y_half=40.0, x_half_flip=66.0, y_half_flip=40.0)], '4411': [Position(name='GK', statsbomb=[1], opta=1, wyscout='gk', x=12.0, y=40.0, x_flip=108.0, y_flip=40.0, x_half=3.0, y_half=40.0, x_half_flip=117.0, y_half_flip=40.0), Position(name='RB', statsbomb=[2], opta=2, wyscout='rb', x=31.2, y=70.0, x_flip=88.8, y_flip=10.0, x_half=13.2, y_half=70.0, x_half_flip=106.8, y_half_flip=10.0), Position(name='RCB', statsbomb=[3], opta=5, wyscout='rcb', x=31.2, y=50.0, x_flip=88.8, y_flip=30.0, x_half=13.2, y_half=50.0, x_half_flip=106.8, y_half_flip=30.0), Position(name='LCB', statsbomb=[5], opta=6, wyscout='lcb', x=31.2, y=30.0, x_flip=88.8, y_flip=50.0, x_half=13.2, y_half=30.0, x_half_flip=106.8, y_half_flip=50.0), Position(name='LB', statsbomb=[6], opta=3, wyscout='lb', x=31.2, y=10.0, x_flip=88.8, y_flip=70.0, x_half=13.2, y_half=10.0, x_half_flip=106.8, y_half_flip=70.0), Position(name='RM', statsbomb=[12, 17], opta=7, wyscout='rw', x=69.6, y=70.0, x_flip=50.400000000000006, y_flip=10.0, x_half=33.599999999999994, y_half=70.0, x_half_flip=86.4, y_half_flip=10.0), Position(name='RCM', statsbomb=[9, 13], opta=4, wyscout='rcmf', x=69.6, y=50.0, x_flip=50.400000000000006, y_flip=30.0, x_half=33.599999999999994, y_half=50.0, x_half_flip=86.4, y_half_flip=30.0), Position(name='LCM', statsbomb=[11, 15], opta=8, wyscout='lcmf', x=69.6, y=30.0, x_flip=50.400000000000006, y_flip=50.0, x_half=33.599999999999994, y_half=30.0, x_half_flip=86.4, y_half_flip=50.0), Position(name='LM', statsbomb=[16, 21], opta=11, wyscout='lw', x=69.6, y=10.0, x_flip=50.400000000000006, y_flip=70.0, x_half=33.599999999999994, y_half=10.0, x_half_flip=86.4, y_half_flip=70.0), Position(name='CAM', statsbomb=[19, 25], opta=10, wyscout='amf', x=88.8, y=40.0, x_flip=31.200000000000003, y_flip=40.0, x_half=43.8, y_half=40.0, x_half_flip=76.2, y_half_flip=40.0), Position(name='ST', statsbomb=[23], opta=9, wyscout='cf', x=108.0, y=40.0, x_flip=12.0, y_flip=40.0, x_half=54.0, y_half=40.0, x_half_flip=66.0, y_half_flip=40.0)], '4141': [Position(name='GK', statsbomb=[1], opta=1, wyscout='gk', x=12.0, y=40.0, x_flip=108.0, y_flip=40.0, x_half=3.0, y_half=40.0, x_half_flip=117.0, y_half_flip=40.0), Position(name='RB', statsbomb=[2], opta=2, wyscout='rb', x=31.2, y=70.0, x_flip=88.8, y_flip=10.0, x_half=13.2, y_half=70.0, x_half_flip=106.8, y_half_flip=10.0), Position(name='RCB', statsbomb=[3], opta=5, wyscout='rcb', x=31.2, y=50.0, x_flip=88.8, y_flip=30.0, x_half=13.2, y_half=50.0, x_half_flip=106.8, y_half_flip=30.0), Position(name='LCB', statsbomb=[5], opta=6, wyscout='lcb', x=31.2, y=30.0, x_flip=88.8, y_flip=50.0, x_half=13.2, y_half=30.0, x_half_flip=106.8, y_half_flip=50.0), Position(name='LB', statsbomb=[6], opta=3, wyscout='lb', x=31.2, y=10.0, x_flip=88.8, y_flip=70.0, x_half=13.2, y_half=10.0, x_half_flip=106.8, y_half_flip=70.0), Position(name='CDM', statsbomb=[10, 14], opta=4, wyscout='dmf', x=50.4, y=40.0, x_flip=69.6, y_flip=40.0, x_half=23.4, y_half=40.0, x_half_flip=96.6, y_half_flip=40.0), Position(name='RM', statsbomb=[12, 17], opta=7, wyscout='rw', x=69.6, y=70.0, x_flip=50.400000000000006, y_flip=10.0, x_half=33.599999999999994, y_half=70.0, x_half_flip=86.4, y_half_flip=10.0), Position(name='RCM', statsbomb=[13, 18], opta=8, wyscout='rcmf', x=69.6, y=50.0, x_flip=50.400000000000006, y_flip=30.0, x_half=33.599999999999994, y_half=50.0, x_half_flip=86.4, y_half_flip=30.0), Position(name='LCM', statsbomb=[15, 20], opta=10, wyscout='lcmf', x=69.6, y=30.0, x_flip=50.400000000000006, y_flip=50.0, x_half=33.599999999999994, y_half=30.0, x_half_flip=86.4, y_half_flip=50.0), Position(name='LM', statsbomb=[16, 21], opta=11, wyscout='lw', x=69.6, y=10.0, x_flip=50.400000000000006, y_flip=70.0, x_half=33.599999999999994, y_half=10.0, x_half_flip=86.4, y_half_flip=70.0), Position(name='ST', statsbomb=[23], opta=9, wyscout='cf', x=108.0, y=40.0, x_flip=12.0, y_flip=40.0, x_half=54.0, y_half=40.0, x_half_flip=66.0, y_half_flip=40.0)], '4231': [Position(name='GK', statsbomb=[1], opta=1, wyscout='gk', x=12.0, y=40.0, x_flip=108.0, y_flip=40.0, x_half=3.0, y_half=40.0, x_half_flip=117.0, y_half_flip=40.0), Position(name='RB', statsbomb=[2], opta=2, wyscout='rb', x=31.2, y=70.0, x_flip=88.8, y_flip=10.0, x_half=13.2, y_half=70.0, x_half_flip=106.8, y_half_flip=10.0), Position(name='RCB', statsbomb=[3], opta=5, wyscout='rcb', x=31.2, y=50.0, x_flip=88.8, y_flip=30.0, x_half=13.2, y_half=50.0, x_half_flip=106.8, y_half_flip=30.0), Position(name='LCB', statsbomb=[5], opta=6, wyscout='lcb', x=31.2, y=30.0, x_flip=88.8, y_flip=50.0, x_half=13.2, y_half=30.0, x_half_flip=106.8, y_half_flip=50.0), Position(name='LB', statsbomb=[6], opta=3, wyscout='lb', x=31.2, y=10.0, x_flip=88.8, y_flip=70.0, x_half=13.2, y_half=10.0, x_half_flip=106.8, y_half_flip=70.0), Position(name='RDM', statsbomb=[9, 13], opta=8, wyscout='rdmf', x=50.4, y=56.0, x_flip=69.6, y_flip=24.0, x_half=23.4, y_half=56.0, x_half_flip=96.6, y_half_flip=24.0), Position(name='LDM', statsbomb=[11, 15], opta=4, wyscout='ldmf', x=50.4, y=24.0, x_flip=69.6, y_flip=56.0, x_half=23.4, y_half=24.0, x_half_flip=96.6, y_half_flip=56.0), Position(name='RW', statsbomb=[17, 12, 18], opta=7, wyscout='ramf', x=88.8, y=72.0, x_flip=31.200000000000003, y_flip=8.0, x_half=43.8, y_half=72.0, x_half_flip=76.2, y_half_flip=8.0), Position(name='CAM', statsbomb=[19], opta=10, wyscout='amf', x=88.8, y=40.0, x_flip=31.200000000000003, y_flip=40.0, x_half=43.8, y_half=40.0, x_half_flip=76.2, y_half_flip=40.0), Position(name='LW', statsbomb=[21, 16, 20], opta=11, wyscout='lamf', x=88.8, y=8.0, x_flip=31.200000000000003, y_flip=72.0, x_half=43.8, y_half=8.0, x_half_flip=76.2, y_half_flip=72.0), Position(name='ST', statsbomb=[23], opta=9, wyscout='cf', x=108.0, y=40.0, x_flip=12.0, y_flip=40.0, x_half=54.0, y_half=40.0, x_half_flip=66.0, y_half_flip=40.0)], '4321': [Position(name='GK', statsbomb=[1], opta=1, wyscout='gk', x=12.0, y=40.0, x_flip=108.0, y_flip=40.0, x_half=3.0, y_half=40.0, x_half_flip=117.0, y_half_flip=40.0), Position(name='RB', statsbomb=[2], opta=2, wyscout='rb', x=31.2, y=70.0, x_flip=88.8, y_flip=10.0, x_half=13.2, y_half=70.0, x_half_flip=106.8, y_half_flip=10.0), Position(name='RCB', statsbomb=[3], opta=5, wyscout='rcb', x=31.2, y=50.0, x_flip=88.8, y_flip=30.0, x_half=13.2, y_half=50.0, x_half_flip=106.8, y_half_flip=30.0), Position(name='LCB', statsbomb=[5], opta=6, wyscout='lcb', x=31.2, y=30.0, x_flip=88.8, y_flip=50.0, x_half=13.2, y_half=30.0, x_half_flip=106.8, y_half_flip=50.0), Position(name='LB', statsbomb=[6], opta=3, wyscout='lb', x=31.2, y=10.0, x_flip=88.8, y_flip=70.0, x_half=13.2, y_half=10.0, x_half_flip=106.8, y_half_flip=70.0), Position(name='RCM', statsbomb=[13, 12], opta=8, wyscout='rcmf3', x=69.6, y=56.0, x_flip=50.400000000000006, y_flip=24.0, x_half=33.599999999999994, y_half=56.0, x_half_flip=86.4, y_half_flip=24.0), Position(name='CM', statsbomb=[14, 10], opta=4, wyscout='dmf', x=69.6, y=40.0, x_flip=50.400000000000006, y_flip=40.0, x_half=33.599999999999994, y_half=40.0, x_half_flip=86.4, y_half_flip=40.0), Position(name='LCM', statsbomb=[15, 16], opta=7, wyscout='lcmf3', x=69.6, y=24.0, x_flip=50.400000000000006, y_flip=56.0, x_half=33.599999999999994, y_half=24.0, x_half_flip=86.4, y_half_flip=56.0), Position(name='RW', statsbomb=[17, 18], opta=10, wyscout='ramf', x=88.8, y=72.0, x_flip=31.200000000000003, y_flip=8.0, x_half=43.8, y_half=72.0, x_half_flip=76.2, y_half_flip=8.0), Position(name='LW', statsbomb=[21, 20], opta=11, wyscout='lamf', x=88.8, y=8.0, x_flip=31.200000000000003, y_flip=72.0, x_half=43.8, y_half=8.0, x_half_flip=76.2, y_half_flip=72.0), Position(name='ST', statsbomb=[23, 25], opta=9, wyscout='cf', x=108.0, y=40.0, x_flip=12.0, y_flip=40.0, x_half=54.0, y_half=40.0, x_half_flip=66.0, y_half_flip=40.0)], '532': [Position(name='GK', statsbomb=[1], opta=1, wyscout='gk', x=12.0, y=40.0, x_flip=108.0, y_flip=40.0, x_half=3.0, y_half=40.0, x_half_flip=117.0, y_half_flip=40.0), Position(name='RB', statsbomb=[2, 7], opta=2, wyscout='rb5', x=31.2, y=72.0, x_flip=88.8, y_flip=8.0, x_half=13.2, y_half=72.0, x_half_flip=106.8, y_half_flip=8.0), Position(name='RCB', statsbomb=[3], opta=6, wyscout='rcb3', x=31.2, y=56.0, x_flip=88.8, y_flip=24.0, x_half=13.2, y_half=56.0, x_half_flip=106.8, y_half_flip=24.0), Position(name='CB', statsbomb=[4], opta=5, wyscout='cb', x=31.2, y=40.0, x_flip=88.8, y_flip=40.0, x_half=13.2, y_half=40.0, x_half_flip=106.8, y_half_flip=40.0), Position(name='LCB', statsbomb=[5], opta=4, wyscout='lcb3', x=31.2, y=24.0, x_flip=88.8, y_flip=56.0, x_half=13.2, y_half=24.0, x_half_flip=106.8, y_half_flip=56.0), Position(name='LB', statsbomb=[6, 8], opta=3, wyscout='lb5', x=31.2, y=8.0, x_flip=88.8, y_flip=72.0, x_half=13.2, y_half=8.0, x_half_flip=106.8, y_half_flip=72.0), Position(name='CDM', statsbomb=[10, 14], opta=8, wyscout='dmf', x=50.4, y=40.0, x_flip=69.6, y_flip=40.0, x_half=23.4, y_half=40.0, x_half_flip=96.6, y_half_flip=40.0), Position(name='RCM', statsbomb=[13, 12, 18], opta=7, wyscout='rcmf3', x=69.6, y=56.0, x_flip=50.400000000000006, y_flip=24.0, x_half=33.599999999999994, y_half=56.0, x_half_flip=86.4, y_half_flip=24.0), Position(name='LCM', statsbomb=[15, 16, 20], opta=11, wyscout='lcmf3', x=69.6, y=24.0, x_flip=50.400000000000006, y_flip=56.0, x_half=33.599999999999994, y_half=24.0, x_half_flip=86.4, y_half_flip=56.0), Position(name='RCF', statsbomb=[22], opta=10, wyscout='ss', x=108.0, y=50.0, x_flip=12.0, y_flip=30.0, x_half=54.0, y_half=50.0, x_half_flip=66.0, y_half_flip=30.0), Position(name='LCF', statsbomb=[24], opta=9, wyscout='cf', x=108.0, y=30.0, x_flip=12.0, y_flip=50.0, x_half=54.0, y_half=30.0, x_half_flip=66.0, y_half_flip=50.0)], '541': [Position(name='GK', statsbomb=[1], opta=1, wyscout='gk', x=12.0, y=40.0, x_flip=108.0, y_flip=40.0, x_half=3.0, y_half=40.0, x_half_flip=117.0, y_half_flip=40.0), Position(name='RCB', statsbomb=[3], opta=6, wyscout='rcb3', x=31.2, y=56.0, x_flip=88.8, y_flip=24.0, x_half=13.2, y_half=56.0, x_half_flip=106.8, y_half_flip=24.0), Position(name='CB', statsbomb=[4], opta=5, wyscout='cb', x=31.2, y=40.0, x_flip=88.8, y_flip=40.0, x_half=13.2, y_half=40.0, x_half_flip=106.8, y_half_flip=40.0), Position(name='LCB', statsbomb=[5], opta=4, wyscout='lcb3', x=31.2, y=24.0, x_flip=88.8, y_flip=56.0, x_half=13.2, y_half=24.0, x_half_flip=106.8, y_half_flip=56.0), Position(name='RWB', statsbomb=[7, 2], opta=2, wyscout='rb5', x=50.4, y=72.0, x_flip=69.6, y_flip=8.0, x_half=23.4, y_half=72.0, x_half_flip=96.6, y_half_flip=8.0), Position(name='LWB', statsbomb=[8, 6], opta=3, wyscout='lb5', x=50.4, y=8.0, x_flip=69.6, y_flip=72.0, x_half=23.4, y_half=8.0, x_half_flip=96.6, y_half_flip=72.0), Position(name='RM', statsbomb=[12, 18, 17], opta=7, wyscout='rw', x=69.6, y=70.0, x_flip=50.400000000000006, y_flip=10.0, x_half=33.599999999999994, y_half=70.0, x_half_flip=86.4, y_half_flip=10.0), Position(name='RCM', statsbomb=[13, 9], opta=8, wyscout='rcmf', x=69.6, y=50.0, x_flip=50.400000000000006, y_flip=30.0, x_half=33.599999999999994, y_half=50.0, x_half_flip=86.4, y_half_flip=30.0), Position(name='LCM', statsbomb=[15, 11], opta=10, wyscout='lcmf', x=69.6, y=30.0, x_flip=50.400000000000006, y_flip=50.0, x_half=33.599999999999994, y_half=30.0, x_half_flip=86.4, y_half_flip=50.0), Position(name='LM', statsbomb=[16, 20, 21], opta=11, wyscout='lw', x=69.6, y=10.0, x_flip=50.400000000000006, y_flip=70.0, x_half=33.599999999999994, y_half=10.0, x_half_flip=86.4, y_half_flip=70.0), Position(name='ST', statsbomb=[23], opta=9, wyscout='cf', x=108.0, y=40.0, x_flip=12.0, y_flip=40.0, x_half=54.0, y_half=40.0, x_half_flip=66.0, y_half_flip=40.0)], '352': [Position(name='GK', statsbomb=[1], opta=1, wyscout='gk', x=12.0, y=40.0, x_flip=108.0, y_flip=40.0, x_half=3.0, y_half=40.0, x_half_flip=117.0, y_half_flip=40.0), Position(name='RCB', statsbomb=[3], opta=6, wyscout='rcb3', x=31.2, y=56.0, x_flip=88.8, y_flip=24.0, x_half=13.2, y_half=56.0, x_half_flip=106.8, y_half_flip=24.0), Position(name='CB', statsbomb=[4], opta=5, wyscout='cb', x=31.2, y=40.0, x_flip=88.8, y_flip=40.0, x_half=13.2, y_half=40.0, x_half_flip=106.8, y_half_flip=40.0), Position(name='LCB', statsbomb=[5], opta=4, wyscout='lcb3', x=31.2, y=24.0, x_flip=88.8, y_flip=56.0, x_half=13.2, y_half=24.0, x_half_flip=106.8, y_half_flip=56.0), Position(name='RWB', statsbomb=[7, 12, 17], opta=2, wyscout='rwb', x=50.4, y=72.0, x_flip=69.6, y_flip=8.0, x_half=23.4, y_half=72.0, x_half_flip=96.6, y_half_flip=8.0), Position(name='LWB', statsbomb=[8, 16, 21], opta=3, wyscout='lwb', x=50.4, y=8.0, x_flip=69.6, y_flip=72.0, x_half=23.4, y_half=8.0, x_half_flip=96.6, y_half_flip=72.0), Position(name='RCM', statsbomb=[13, 18], opta=7, wyscout='rcmf3', x=69.6, y=56.0, x_flip=50.400000000000006, y_flip=24.0, x_half=33.599999999999994, y_half=56.0, x_half_flip=86.4, y_half_flip=24.0), Position(name='CM', statsbomb=[10, 14], opta=11, wyscout='dmf', x=69.6, y=40.0, x_flip=50.400000000000006, y_flip=40.0, x_half=33.599999999999994, y_half=40.0, x_half_flip=86.4, y_half_flip=40.0), Position(name='LCM', statsbomb=[15, 20], opta=8, wyscout='lcmf3', x=69.6, y=24.0, x_flip=50.400000000000006, y_flip=56.0, x_half=33.599999999999994, y_half=24.0, x_half_flip=86.4, y_half_flip=56.0), Position(name='RCF', statsbomb=[22], opta=10, wyscout='ss', x=108.0, y=50.0, x_flip=12.0, y_flip=30.0, x_half=54.0, y_half=50.0, x_half_flip=66.0, y_half_flip=30.0), Position(name='LCF', statsbomb=[24], opta=9, wyscout='cf', x=108.0, y=30.0, x_flip=12.0, y_flip=50.0, x_half=54.0, y_half=30.0, x_half_flip=66.0, y_half_flip=50.0)], '343': [Position(name='GK', statsbomb=[1], opta=1, wyscout='gk', x=12.0, y=40.0, x_flip=108.0, y_flip=40.0, x_half=3.0, y_half=40.0, x_half_flip=117.0, y_half_flip=40.0), Position(name='RCB', statsbomb=[3], opta=6, wyscout='rcb3', x=31.2, y=56.0, x_flip=88.8, y_flip=24.0, x_half=13.2, y_half=56.0, x_half_flip=106.8, y_half_flip=24.0), Position(name='CB', statsbomb=[4], opta=5, wyscout='cb', x=31.2, y=40.0, x_flip=88.8, y_flip=40.0, x_half=13.2, y_half=40.0, x_half_flip=106.8, y_half_flip=40.0), Position(name='LCB', statsbomb=[5], opta=4, wyscout='lcb3', x=31.2, y=24.0, x_flip=88.8, y_flip=56.0, x_half=13.2, y_half=24.0, x_half_flip=106.8, y_half_flip=56.0), Position(name='RWB', statsbomb=[7, 12], opta=2, wyscout='rwb', x=50.4, y=72.0, x_flip=69.6, y_flip=8.0, x_half=23.4, y_half=72.0, x_half_flip=96.6, y_half_flip=8.0), Position(name='LWB', statsbomb=[8, 16], opta=3, wyscout='lwb', x=50.4, y=8.0, x_flip=69.6, y_flip=72.0, x_half=23.4, y_half=8.0, x_half_flip=96.6, y_half_flip=72.0), Position(name='RCM', statsbomb=[9, 13], opta=7, wyscout='rcmf', x=69.6, y=56.0, x_flip=50.400000000000006, y_flip=24.0, x_half=33.599999999999994, y_half=56.0, x_half_flip=86.4, y_half_flip=24.0), Position(name='LCM', statsbomb=[11, 15], opta=8, wyscout='lcmf', x=69.6, y=24.0, x_flip=50.400000000000006, y_flip=56.0, x_half=33.599999999999994, y_half=24.0, x_half_flip=86.4, y_half_flip=56.0), Position(name='RW', statsbomb=[17, 22, 18], opta=10, wyscout='rwf', x=88.8, y=72.0, x_flip=31.200000000000003, y_flip=8.0, x_half=43.8, y_half=72.0, x_half_flip=76.2, y_half_flip=8.0), Position(name='LW', statsbomb=[21, 24, 20], opta=11, wyscout='lwf', x=88.8, y=8.0, x_flip=31.200000000000003, y_flip=72.0, x_half=43.8, y_half=8.0, x_half_flip=76.2, y_half_flip=72.0), Position(name='ST', statsbomb=[23, 25], opta=9, wyscout='cf', x=108.0, y=40.0, x_flip=12.0, y_flip=40.0, x_half=54.0, y_half=40.0, x_half_flip=66.0, y_half_flip=40.0)], '31312': [Position(name='GK', statsbomb=None, opta=1, wyscout=None, x=12.0, y=40.0, x_flip=108.0, y_flip=40.0, x_half=3.0, y_half=40.0, x_half_flip=117.0, y_half_flip=40.0), Position(name='RCB', statsbomb=None, opta=6, wyscout=None, x=28.0, y=56.0, x_flip=92.0, y_flip=24.0, x_half=11.5, y_half=56.0, x_half_flip=108.5, y_half_flip=24.0), Position(name='CB', statsbomb=None, opta=5, wyscout=None, x=28.0, y=40.0, x_flip=92.0, y_flip=40.0, x_half=11.5, y_half=40.0, x_half_flip=108.5, y_half_flip=40.0), Position(name='LCB', statsbomb=None, opta=4, wyscout=None, x=28.0, y=24.0, x_flip=92.0, y_flip=56.0, x_half=11.5, y_half=24.0, x_half_flip=108.5, y_half_flip=56.0), Position(name='CDM', statsbomb=None, opta=7, wyscout=None, x=44.0, y=40.0, x_flip=76.0, y_flip=40.0, x_half=20.0, y_half=40.0, x_half_flip=100.0, y_half_flip=40.0), Position(name='RCM', statsbomb=None, opta=2, wyscout=None, x=60.0, y=56.0, x_flip=60.0, y_flip=24.0, x_half=28.5, y_half=56.0, x_half_flip=91.5, y_half_flip=24.0), Position(name='CM', statsbomb=None, opta=8, wyscout=None, x=60.0, y=40.0, x_flip=60.0, y_flip=40.0, x_half=28.5, y_half=40.0, x_half_flip=91.5, y_half_flip=40.0), Position(name='LCM', statsbomb=None, opta=3, wyscout=None, x=60.0, y=24.0, x_flip=60.0, y_flip=56.0, x_half=28.5, y_half=24.0, x_half_flip=91.5, y_half_flip=56.0), Position(name='RCF', statsbomb=None, opta=10, wyscout=None, x=108.0, y=56.0, x_flip=12.0, y_flip=24.0, x_half=54.0, y_half=56.0, x_half_flip=66.0, y_half_flip=24.0), Position(name='LCF', statsbomb=None, opta=11, wyscout=None, x=108.0, y=24.0, x_flip=12.0, y_flip=56.0, x_half=54.0, y_half=24.0, x_half_flip=66.0, y_half_flip=56.0), Position(name='SS', statsbomb=None, opta=9, wyscout=None, x=92.0, y=40.0, x_flip=28.0, y_flip=40.0, x_half=45.5, y_half=40.0, x_half_flip=74.5, y_half_flip=40.0)], '4222': [Position(name='GK', statsbomb=[1], opta=1, wyscout='gk', x=12.0, y=40.0, x_flip=108.0, y_flip=40.0, x_half=3.0, y_half=40.0, x_half_flip=117.0, y_half_flip=40.0), Position(name='RB', statsbomb=[2], opta=2, wyscout='rb', x=31.2, y=70.0, x_flip=88.8, y_flip=10.0, x_half=13.2, y_half=70.0, x_half_flip=106.8, y_half_flip=10.0), Position(name='RCB', statsbomb=[3], opta=5, wyscout='rcb', x=31.2, y=50.0, x_flip=88.8, y_flip=30.0, x_half=13.2, y_half=50.0, x_half_flip=106.8, y_half_flip=30.0), Position(name='LCB', statsbomb=[5], opta=6, wyscout='lcb', x=31.2, y=30.0, x_flip=88.8, y_flip=50.0, x_half=13.2, y_half=30.0, x_half_flip=106.8, y_half_flip=50.0), Position(name='LB', statsbomb=[6], opta=3, wyscout='lb', x=31.2, y=10.0, x_flip=88.8, y_flip=70.0, x_half=13.2, y_half=10.0, x_half_flip=106.8, y_half_flip=70.0), Position(name='RCM', statsbomb=[13, 9], opta=4, wyscout='rdmf', x=69.6, y=56.0, x_flip=50.400000000000006, y_flip=24.0, x_half=33.599999999999994, y_half=56.0, x_half_flip=86.4, y_half_flip=24.0), Position(name='LCM', statsbomb=[15, 11], opta=8, wyscout='ldmf', x=69.6, y=24.0, x_flip=50.400000000000006, y_flip=56.0, x_half=33.599999999999994, y_half=24.0, x_half_flip=86.4, y_half_flip=56.0), Position(name='RW', statsbomb=[17, 12, 18], opta=7, wyscout='ramf', x=88.8, y=72.0, x_flip=31.200000000000003, y_flip=8.0, x_half=43.8, y_half=72.0, x_half_flip=76.2, y_half_flip=8.0), Position(name='LW', statsbomb=[21, 16, 20], opta=11, wyscout='lamf', x=88.8, y=8.0, x_flip=31.200000000000003, y_flip=72.0, x_half=43.8, y_half=8.0, x_half_flip=76.2, y_half_flip=72.0), Position(name='RCF', statsbomb=[22], opta=10, wyscout='ss', x=108.0, y=56.0, x_flip=12.0, y_flip=24.0, x_half=54.0, y_half=56.0, x_half_flip=66.0, y_half_flip=24.0), Position(name='LCF', statsbomb=[24], opta=9, wyscout='cf', x=108.0, y=24.0, x_flip=12.0, y_flip=56.0, x_half=54.0, y_half=24.0, x_half_flip=66.0, y_half_flip=56.0)], '3511': [Position(name='GK', statsbomb=[1], opta=1, wyscout='gk', x=12.0, y=40.0, x_flip=108.0, y_flip=40.0, x_half=3.0, y_half=40.0, x_half_flip=117.0, y_half_flip=40.0), Position(name='RCB', statsbomb=[3], opta=5, wyscout='rcb3', x=31.2, y=56.0, x_flip=88.8, y_flip=24.0, x_half=13.2, y_half=56.0, x_half_flip=106.8, y_half_flip=24.0), Position(name='CB', statsbomb=[4], opta=6, wyscout='cb', x=31.2, y=40.0, x_flip=88.8, y_flip=40.0, x_half=13.2, y_half=40.0, x_half_flip=106.8, y_half_flip=40.0), Position(name='LCB', statsbomb=[5], opta=4, wyscout='lcb3', x=31.2, y=24.0, x_flip=88.8, y_flip=56.0, x_half=13.2, y_half=24.0, x_half_flip=106.8, y_half_flip=56.0), Position(name='RWB', statsbomb=[7, 12], opta=2, wyscout='rcmf3', x=50.4, y=72.0, x_flip=69.6, y_flip=8.0, x_half=23.4, y_half=72.0, x_half_flip=96.6, y_half_flip=8.0), Position(name='CDM', statsbomb=[10, 14], opta=11, wyscout='dmf', x=50.4, y=40.0, x_flip=69.6, y_flip=40.0, x_half=23.4, y_half=40.0, x_half_flip=96.6, y_half_flip=40.0), Position(name='LWB', statsbomb=[8, 16], opta=3, wyscout='lcmf3', x=50.4, y=8.0, x_flip=69.6, y_flip=72.0, x_half=23.4, y_half=8.0, x_half_flip=96.6, y_half_flip=72.0), Position(name='RCM', statsbomb=[13, 9], opta=7, wyscout='rw', x=69.6, y=56.0, x_flip=50.400000000000006, y_flip=24.0, x_half=33.599999999999994, y_half=56.0, x_half_flip=86.4, y_half_flip=24.0), Position(name='LCM', statsbomb=[15, 11], opta=8, wyscout='lw', x=69.6, y=24.0, x_flip=50.400000000000006, y_flip=56.0, x_half=33.599999999999994, y_half=24.0, x_half_flip=86.4, y_half_flip=56.0), Position(name='CAM', statsbomb=[19, 25], opta=10, wyscout='amf', x=88.8, y=40.0, x_flip=31.200000000000003, y_flip=40.0, x_half=43.8, y_half=40.0, x_half_flip=76.2, y_half_flip=40.0), Position(name='ST', statsbomb=[23], opta=9, wyscout='cf', x=108.0, y=40.0, x_flip=12.0, y_flip=40.0, x_half=54.0, y_half=40.0, x_half_flip=66.0, y_half_flip=40.0)], '3421': [Position(name='GK', statsbomb=[1], opta=1, wyscout='gk', x=12.0, y=40.0, x_flip=108.0, y_flip=40.0, x_half=3.0, y_half=40.0, x_half_flip=117.0, y_half_flip=40.0), Position(name='RCB', statsbomb=[3], opta=6, wyscout='rcb3', x=31.2, y=56.0, x_flip=88.8, y_flip=24.0, x_half=13.2, y_half=56.0, x_half_flip=106.8, y_half_flip=24.0), Position(name='CB', statsbomb=[4], opta=5, wyscout='cb', x=31.2, y=40.0, x_flip=88.8, y_flip=40.0, x_half=13.2, y_half=40.0, x_half_flip=106.8, y_half_flip=40.0), Position(name='LCB', statsbomb=[5], opta=4, wyscout='lcb3', x=31.2, y=24.0, x_flip=88.8, y_flip=56.0, x_half=13.2, y_half=24.0, x_half_flip=106.8, y_half_flip=56.0), Position(name='RWB', statsbomb=[7, 12], opta=2, wyscout='rwb', x=50.4, y=70.0, x_flip=69.6, y_flip=10.0, x_half=23.4, y_half=70.0, x_half_flip=96.6, y_half_flip=10.0), Position(name='RDM', statsbomb=[9, 13], opta=7, wyscout='rcmf', x=50.4, y=50.0, x_flip=69.6, y_flip=30.0, x_half=23.4, y_half=50.0, x_half_flip=96.6, y_half_flip=30.0), Position(name='LDM', statsbomb=[11, 15], opta=8, wyscout='lcmf', x=50.4, y=30.0, x_flip=69.6, y_flip=50.0, x_half=23.4, y_half=30.0, x_half_flip=96.6, y_half_flip=50.0), Position(name='LWB', statsbomb=[8, 16], opta=3, wyscout='lwb', x=50.4, y=10.0, x_flip=69.6, y_flip=70.0, x_half=23.4, y_half=10.0, x_half_flip=96.6, y_half_flip=70.0), Position(name='RAM', statsbomb=[18, 17], opta=10, wyscout='ramf', x=88.8, y=50.0, x_flip=31.200000000000003, y_flip=30.0, x_half=43.8, y_half=50.0, x_half_flip=76.2, y_half_flip=30.0), Position(name='LAM', statsbomb=[20, 21], opta=11, wyscout='lamf', x=88.8, y=30.0, x_flip=31.200000000000003, y_flip=50.0, x_half=43.8, y_half=30.0, x_half_flip=76.2, y_half_flip=50.0), Position(name='ST', statsbomb=[23], opta=9, wyscout='cf', x=108.0, y=40.0, x_flip=12.0, y_flip=40.0, x_half=54.0, y_half=40.0, x_half_flip=66.0, y_half_flip=40.0)], '3412': [Position(name='GK', statsbomb=[1], opta=1, wyscout='gk', x=12.0, y=40.0, x_flip=108.0, y_flip=40.0, x_half=3.0, y_half=40.0, x_half_flip=117.0, y_half_flip=40.0), Position(name='RCB', statsbomb=[3], opta=6, wyscout='rcb3', x=31.2, y=56.0, x_flip=88.8, y_flip=24.0, x_half=13.2, y_half=56.0, x_half_flip=106.8, y_half_flip=24.0), Position(name='CB', statsbomb=[4], opta=5, wyscout='cb', x=31.2, y=40.0, x_flip=88.8, y_flip=40.0, x_half=13.2, y_half=40.0, x_half_flip=106.8, y_half_flip=40.0), Position(name='LCB', statsbomb=[5], opta=4, wyscout='lcb3', x=31.2, y=24.0, x_flip=88.8, y_flip=56.0, x_half=13.2, y_half=24.0, x_half_flip=106.8, y_half_flip=56.0), Position(name='RWB', statsbomb=[7, 12], opta=2, wyscout='rwb', x=50.4, y=72.0, x_flip=69.6, y_flip=8.0, x_half=23.4, y_half=72.0, x_half_flip=96.6, y_half_flip=8.0), Position(name='LWB', statsbomb=[8, 16], opta=3, wyscout='lwb', x=50.4, y=8.0, x_flip=69.6, y_flip=72.0, x_half=23.4, y_half=8.0, x_half_flip=96.6, y_half_flip=72.0), Position(name='RCM', statsbomb=[9, 13], opta=7, wyscout='rcmf', x=69.6, y=56.0, x_flip=50.400000000000006, y_flip=24.0, x_half=33.599999999999994, y_half=56.0, x_half_flip=86.4, y_half_flip=24.0), Position(name='LCM', statsbomb=[11, 15], opta=8, wyscout='lcmf', x=69.6, y=24.0, x_flip=50.400000000000006, y_flip=56.0, x_half=33.599999999999994, y_half=24.0, x_half_flip=86.4, y_half_flip=56.0), Position(name='CAM', statsbomb=[19], opta=9, wyscout='amf', x=88.8, y=40.0, x_flip=31.200000000000003, y_flip=40.0, x_half=43.8, y_half=40.0, x_half_flip=76.2, y_half_flip=40.0), Position(name='RCF', statsbomb=[22], opta=10, wyscout='ss', x=108.0, y=56.0, x_flip=12.0, y_flip=24.0, x_half=54.0, y_half=56.0, x_half_flip=66.0, y_half_flip=24.0), Position(name='LCF', statsbomb=[24], opta=11, wyscout='cf', x=108.0, y=24.0, x_flip=12.0, y_flip=56.0, x_half=54.0, y_half=24.0, x_half_flip=66.0, y_half_flip=56.0)], '3142': [Position(name='GK', statsbomb=[1], opta=1, wyscout=None, x=12.0, y=40.0, x_flip=108.0, y_flip=40.0, x_half=3.0, y_half=40.0, x_half_flip=117.0, y_half_flip=40.0), Position(name='RCB', statsbomb=[3], opta=5, wyscout=None, x=31.2, y=56.0, x_flip=88.8, y_flip=24.0, x_half=13.2, y_half=56.0, x_half_flip=106.8, y_half_flip=24.0), Position(name='CB', statsbomb=[4], opta=4, wyscout=None, x=31.2, y=40.0, x_flip=88.8, y_flip=40.0, x_half=13.2, y_half=40.0, x_half_flip=106.8, y_half_flip=40.0), Position(name='LCB', statsbomb=[5], opta=6, wyscout=None, x=31.2, y=24.0, x_flip=88.8, y_flip=56.0, x_half=13.2, y_half=24.0, x_half_flip=106.8, y_half_flip=56.0), Position(name='CDM', statsbomb=[10], opta=8, wyscout=None, x=50.4, y=40.0, x_flip=69.6, y_flip=40.0, x_half=23.4, y_half=40.0, x_half_flip=96.6, y_half_flip=40.0), Position(name='RM', statsbomb=[12], opta=2, wyscout=None, x=69.6, y=70.0, x_flip=50.400000000000006, y_flip=10.0, x_half=33.599999999999994, y_half=70.0, x_half_flip=86.4, y_half_flip=10.0), Position(name='RCM', statsbomb=[13], opta=7, wyscout=None, x=69.6, y=50.0, x_flip=50.400000000000006, y_flip=30.0, x_half=33.599999999999994, y_half=50.0, x_half_flip=86.4, y_half_flip=30.0), Position(name='LCM', statsbomb=[15], opta=11, wyscout=None, x=69.6, y=30.0, x_flip=50.400000000000006, y_flip=50.0, x_half=33.599999999999994, y_half=30.0, x_half_flip=86.4, y_half_flip=50.0), Position(name='LM', statsbomb=[16], opta=3, wyscout=None, x=69.6, y=10.0, x_flip=50.400000000000006, y_flip=70.0, x_half=33.599999999999994, y_half=10.0, x_half_flip=86.4, y_half_flip=70.0), Position(name='RCF', statsbomb=[22], opta=9, wyscout=None, x=108.0, y=56.0, x_flip=12.0, y_flip=24.0, x_half=54.0, y_half=56.0, x_half_flip=66.0, y_half_flip=24.0), Position(name='LCF', statsbomb=[24], opta=10, wyscout=None, x=108.0, y=24.0, x_flip=12.0, y_flip=56.0, x_half=54.0, y_half=24.0, x_half_flip=66.0, y_half_flip=56.0)], '31213': [Position(name='GK', statsbomb=None, opta=1, wyscout=None, x=12.0, y=40.0, x_flip=108.0, y_flip=40.0, x_half=3.0, y_half=40.0, x_half_flip=117.0, y_half_flip=40.0), Position(name='RCB', statsbomb=None, opta=6, wyscout=None, x=31.2, y=56.0, x_flip=88.8, y_flip=24.0, x_half=13.2, y_half=56.0, x_half_flip=106.8, y_half_flip=24.0), Position(name='CB', statsbomb=None, opta=5, wyscout=None, x=31.2, y=40.0, x_flip=88.8, y_flip=40.0, x_half=13.2, y_half=40.0, x_half_flip=106.8, y_half_flip=40.0), Position(name='LCB', statsbomb=None, opta=4, wyscout=None, x=31.2, y=24.0, x_flip=88.8, y_flip=56.0, x_half=13.2, y_half=24.0, x_half_flip=106.8, y_half_flip=56.0), Position(name='CDM', statsbomb=None, opta=8, wyscout=None, x=50.4, y=40.0, x_flip=69.6, y_flip=40.0, x_half=23.4, y_half=40.0, x_half_flip=96.6, y_half_flip=40.0), Position(name='RCM', statsbomb=None, opta=2, wyscout=None, x=69.6, y=56.0, x_flip=50.400000000000006, y_flip=24.0, x_half=33.599999999999994, y_half=56.0, x_half_flip=86.4, y_half_flip=24.0), Position(name='LCM', statsbomb=None, opta=3, wyscout=None, x=69.6, y=24.0, x_flip=50.400000000000006, y_flip=56.0, x_half=33.599999999999994, y_half=24.0, x_half_flip=86.4, y_half_flip=56.0), Position(name='RW', statsbomb=None, opta=10, wyscout=None, x=88.8, y=72.0, x_flip=31.200000000000003, y_flip=8.0, x_half=43.8, y_half=72.0, x_half_flip=76.2, y_half_flip=8.0), Position(name='CAM', statsbomb=None, opta=7, wyscout=None, x=88.8, y=40.0, x_flip=31.200000000000003, y_flip=40.0, x_half=43.8, y_half=40.0, x_half_flip=76.2, y_half_flip=40.0), Position(name='LW', statsbomb=None, opta=11, wyscout=None, x=88.8, y=8.0, x_flip=31.200000000000003, y_flip=72.0, x_half=43.8, y_half=8.0, x_half_flip=76.2, y_half_flip=72.0), Position(name='ST', statsbomb=None, opta=9, wyscout=None, x=108.0, y=40.0, x_flip=12.0, y_flip=40.0, x_half=54.0, y_half=40.0, x_half_flip=66.0, y_half_flip=40.0)], '4132': [Position(name='GK', statsbomb=[1], opta=1, wyscout='gk', x=12.0, y=40.0, x_flip=108.0, y_flip=40.0, x_half=3.0, y_half=40.0, x_half_flip=117.0, y_half_flip=40.0), Position(name='RB', statsbomb=[2], opta=2, wyscout='rb', x=31.2, y=70.0, x_flip=88.8, y_flip=10.0, x_half=13.2, y_half=70.0, x_half_flip=106.8, y_half_flip=10.0), Position(name='RCB', statsbomb=[3], opta=5, wyscout='rcb', x=31.2, y=50.0, x_flip=88.8, y_flip=30.0, x_half=13.2, y_half=50.0, x_half_flip=106.8, y_half_flip=30.0), Position(name='LCB', statsbomb=[5], opta=6, wyscout='lcb', x=31.2, y=30.0, x_flip=88.8, y_flip=50.0, x_half=13.2, y_half=30.0, x_half_flip=106.8, y_half_flip=50.0), Position(name='LB', statsbomb=[6], opta=3, wyscout='lb', x=31.2, y=10.0, x_flip=88.8, y_flip=70.0, x_half=13.2, y_half=10.0, x_half_flip=106.8, y_half_flip=70.0), Position(name='CDM', statsbomb=[10], opta=4, wyscout='dmf', x=50.4, y=40.0, x_flip=69.6, y_flip=40.0, x_half=23.4, y_half=40.0, x_half_flip=96.6, y_half_flip=40.0), Position(name='RW', statsbomb=[17, 12], opta=7, wyscout='ramf', x=88.8, y=70.0, x_flip=31.200000000000003, y_flip=10.0, x_half=43.8, y_half=70.0, x_half_flip=76.2, y_half_flip=10.0), Position(name='CAM', statsbomb=[19], opta=8, wyscout='amf', x=88.8, y=40.0, x_flip=31.200000000000003, y_flip=40.0, x_half=43.8, y_half=40.0, x_half_flip=76.2, y_half_flip=40.0), Position(name='LW', statsbomb=[21, 16], opta=11, wyscout='lamf', x=88.8, y=10.0, x_flip=31.200000000000003, y_flip=70.0, x_half=43.8, y_half=10.0, x_half_flip=76.2, y_half_flip=70.0), Position(name='RCF', statsbomb=[22], opta=9, wyscout='ss', x=108.0, y=56.0, x_flip=12.0, y_flip=24.0, x_half=54.0, y_half=56.0, x_half_flip=66.0, y_half_flip=24.0), Position(name='LCF', statsbomb=[24], opta=10, wyscout='cf', x=108.0, y=24.0, x_flip=12.0, y_flip=56.0, x_half=54.0, y_half=24.0, x_half_flip=66.0, y_half_flip=56.0)], '424': [Position(name='GK', statsbomb=None, opta=1, wyscout=None, x=12.0, y=40.0, x_flip=108.0, y_flip=40.0, x_half=3.0, y_half=40.0, x_half_flip=117.0, y_half_flip=40.0), Position(name='RB', statsbomb=None, opta=2, wyscout=None, x=31.2, y=70.0, x_flip=88.8, y_flip=10.0, x_half=13.2, y_half=70.0, x_half_flip=106.8, y_half_flip=10.0), Position(name='RCB', statsbomb=None, opta=5, wyscout=None, x=31.2, y=50.0, x_flip=88.8, y_flip=30.0, x_half=13.2, y_half=50.0, x_half_flip=106.8, y_half_flip=30.0), Position(name='LCB', statsbomb=None, opta=6, wyscout=None, x=31.2, y=30.0, x_flip=88.8, y_flip=50.0, x_half=13.2, y_half=30.0, x_half_flip=106.8, y_half_flip=50.0), Position(name='LB', statsbomb=None, opta=3, wyscout=None, x=31.2, y=10.0, x_flip=88.8, y_flip=70.0, x_half=13.2, y_half=10.0, x_half_flip=106.8, y_half_flip=70.0), Position(name='RDM', statsbomb=None, opta=4, wyscout=None, x=50.4, y=56.0, x_flip=69.6, y_flip=24.0, x_half=23.4, y_half=56.0, x_half_flip=96.6, y_half_flip=24.0), Position(name='LDM', statsbomb=None, opta=8, wyscout=None, x=50.4, y=24.0, x_flip=69.6, y_flip=56.0, x_half=23.4, y_half=24.0, x_half_flip=96.6, y_half_flip=56.0), Position(name='RW', statsbomb=None, opta=7, wyscout=None, x=88.8, y=70.0, x_flip=31.200000000000003, y_flip=10.0, x_half=43.8, y_half=70.0, x_half_flip=76.2, y_half_flip=10.0), Position(name='LW', statsbomb=None, opta=11, wyscout=None, x=88.8, y=10.0, x_flip=31.200000000000003, y_flip=70.0, x_half=43.8, y_half=10.0, x_half_flip=76.2, y_half_flip=70.0), Position(name='RAM', statsbomb=None, opta=9, wyscout=None, x=88.8, y=50.0, x_flip=31.200000000000003, y_flip=30.0, x_half=43.8, y_half=50.0, x_half_flip=76.2, y_half_flip=30.0), Position(name='LAM', statsbomb=None, opta=10, wyscout=None, x=88.8, y=30.0, x_flip=31.200000000000003, y_flip=50.0, x_half=43.8, y_half=30.0, x_half_flip=76.2, y_half_flip=50.0)], '4312': [Position(name='GK', statsbomb=[1], opta=1, wyscout='gk', x=12.0, y=40.0, x_flip=108.0, y_flip=40.0, x_half=3.0, y_half=40.0, x_half_flip=117.0, y_half_flip=40.0), Position(name='RB', statsbomb=[2], opta=2, wyscout='rb', x=31.2, y=70.0, x_flip=88.8, y_flip=10.0, x_half=13.2, y_half=70.0, x_half_flip=106.8, y_half_flip=10.0), Position(name='RCB', statsbomb=[3], opta=5, wyscout='rcb', x=31.2, y=50.0, x_flip=88.8, y_flip=30.0, x_half=13.2, y_half=50.0, x_half_flip=106.8, y_half_flip=30.0), Position(name='LCB', statsbomb=[5], opta=6, wyscout='lcb', x=31.2, y=30.0, x_flip=88.8, y_flip=50.0, x_half=13.2, y_half=30.0, x_half_flip=106.8, y_half_flip=50.0), Position(name='LB', statsbomb=[6], opta=3, wyscout='lb', x=31.2, y=10.0, x_flip=88.8, y_flip=70.0, x_half=13.2, y_half=10.0, x_half_flip=106.8, y_half_flip=70.0), Position(name='RCM', statsbomb=[13, 9], opta=7, wyscout='rcmf3', x=69.6, y=56.0, x_flip=50.400000000000006, y_flip=24.0, x_half=33.599999999999994, y_half=56.0, x_half_flip=86.4, y_half_flip=24.0), Position(name='CM', statsbomb=[14, 10], opta=4, wyscout='dmf', x=69.6, y=40.0, x_flip=50.400000000000006, y_flip=40.0, x_half=33.599999999999994, y_half=40.0, x_half_flip=86.4, y_half_flip=40.0), Position(name='LCM', statsbomb=[15, 11], opta=11, wyscout='lcmf3', x=69.6, y=24.0, x_flip=50.400000000000006, y_flip=56.0, x_half=33.599999999999994, y_half=24.0, x_half_flip=86.4, y_half_flip=56.0), Position(name='CAM', statsbomb=[19], opta=8, wyscout='amf', x=88.8, y=40.0, x_flip=31.200000000000003, y_flip=40.0, x_half=43.8, y_half=40.0, x_half_flip=76.2, y_half_flip=40.0), Position(name='RCF', statsbomb=[22], opta=9, wyscout='ss', x=108.0, y=50.0, x_flip=12.0, y_flip=30.0, x_half=54.0, y_half=50.0, x_half_flip=66.0, y_half_flip=30.0), Position(name='LCF', statsbomb=[24], opta=10, wyscout='cf', x=108.0, y=30.0, x_flip=12.0, y_flip=50.0, x_half=54.0, y_half=30.0, x_half_flip=66.0, y_half_flip=50.0)], '3241': [Position(name='GK', statsbomb=None, opta=1, wyscout=None, x=12.0, y=40.0, x_flip=108.0, y_flip=40.0, x_half=3.0, y_half=40.0, x_half_flip=117.0, y_half_flip=40.0), Position(name='RCB', statsbomb=None, opta=6, wyscout=None, x=31.2, y=56.0, x_flip=88.8, y_flip=24.0, x_half=13.2, y_half=56.0, x_half_flip=106.8, y_half_flip=24.0), Position(name='CB', statsbomb=None, opta=5, wyscout=None, x=31.2, y=40.0, x_flip=88.8, y_flip=40.0, x_half=13.2, y_half=40.0, x_half_flip=106.8, y_half_flip=40.0), Position(name='LCB', statsbomb=None, opta=4, wyscout=None, x=31.2, y=24.0, x_flip=88.8, y_flip=56.0, x_half=13.2, y_half=24.0, x_half_flip=106.8, y_half_flip=56.0), Position(name='RDM', statsbomb=None, opta=2, wyscout=None, x=50.4, y=50.0, x_flip=69.6, y_flip=30.0, x_half=23.4, y_half=50.0, x_half_flip=96.6, y_half_flip=30.0), Position(name='LDM', statsbomb=None, opta=3, wyscout=None, x=50.4, y=30.0, x_flip=69.6, y_flip=50.0, x_half=23.4, y_half=30.0, x_half_flip=96.6, y_half_flip=50.0), Position(name='RW', statsbomb=None, opta=10, wyscout=None, x=88.8, y=70.0, x_flip=31.200000000000003, y_flip=10.0, x_half=43.8, y_half=70.0, x_half_flip=76.2, y_half_flip=10.0), Position(name='RAM', statsbomb=None, opta=7, wyscout=None, x=88.8, y=50.0, x_flip=31.200000000000003, y_flip=30.0, x_half=43.8, y_half=50.0, x_half_flip=76.2, y_half_flip=30.0), Position(name='LAM', statsbomb=None, opta=8, wyscout=None, x=88.8, y=30.0, x_flip=31.200000000000003, y_flip=50.0, x_half=43.8, y_half=30.0, x_half_flip=76.2, y_half_flip=50.0), Position(name='LW', statsbomb=None, opta=11, wyscout=None, x=88.8, y=10.0, x_flip=31.200000000000003, y_flip=70.0, x_half=43.8, y_half=10.0, x_half_flip=76.2, y_half_flip=70.0), Position(name='ST', statsbomb=None, opta=9, wyscout=None, x=108.0, y=40.0, x_flip=12.0, y_flip=40.0, x_half=54.0, y_half=40.0, x_half_flip=66.0, y_half_flip=40.0)], '3331': [Position(name='GK', statsbomb=None, opta=1, wyscout='gk', x=12.0, y=40.0, x_flip=108.0, y_flip=40.0, x_half=3.0, y_half=40.0, x_half_flip=117.0, y_half_flip=40.0), Position(name='RCB', statsbomb=None, opta=6, wyscout='rcb3', x=31.2, y=56.0, x_flip=88.8, y_flip=24.0, x_half=13.2, y_half=56.0, x_half_flip=106.8, y_half_flip=24.0), Position(name='CB', statsbomb=None, opta=5, wyscout='cb', x=31.2, y=40.0, x_flip=88.8, y_flip=40.0, x_half=13.2, y_half=40.0, x_half_flip=106.8, y_half_flip=40.0), Position(name='LCB', statsbomb=None, opta=4, wyscout='lcb3', x=31.2, y=24.0, x_flip=88.8, y_flip=56.0, x_half=13.2, y_half=24.0, x_half_flip=106.8, y_half_flip=56.0), Position(name='RDM', statsbomb=None, opta=2, wyscout='rcmf3', x=50.4, y=56.0, x_flip=69.6, y_flip=24.0, x_half=23.4, y_half=56.0, x_half_flip=96.6, y_half_flip=24.0), Position(name='CDM', statsbomb=None, opta=8, wyscout='dmf', x=50.4, y=40.0, x_flip=69.6, y_flip=40.0, x_half=23.4, y_half=40.0, x_half_flip=96.6, y_half_flip=40.0), Position(name='LDM', statsbomb=None, opta=3, wyscout='lcmf3', x=50.4, y=24.0, x_flip=69.6, y_flip=56.0, x_half=23.4, y_half=24.0, x_half_flip=96.6, y_half_flip=56.0), Position(name='RM', statsbomb=None, opta=10, wyscout='ramf', x=69.6, y=72.0, x_flip=50.400000000000006, y_flip=8.0, x_half=33.599999999999994, y_half=72.0, x_half_flip=86.4, y_half_flip=8.0), Position(name='LM', statsbomb=None, opta=11, wyscout='lamf', x=69.6, y=8.0, x_flip=50.400000000000006, y_flip=72.0, x_half=33.599999999999994, y_half=8.0, x_half_flip=86.4, y_half_flip=72.0), Position(name='CAM', statsbomb=None, opta=7, wyscout='amf', x=88.8, y=40.0, x_flip=31.200000000000003, y_flip=40.0, x_half=43.8, y_half=40.0, x_half_flip=76.2, y_half_flip=40.0), Position(name='ST', statsbomb=None, opta=9, wyscout='cf', x=108.0, y=40.0, x_flip=12.0, y_flip=40.0, x_half=54.0, y_half=40.0, x_half_flip=66.0, y_half_flip=40.0)], 'pyramid': [Position(name='GK', statsbomb=None, opta=None, wyscout=None, x=12.0, y=40.0, x_flip=108.0, y_flip=40.0, x_half=3.0, y_half=40.0, x_half_flip=117.0, y_half_flip=40.0), Position(name='RCB', statsbomb=None, opta=None, wyscout=None, x=31.2, y=56.0, x_flip=88.8, y_flip=24.0, x_half=13.2, y_half=56.0, x_half_flip=106.8, y_half_flip=24.0), Position(name='LCB', statsbomb=None, opta=None, wyscout=None, x=31.2, y=24.0, x_flip=88.8, y_flip=56.0, x_half=13.2, y_half=24.0, x_half_flip=106.8, y_half_flip=56.0), Position(name='RCM', statsbomb=None, opta=None, wyscout=None, x=69.6, y=56.0, x_flip=50.400000000000006, y_flip=24.0, x_half=33.599999999999994, y_half=56.0, x_half_flip=86.4, y_half_flip=24.0), Position(name='CM', statsbomb=None, opta=None, wyscout=None, x=69.6, y=40.0, x_flip=50.400000000000006, y_flip=40.0, x_half=33.599999999999994, y_half=40.0, x_half_flip=86.4, y_half_flip=40.0), Position(name='LCM', statsbomb=None, opta=None, wyscout=None, x=69.6, y=24.0, x_flip=50.400000000000006, y_flip=56.0, x_half=33.599999999999994, y_half=24.0, x_half_flip=86.4, y_half_flip=56.0), Position(name='RW', statsbomb=None, opta=None, wyscout=None, x=88.8, y=72.0, x_flip=31.200000000000003, y_flip=8.0, x_half=43.8, y_half=72.0, x_half_flip=76.2, y_half_flip=8.0), Position(name='LW', statsbomb=None, opta=None, wyscout=None, x=88.8, y=8.0, x_flip=31.200000000000003, y_flip=72.0, x_half=43.8, y_half=8.0, x_half_flip=76.2, y_half_flip=72.0), Position(name='RCF', statsbomb=None, opta=None, wyscout=None, x=108.0, y=56.0, x_flip=12.0, y_flip=24.0, x_half=54.0, y_half=56.0, x_half_flip=66.0, y_half_flip=24.0), Position(name='ST', statsbomb=None, opta=None, wyscout=None, x=108.0, y=40.0, x_flip=12.0, y_flip=40.0, x_half=54.0, y_half=40.0, x_half_flip=66.0, y_half_flip=40.0), Position(name='LCF', statsbomb=None, opta=None, wyscout=None, x=108.0, y=24.0, x_flip=12.0, y_flip=56.0, x_half=54.0, y_half=24.0, x_half_flip=66.0, y_half_flip=56.0)], 'metodo': [Position(name='GK', statsbomb=None, opta=None, wyscout=None, x=12.0, y=40.0, x_flip=108.0, y_flip=40.0, x_half=3.0, y_half=40.0, x_half_flip=117.0, y_half_flip=40.0), Position(name='RCB', statsbomb=None, opta=None, wyscout=None, x=31.2, y=56.0, x_flip=88.8, y_flip=24.0, x_half=13.2, y_half=56.0, x_half_flip=106.8, y_half_flip=24.0), Position(name='LCB', statsbomb=None, opta=None, wyscout=None, x=31.2, y=24.0, x_flip=88.8, y_flip=56.0, x_half=13.2, y_half=24.0, x_half_flip=106.8, y_half_flip=56.0), Position(name='RWB', statsbomb=None, opta=None, wyscout=None, x=50.4, y=72.0, x_flip=69.6, y_flip=8.0, x_half=23.4, y_half=72.0, x_half_flip=96.6, y_half_flip=8.0), Position(name='CDM', statsbomb=None, opta=None, wyscout=None, x=50.4, y=40.0, x_flip=69.6, y_flip=40.0, x_half=23.4, y_half=40.0, x_half_flip=96.6, y_half_flip=40.0), Position(name='LWB', statsbomb=None, opta=None, wyscout=None, x=50.4, y=8.0, x_flip=69.6, y_flip=72.0, x_half=23.4, y_half=8.0, x_half_flip=96.6, y_half_flip=72.0), Position(name='RCM', statsbomb=None, opta=None, wyscout=None, x=69.6, y=56.0, x_flip=50.400000000000006, y_flip=24.0, x_half=33.599999999999994, y_half=56.0, x_half_flip=86.4, y_half_flip=24.0), Position(name='LCM', statsbomb=None, opta=None, wyscout=None, x=69.6, y=24.0, x_flip=50.400000000000006, y_flip=56.0, x_half=33.599999999999994, y_half=24.0, x_half_flip=86.4, y_half_flip=56.0), Position(name='RW', statsbomb=None, opta=None, wyscout=None, x=88.8, y=72.0, x_flip=31.200000000000003, y_flip=8.0, x_half=43.8, y_half=72.0, x_half_flip=76.2, y_half_flip=8.0), Position(name='LW', statsbomb=None, opta=None, wyscout=None, x=88.8, y=8.0, x_flip=31.200000000000003, y_flip=72.0, x_half=43.8, y_half=8.0, x_half_flip=76.2, y_half_flip=72.0), Position(name='ST', statsbomb=None, opta=None, wyscout=None, x=108.0, y=40.0, x_flip=12.0, y_flip=40.0, x_half=54.0, y_half=40.0, x_half_flip=66.0, y_half_flip=40.0)], 'wm': [Position(name='GK', statsbomb=None, opta=None, wyscout=None, x=12.0, y=40.0, x_flip=108.0, y_flip=40.0, x_half=3.0, y_half=40.0, x_half_flip=117.0, y_half_flip=40.0), Position(name='RCB', statsbomb=None, opta=None, wyscout=None, x=31.2, y=56.0, x_flip=88.8, y_flip=24.0, x_half=13.2, y_half=56.0, x_half_flip=106.8, y_half_flip=24.0), Position(name='CB', statsbomb=None, opta=None, wyscout=None, x=31.2, y=40.0, x_flip=88.8, y_flip=40.0, x_half=13.2, y_half=40.0, x_half_flip=106.8, y_half_flip=40.0), Position(name='LCB', statsbomb=None, opta=None, wyscout=None, x=31.2, y=24.0, x_flip=88.8, y_flip=56.0, x_half=13.2, y_half=24.0, x_half_flip=106.8, y_half_flip=56.0), Position(name='RDM', statsbomb=None, opta=None, wyscout=None, x=50.4, y=50.0, x_flip=69.6, y_flip=30.0, x_half=23.4, y_half=50.0, x_half_flip=96.6, y_half_flip=30.0), Position(name='LDM', statsbomb=None, opta=None, wyscout=None, x=50.4, y=30.0, x_flip=69.6, y_flip=50.0, x_half=23.4, y_half=30.0, x_half_flip=96.6, y_half_flip=50.0), Position(name='RCM', statsbomb=None, opta=None, wyscout=None, x=69.6, y=56.0, x_flip=50.400000000000006, y_flip=24.0, x_half=33.599999999999994, y_half=56.0, x_half_flip=86.4, y_half_flip=24.0), Position(name='LCM', statsbomb=None, opta=None, wyscout=None, x=69.6, y=24.0, x_flip=50.400000000000006, y_flip=56.0, x_half=33.599999999999994, y_half=24.0, x_half_flip=86.4, y_half_flip=56.0), Position(name='RW', statsbomb=None, opta=None, wyscout=None, x=88.8, y=72.0, x_flip=31.200000000000003, y_flip=8.0, x_half=43.8, y_half=72.0, x_half_flip=76.2, y_half_flip=8.0), Position(name='LW', statsbomb=None, opta=None, wyscout=None, x=88.8, y=8.0, x_flip=31.200000000000003, y_flip=72.0, x_half=43.8, y_half=8.0, x_half_flip=76.2, y_half_flip=72.0), Position(name='ST', statsbomb=None, opta=None, wyscout=None, x=108.0, y=40.0, x_flip=12.0, y_flip=40.0, x_half=54.0, y_half=40.0, x_half_flip=66.0, y_half_flip=40.0)], '41221': [Position(name='GK', statsbomb=[1], opta=None, wyscout=None, x=12.0, y=40.0, x_flip=108.0, y_flip=40.0, x_half=3.0, y_half=40.0, x_half_flip=117.0, y_half_flip=40.0), Position(name='RB', statsbomb=[2], opta=None, wyscout=None, x=31.2, y=70.0, x_flip=88.8, y_flip=10.0, x_half=13.2, y_half=70.0, x_half_flip=106.8, y_half_flip=10.0), Position(name='RCB', statsbomb=[3], opta=None, wyscout=None, x=31.2, y=50.0, x_flip=88.8, y_flip=30.0, x_half=13.2, y_half=50.0, x_half_flip=106.8, y_half_flip=30.0), Position(name='LCB', statsbomb=[5], opta=None, wyscout=None, x=31.2, y=30.0, x_flip=88.8, y_flip=50.0, x_half=13.2, y_half=30.0, x_half_flip=106.8, y_half_flip=50.0), Position(name='LB', statsbomb=[6], opta=None, wyscout=None, x=31.2, y=10.0, x_flip=88.8, y_flip=70.0, x_half=13.2, y_half=10.0, x_half_flip=106.8, y_half_flip=70.0), Position(name='CDM', statsbomb=[10], opta=None, wyscout=None, x=50.4, y=40.0, x_flip=69.6, y_flip=40.0, x_half=23.4, y_half=40.0, x_half_flip=96.6, y_half_flip=40.0), Position(name='RCM', statsbomb=[13], opta=None, wyscout=None, x=69.6, y=56.0, x_flip=50.400000000000006, y_flip=24.0, x_half=33.599999999999994, y_half=56.0, x_half_flip=86.4, y_half_flip=24.0), Position(name='LCM', statsbomb=[15], opta=None, wyscout=None, x=69.6, y=24.0, x_flip=50.400000000000006, y_flip=56.0, x_half=33.599999999999994, y_half=24.0, x_half_flip=86.4, y_half_flip=56.0), Position(name='RW', statsbomb=[17, 18], opta=None, wyscout=None, x=88.8, y=72.0, x_flip=31.200000000000003, y_flip=8.0, x_half=43.8, y_half=72.0, x_half_flip=76.2, y_half_flip=8.0), Position(name='LW', statsbomb=[21, 20], opta=None, wyscout=None, x=88.8, y=8.0, x_flip=31.200000000000003, y_flip=72.0, x_half=43.8, y_half=8.0, x_half_flip=76.2, y_half_flip=72.0), Position(name='ST', statsbomb=[23, 25], opta=None, wyscout=None, x=108.0, y=40.0, x_flip=12.0, y_flip=40.0, x_half=54.0, y_half=40.0, x_half_flip=66.0, y_half_flip=40.0)], '42211': [Position(name='GK', statsbomb=[1], opta=None, wyscout=None, x=12.0, y=40.0, x_flip=108.0, y_flip=40.0, x_half=3.0, y_half=40.0, x_half_flip=117.0, y_half_flip=40.0), Position(name='RB', statsbomb=[2], opta=None, wyscout=None, x=31.2, y=70.0, x_flip=88.8, y_flip=10.0, x_half=13.2, y_half=70.0, x_half_flip=106.8, y_half_flip=10.0), Position(name='RCB', statsbomb=[3], opta=None, wyscout=None, x=31.2, y=50.0, x_flip=88.8, y_flip=30.0, x_half=13.2, y_half=50.0, x_half_flip=106.8, y_half_flip=30.0), Position(name='LCB', statsbomb=[5], opta=None, wyscout=None, x=31.2, y=30.0, x_flip=88.8, y_flip=50.0, x_half=13.2, y_half=30.0, x_half_flip=106.8, y_half_flip=50.0), Position(name='LB', statsbomb=[6], opta=None, wyscout=None, x=31.2, y=10.0, x_flip=88.8, y_flip=70.0, x_half=13.2, y_half=10.0, x_half_flip=106.8, y_half_flip=70.0), Position(name='RDM', statsbomb=[9, 13], opta=None, wyscout=None, x=50.4, y=56.0, x_flip=69.6, y_flip=24.0, x_half=23.4, y_half=56.0, x_half_flip=96.6, y_half_flip=24.0), Position(name='LDM', statsbomb=[11, 15], opta=None, wyscout=None, x=50.4, y=24.0, x_flip=69.6, y_flip=56.0, x_half=23.4, y_half=24.0, x_half_flip=96.6, y_half_flip=56.0), Position(name='RM', statsbomb=[12, 17], opta=None, wyscout=None, x=69.6, y=72.0, x_flip=50.400000000000006, y_flip=8.0, x_half=33.599999999999994, y_half=72.0, x_half_flip=86.4, y_half_flip=8.0), Position(name='LM', statsbomb=[16, 21], opta=None, wyscout=None, x=69.6, y=8.0, x_flip=50.400000000000006, y_flip=72.0, x_half=33.599999999999994, y_half=8.0, x_half_flip=86.4, y_half_flip=72.0), Position(name='CAM', statsbomb=[19], opta=None, wyscout=None, x=88.8, y=40.0, x_flip=31.200000000000003, y_flip=40.0, x_half=43.8, y_half=40.0, x_half_flip=76.2, y_half_flip=40.0), Position(name='ST', statsbomb=[23, 25], opta=None, wyscout=None, x=108.0, y=40.0, x_flip=12.0, y_flip=40.0, x_half=54.0, y_half=40.0, x_half_flip=66.0, y_half_flip=40.0)], '32221': [Position(name='GK', statsbomb=[1], opta=None, wyscout=None, x=12.0, y=40.0, x_flip=108.0, y_flip=40.0, x_half=3.0, y_half=40.0, x_half_flip=117.0, y_half_flip=40.0), Position(name='RCB', statsbomb=[3], opta=None, wyscout=None, x=31.2, y=56.0, x_flip=88.8, y_flip=24.0, x_half=13.2, y_half=56.0, x_half_flip=106.8, y_half_flip=24.0), Position(name='CB', statsbomb=[4], opta=None, wyscout=None, x=31.2, y=40.0, x_flip=88.8, y_flip=40.0, x_half=13.2, y_half=40.0, x_half_flip=106.8, y_half_flip=40.0), Position(name='LCB', statsbomb=[5], opta=None, wyscout=None, x=31.2, y=24.0, x_flip=88.8, y_flip=56.0, x_half=13.2, y_half=24.0, x_half_flip=106.8, y_half_flip=56.0), Position(name='RDM', statsbomb=[9, 7], opta=None, wyscout=None, x=50.4, y=50.0, x_flip=69.6, y_flip=30.0, x_half=23.4, y_half=50.0, x_half_flip=96.6, y_half_flip=30.0), Position(name='LDM', statsbomb=[11, 8], opta=None, wyscout=None, x=50.4, y=30.0, x_flip=69.6, y_flip=50.0, x_half=23.4, y_half=30.0, x_half_flip=96.6, y_half_flip=50.0), Position(name='RM', statsbomb=[12, 13], opta=None, wyscout=None, x=69.6, y=72.0, x_flip=50.400000000000006, y_flip=8.0, x_half=33.599999999999994, y_half=72.0, x_half_flip=86.4, y_half_flip=8.0), Position(name='LM', statsbomb=[16, 15], opta=None, wyscout=None, x=69.6, y=8.0, x_flip=50.400000000000006, y_flip=72.0, x_half=33.599999999999994, y_half=8.0, x_half_flip=86.4, y_half_flip=72.0), Position(name='RAM', statsbomb=[18, 17], opta=None, wyscout=None, x=88.8, y=50.0, x_flip=31.200000000000003, y_flip=30.0, x_half=43.8, y_half=50.0, x_half_flip=76.2, y_half_flip=30.0), Position(name='LAM', statsbomb=[20, 21], opta=None, wyscout=None, x=88.8, y=30.0, x_flip=31.200000000000003, y_flip=50.0, x_half=43.8, y_half=30.0, x_half_flip=76.2, y_half_flip=50.0), Position(name='ST', statsbomb=[23], opta=None, wyscout=None, x=108.0, y=40.0, x_flip=12.0, y_flip=40.0, x_half=54.0, y_half=40.0, x_half_flip=66.0, y_half_flip=40.0)], '5221': [Position(name='GK', statsbomb=[1], opta=None, wyscout=None, x=12.0, y=40.0, x_flip=108.0, y_flip=40.0, x_half=3.0, y_half=40.0, x_half_flip=117.0, y_half_flip=40.0), Position(name='RB', statsbomb=[2], opta=None, wyscout=None, x=31.2, y=72.0, x_flip=88.8, y_flip=8.0, x_half=13.2, y_half=72.0, x_half_flip=106.8, y_half_flip=8.0), Position(name='RCB', statsbomb=[3], opta=None, wyscout=None, x=31.2, y=56.0, x_flip=88.8, y_flip=24.0, x_half=13.2, y_half=56.0, x_half_flip=106.8, y_half_flip=24.0), Position(name='CB', statsbomb=[4], opta=None, wyscout=None, x=31.2, y=40.0, x_flip=88.8, y_flip=40.0, x_half=13.2, y_half=40.0, x_half_flip=106.8, y_half_flip=40.0), Position(name='LCB', statsbomb=[5], opta=None, wyscout=None, x=31.2, y=24.0, x_flip=88.8, y_flip=56.0, x_half=13.2, y_half=24.0, x_half_flip=106.8, y_half_flip=56.0), Position(name='LB', statsbomb=[6], opta=None, wyscout=None, x=31.2, y=8.0, x_flip=88.8, y_flip=72.0, x_half=13.2, y_half=8.0, x_half_flip=106.8, y_half_flip=72.0), Position(name='RCM', statsbomb=[13, 9], opta=None, wyscout=None, x=69.6, y=56.0, x_flip=50.400000000000006, y_flip=24.0, x_half=33.599999999999994, y_half=56.0, x_half_flip=86.4, y_half_flip=24.0), Position(name='LCM', statsbomb=[15, 11], opta=None, wyscout=None, x=69.6, y=24.0, x_flip=50.400000000000006, y_flip=56.0, x_half=33.599999999999994, y_half=24.0, x_half_flip=86.4, y_half_flip=56.0), Position(name='RW', statsbomb=[17], opta=None, wyscout=None, x=88.8, y=72.0, x_flip=31.200000000000003, y_flip=8.0, x_half=43.8, y_half=72.0, x_half_flip=76.2, y_half_flip=8.0), Position(name='LW', statsbomb=[21], opta=None, wyscout=None, x=88.8, y=8.0, x_flip=31.200000000000003, y_flip=72.0, x_half=43.8, y_half=8.0, x_half_flip=76.2, y_half_flip=72.0), Position(name='ST', statsbomb=[23], opta=None, wyscout=None, x=108.0, y=40.0, x_flip=12.0, y_flip=40.0, x_half=54.0, y_half=40.0, x_half_flip=66.0, y_half_flip=40.0)], '3232': [Position(name='GK', statsbomb=[1], opta=None, wyscout='gk', x=12.0, y=40.0, x_flip=108.0, y_flip=40.0, x_half=3.0, y_half=40.0, x_half_flip=117.0, y_half_flip=40.0), Position(name='RCB', statsbomb=[3], opta=None, wyscout='rcb3', x=31.2, y=56.0, x_flip=88.8, y_flip=24.0, x_half=13.2, y_half=56.0, x_half_flip=106.8, y_half_flip=24.0), Position(name='CB', statsbomb=[4], opta=None, wyscout='cb', x=31.2, y=40.0, x_flip=88.8, y_flip=40.0, x_half=13.2, y_half=40.0, x_half_flip=106.8, y_half_flip=40.0), Position(name='LCB', statsbomb=[5], opta=None, wyscout='lcb3', x=31.2, y=24.0, x_flip=88.8, y_flip=56.0, x_half=13.2, y_half=24.0, x_half_flip=106.8, y_half_flip=56.0), Position(name='RWB', statsbomb=[7], opta=None, wyscout='rdmf', x=50.4, y=72.0, x_flip=69.6, y_flip=8.0, x_half=23.4, y_half=72.0, x_half_flip=96.6, y_half_flip=8.0), Position(name='LWB', statsbomb=[8], opta=None, wyscout='ldmf', x=50.4, y=8.0, x_flip=69.6, y_flip=72.0, x_half=23.4, y_half=8.0, x_half_flip=96.6, y_half_flip=72.0), Position(name='RCM', statsbomb=[13], opta=None, wyscout='ramf', x=69.6, y=56.0, x_flip=50.400000000000006, y_flip=24.0, x_half=33.599999999999994, y_half=56.0, x_half_flip=86.4, y_half_flip=24.0), Position(name='CM', statsbomb=[14], opta=None, wyscout='amf', x=69.6, y=40.0, x_flip=50.400000000000006, y_flip=40.0, x_half=33.599999999999994, y_half=40.0, x_half_flip=86.4, y_half_flip=40.0), Position(name='LCM', statsbomb=[15], opta=None, wyscout='lamf', x=69.6, y=24.0, x_flip=50.400000000000006, y_flip=56.0, x_half=33.599999999999994, y_half=24.0, x_half_flip=86.4, y_half_flip=56.0), Position(name='RCF', statsbomb=[22], opta=None, wyscout='ss', x=108.0, y=56.0, x_flip=12.0, y_flip=24.0, x_half=54.0, y_half=56.0, x_half_flip=66.0, y_half_flip=24.0), Position(name='LCF', statsbomb=[24], opta=None, wyscout='cf', x=108.0, y=24.0, x_flip=12.0, y_flip=56.0, x_half=54.0, y_half=24.0, x_half_flip=66.0, y_half_flip=56.0)], '312112': [Position(name='GK', statsbomb=[1], opta=None, wyscout=None, x=12.0, y=40.0, x_flip=108.0, y_flip=40.0, x_half=3.0, y_half=40.0, x_half_flip=117.0, y_half_flip=40.0), Position(name='RCB', statsbomb=[3], opta=None, wyscout=None, x=28.0, y=56.0, x_flip=92.0, y_flip=24.0, x_half=11.5, y_half=56.0, x_half_flip=108.5, y_half_flip=24.0), Position(name='CB', statsbomb=[4], opta=None, wyscout=None, x=28.0, y=40.0, x_flip=92.0, y_flip=40.0, x_half=11.5, y_half=40.0, x_half_flip=108.5, y_half_flip=40.0), Position(name='LCB', statsbomb=[5], opta=None, wyscout=None, x=28.0, y=24.0, x_flip=92.0, y_flip=56.0, x_half=11.5, y_half=24.0, x_half_flip=108.5, y_half_flip=56.0), Position(name='CDM', statsbomb=[10], opta=None, wyscout=None, x=44.0, y=40.0, x_flip=76.0, y_flip=40.0, x_half=20.0, y_half=40.0, x_half_flip=100.0, y_half_flip=40.0), Position(name='RCM', statsbomb=[13], opta=None, wyscout=None, x=60.0, y=56.0, x_flip=60.0, y_flip=24.0, x_half=28.5, y_half=56.0, x_half_flip=91.5, y_half_flip=24.0), Position(name='LCM', statsbomb=[15], opta=None, wyscout=None, x=60.0, y=24.0, x_flip=60.0, y_flip=56.0, x_half=28.5, y_half=24.0, x_half_flip=91.5, y_half_flip=56.0), Position(name='CAM', statsbomb=[19], opta=None, wyscout=None, x=76.0, y=40.0, x_flip=44.0, y_flip=40.0, x_half=37.0, y_half=40.0, x_half_flip=83.0, y_half_flip=40.0), Position(name='RCF', statsbomb=[22], opta=None, wyscout=None, x=108.0, y=56.0, x_flip=12.0, y_flip=24.0, x_half=54.0, y_half=56.0, x_half_flip=66.0, y_half_flip=24.0), Position(name='LCF', statsbomb=[24], opta=None, wyscout=None, x=108.0, y=24.0, x_flip=12.0, y_flip=56.0, x_half=54.0, y_half=24.0, x_half_flip=66.0, y_half_flip=56.0), Position(name='SS', statsbomb=[25], opta=None, wyscout=None, x=92.0, y=40.0, x_flip=28.0, y_flip=40.0, x_half=45.5, y_half=40.0, x_half_flip=74.5, y_half_flip=40.0)], '42121': [Position(name='GK', statsbomb=[1], opta=None, wyscout=None, x=12.0, y=40.0, x_flip=108.0, y_flip=40.0, x_half=3.0, y_half=40.0, x_half_flip=117.0, y_half_flip=40.0), Position(name='RB', statsbomb=[2], opta=None, wyscout=None, x=31.2, y=70.0, x_flip=88.8, y_flip=10.0, x_half=13.2, y_half=70.0, x_half_flip=106.8, y_half_flip=10.0), Position(name='RCB', statsbomb=[3], opta=None, wyscout=None, x=31.2, y=50.0, x_flip=88.8, y_flip=30.0, x_half=13.2, y_half=50.0, x_half_flip=106.8, y_half_flip=30.0), Position(name='LCB', statsbomb=[5], opta=None, wyscout=None, x=31.2, y=30.0, x_flip=88.8, y_flip=50.0, x_half=13.2, y_half=30.0, x_half_flip=106.8, y_half_flip=50.0), Position(name='LB', statsbomb=[6], opta=None, wyscout=None, x=31.2, y=10.0, x_flip=88.8, y_flip=70.0, x_half=13.2, y_half=10.0, x_half_flip=106.8, y_half_flip=70.0), Position(name='RDM', statsbomb=[9], opta=None, wyscout=None, x=50.4, y=56.0, x_flip=69.6, y_flip=24.0, x_half=23.4, y_half=56.0, x_half_flip=96.6, y_half_flip=24.0), Position(name='LDM', statsbomb=[11], opta=None, wyscout=None, x=50.4, y=24.0, x_flip=69.6, y_flip=56.0, x_half=23.4, y_half=24.0, x_half_flip=96.6, y_half_flip=56.0), Position(name='CM', statsbomb=[14], opta=None, wyscout=None, x=69.6, y=40.0, x_flip=50.400000000000006, y_flip=40.0, x_half=33.599999999999994, y_half=40.0, x_half_flip=86.4, y_half_flip=40.0), Position(name='RW', statsbomb=[17], opta=None, wyscout=None, x=88.8, y=72.0, x_flip=31.200000000000003, y_flip=8.0, x_half=43.8, y_half=72.0, x_half_flip=76.2, y_half_flip=8.0), Position(name='LW', statsbomb=[21], opta=None, wyscout=None, x=88.8, y=8.0, x_flip=31.200000000000003, y_flip=72.0, x_half=43.8, y_half=8.0, x_half_flip=76.2, y_half_flip=72.0), Position(name='ST', statsbomb=[23], opta=None, wyscout=None, x=108.0, y=40.0, x_flip=12.0, y_flip=40.0, x_half=54.0, y_half=40.0, x_half_flip=66.0, y_half_flip=40.0)], '31222': [Position(name='GK', statsbomb=[1], opta=None, wyscout=None, x=12.0, y=40.0, x_flip=108.0, y_flip=40.0, x_half=3.0, y_half=40.0, x_half_flip=117.0, y_half_flip=40.0), Position(name='RCB', statsbomb=[3], opta=None, wyscout=None, x=31.2, y=56.0, x_flip=88.8, y_flip=24.0, x_half=13.2, y_half=56.0, x_half_flip=106.8, y_half_flip=24.0), Position(name='CB', statsbomb=[4], opta=None, wyscout=None, x=31.2, y=40.0, x_flip=88.8, y_flip=40.0, x_half=13.2, y_half=40.0, x_half_flip=106.8, y_half_flip=40.0), Position(name='LCB', statsbomb=[5], opta=None, wyscout=None, x=31.2, y=24.0, x_flip=88.8, y_flip=56.0, x_half=13.2, y_half=24.0, x_half_flip=106.8, y_half_flip=56.0), Position(name='CDM', statsbomb=[10], opta=None, wyscout=None, x=50.4, y=40.0, x_flip=69.6, y_flip=40.0, x_half=23.4, y_half=40.0, x_half_flip=96.6, y_half_flip=40.0), Position(name='RCM', statsbomb=[13], opta=None, wyscout=None, x=69.6, y=56.0, x_flip=50.400000000000006, y_flip=24.0, x_half=33.599999999999994, y_half=56.0, x_half_flip=86.4, y_half_flip=24.0), Position(name='LCM', statsbomb=[15], opta=None, wyscout=None, x=69.6, y=24.0, x_flip=50.400000000000006, y_flip=56.0, x_half=33.599999999999994, y_half=24.0, x_half_flip=86.4, y_half_flip=56.0), Position(name='RW', statsbomb=[17], opta=None, wyscout=None, x=88.8, y=72.0, x_flip=31.200000000000003, y_flip=8.0, x_half=43.8, y_half=72.0, x_half_flip=76.2, y_half_flip=8.0), Position(name='LW', statsbomb=[21], opta=None, wyscout=None, x=88.8, y=8.0, x_flip=31.200000000000003, y_flip=72.0, x_half=43.8, y_half=8.0, x_half_flip=76.2, y_half_flip=72.0), Position(name='RCF', statsbomb=[22], opta=None, wyscout=None, x=108.0, y=56.0, x_flip=12.0, y_flip=24.0, x_half=54.0, y_half=56.0, x_half_flip=66.0, y_half_flip=24.0), Position(name='LCF', statsbomb=[24], opta=None, wyscout=None, x=108.0, y=24.0, x_flip=12.0, y_flip=56.0, x_half=54.0, y_half=24.0, x_half_flip=66.0, y_half_flip=56.0)], '4213': [Position(name='GK', statsbomb=[1], opta=None, wyscout='gk', x=12.0, y=40.0, x_flip=108.0, y_flip=40.0, x_half=3.0, y_half=40.0, x_half_flip=117.0, y_half_flip=40.0), Position(name='RB', statsbomb=[2], opta=None, wyscout='rb', x=31.2, y=70.0, x_flip=88.8, y_flip=10.0, x_half=13.2, y_half=70.0, x_half_flip=106.8, y_half_flip=10.0), Position(name='RCB', statsbomb=[3], opta=None, wyscout='rcb', x=31.2, y=50.0, x_flip=88.8, y_flip=30.0, x_half=13.2, y_half=50.0, x_half_flip=106.8, y_half_flip=30.0), Position(name='LCB', statsbomb=[5], opta=None, wyscout='lcb', x=31.2, y=30.0, x_flip=88.8, y_flip=50.0, x_half=13.2, y_half=30.0, x_half_flip=106.8, y_half_flip=50.0), Position(name='LB', statsbomb=[6], opta=None, wyscout='lb', x=31.2, y=10.0, x_flip=88.8, y_flip=70.0, x_half=13.2, y_half=10.0, x_half_flip=106.8, y_half_flip=70.0), Position(name='RDM', statsbomb=[9], opta=None, wyscout='rdmf', x=50.4, y=56.0, x_flip=69.6, y_flip=24.0, x_half=23.4, y_half=56.0, x_half_flip=96.6, y_half_flip=24.0), Position(name='LDM', statsbomb=[11], opta=None, wyscout='ldmf', x=50.4, y=24.0, x_flip=69.6, y_flip=56.0, x_half=23.4, y_half=24.0, x_half_flip=96.6, y_half_flip=56.0), Position(name='CAM', statsbomb=[19], opta=None, wyscout='amf', x=88.8, y=40.0, x_flip=31.200000000000003, y_flip=40.0, x_half=43.8, y_half=40.0, x_half_flip=76.2, y_half_flip=40.0), Position(name='RCF', statsbomb=[22], opta=None, wyscout='rwf', x=108.0, y=56.0, x_flip=12.0, y_flip=24.0, x_half=54.0, y_half=56.0, x_half_flip=66.0, y_half_flip=24.0), Position(name='ST', statsbomb=[23], opta=None, wyscout='cf', x=108.0, y=40.0, x_flip=12.0, y_flip=40.0, x_half=54.0, y_half=40.0, x_half_flip=66.0, y_half_flip=40.0), Position(name='LCF', statsbomb=[24], opta=None, wyscout='lwf', x=108.0, y=24.0, x_flip=12.0, y_flip=56.0, x_half=54.0, y_half=24.0, x_half_flip=66.0, y_half_flip=56.0)], '32122': [Position(name='GK', statsbomb=[1], opta=None, wyscout=None, x=12.0, y=40.0, x_flip=108.0, y_flip=40.0, x_half=3.0, y_half=40.0, x_half_flip=117.0, y_half_flip=40.0), Position(name='RCB', statsbomb=[3], opta=None, wyscout=None, x=31.2, y=56.0, x_flip=88.8, y_flip=24.0, x_half=13.2, y_half=56.0, x_half_flip=106.8, y_half_flip=24.0), Position(name='CB', statsbomb=[4], opta=None, wyscout=None, x=31.2, y=40.0, x_flip=88.8, y_flip=40.0, x_half=13.2, y_half=40.0, x_half_flip=106.8, y_half_flip=40.0), Position(name='LCB', statsbomb=[5], opta=None, wyscout=None, x=31.2, y=24.0, x_flip=88.8, y_flip=56.0, x_half=13.2, y_half=24.0, x_half_flip=106.8, y_half_flip=56.0), Position(name='RWB', statsbomb=[7], opta=None, wyscout=None, x=50.4, y=72.0, x_flip=69.6, y_flip=8.0, x_half=23.4, y_half=72.0, x_half_flip=96.6, y_half_flip=8.0), Position(name='LWB', statsbomb=[8], opta=None, wyscout=None, x=50.4, y=8.0, x_flip=69.6, y_flip=72.0, x_half=23.4, y_half=8.0, x_half_flip=96.6, y_half_flip=72.0), Position(name='CM', statsbomb=[14], opta=None, wyscout=None, x=69.6, y=40.0, x_flip=50.400000000000006, y_flip=40.0, x_half=33.599999999999994, y_half=40.0, x_half_flip=86.4, y_half_flip=40.0), Position(name='RAM', statsbomb=[18], opta=None, wyscout=None, x=88.8, y=56.0, x_flip=31.200000000000003, y_flip=24.0, x_half=43.8, y_half=56.0, x_half_flip=76.2, y_half_flip=24.0), Position(name='LAM', statsbomb=[20], opta=None, wyscout=None, x=88.8, y=24.0, x_flip=31.200000000000003, y_flip=56.0, x_half=43.8, y_half=24.0, x_half_flip=76.2, y_half_flip=56.0), Position(name='RCF', statsbomb=[22], opta=None, wyscout=None, x=108.0, y=56.0, x_flip=12.0, y_flip=24.0, x_half=54.0, y_half=56.0, x_half_flip=66.0, y_half_flip=24.0), Position(name='LCF', statsbomb=[24], opta=None, wyscout=None, x=108.0, y=24.0, x_flip=12.0, y_flip=56.0, x_half=54.0, y_half=24.0, x_half_flip=66.0, y_half_flip=56.0)], '41131': [Position(name='GK', statsbomb=[1], opta=None, wyscout=None, x=12.0, y=40.0, x_flip=108.0, y_flip=40.0, x_half=3.0, y_half=40.0, x_half_flip=117.0, y_half_flip=40.0), Position(name='RB', statsbomb=[2], opta=None, wyscout=None, x=31.2, y=70.0, x_flip=88.8, y_flip=10.0, x_half=13.2, y_half=70.0, x_half_flip=106.8, y_half_flip=10.0), Position(name='RCB', statsbomb=[3], opta=None, wyscout=None, x=31.2, y=50.0, x_flip=88.8, y_flip=30.0, x_half=13.2, y_half=50.0, x_half_flip=106.8, y_half_flip=30.0), Position(name='LCB', statsbomb=[5], opta=None, wyscout=None, x=31.2, y=30.0, x_flip=88.8, y_flip=50.0, x_half=13.2, y_half=30.0, x_half_flip=106.8, y_half_flip=50.0), Position(name='LB', statsbomb=[6], opta=None, wyscout=None, x=31.2, y=10.0, x_flip=88.8, y_flip=70.0, x_half=13.2, y_half=10.0, x_half_flip=106.8, y_half_flip=70.0), Position(name='CDM', statsbomb=[10], opta=None, wyscout=None, x=50.4, y=40.0, x_flip=69.6, y_flip=40.0, x_half=23.4, y_half=40.0, x_half_flip=96.6, y_half_flip=40.0), Position(name='CM', statsbomb=[14], opta=None, wyscout=None, x=69.6, y=40.0, x_flip=50.400000000000006, y_flip=40.0, x_half=33.599999999999994, y_half=40.0, x_half_flip=86.4, y_half_flip=40.0), Position(name='RW', statsbomb=[17], opta=None, wyscout=None, x=88.8, y=72.0, x_flip=31.200000000000003, y_flip=8.0, x_half=43.8, y_half=72.0, x_half_flip=76.2, y_half_flip=8.0), Position(name='CAM', statsbomb=[19], opta=None, wyscout=None, x=88.8, y=40.0, x_flip=31.200000000000003, y_flip=40.0, x_half=43.8, y_half=40.0, x_half_flip=76.2, y_half_flip=40.0), Position(name='LW', statsbomb=[21], opta=None, wyscout=None, x=88.8, y=8.0, x_flip=31.200000000000003, y_flip=72.0, x_half=43.8, y_half=8.0, x_half_flip=76.2, y_half_flip=72.0), Position(name='ST', statsbomb=[23], opta=None, wyscout=None, x=108.0, y=40.0, x_flip=12.0, y_flip=40.0, x_half=54.0, y_half=40.0, x_half_flip=66.0, y_half_flip=40.0)], '432': [Position(name='GK', statsbomb=None, opta=None, wyscout='gk', x=12.0, y=40.0, x_flip=108.0, y_flip=40.0, x_half=3.0, y_half=40.0, x_half_flip=117.0, y_half_flip=40.0), Position(name='RB', statsbomb=None, opta=None, wyscout='rb', x=31.2, y=70.0, x_flip=88.8, y_flip=10.0, x_half=13.2, y_half=70.0, x_half_flip=106.8, y_half_flip=10.0), Position(name='RCB', statsbomb=None, opta=None, wyscout='rcb', x=31.2, y=50.0, x_flip=88.8, y_flip=30.0, x_half=13.2, y_half=50.0, x_half_flip=106.8, y_half_flip=30.0), Position(name='LCB', statsbomb=None, opta=None, wyscout='lcb', x=31.2, y=30.0, x_flip=88.8, y_flip=50.0, x_half=13.2, y_half=30.0, x_half_flip=106.8, y_half_flip=50.0), Position(name='LB', statsbomb=None, opta=None, wyscout='lb', x=31.2, y=10.0, x_flip=88.8, y_flip=70.0, x_half=13.2, y_half=10.0, x_half_flip=106.8, y_half_flip=70.0), Position(name='CDM', statsbomb=None, opta=None, wyscout='dmf', x=50.4, y=40.0, x_flip=69.6, y_flip=40.0, x_half=23.4, y_half=40.0, x_half_flip=96.6, y_half_flip=40.0), Position(name='RCM', statsbomb=None, opta=None, wyscout='rcmf3', x=69.6, y=56.0, x_flip=50.400000000000006, y_flip=24.0, x_half=33.599999999999994, y_half=56.0, x_half_flip=86.4, y_half_flip=24.0), Position(name='LCM', statsbomb=None, opta=None, wyscout='lcmf3', x=69.6, y=24.0, x_flip=50.400000000000006, y_flip=56.0, x_half=33.599999999999994, y_half=24.0, x_half_flip=86.4, y_half_flip=56.0), Position(name='RCF', statsbomb=None, opta=None, wyscout='ss', x=108.0, y=56.0, x_flip=12.0, y_flip=24.0, x_half=54.0, y_half=56.0, x_half_flip=66.0, y_half_flip=24.0), Position(name='LCF', statsbomb=None, opta=None, wyscout='cf', x=108.0, y=24.0, x_flip=12.0, y_flip=56.0, x_half=54.0, y_half=24.0, x_half_flip=66.0, y_half_flip=56.0)], '441': [Position(name='GK', statsbomb=None, opta=None, wyscout='gk', x=12.0, y=40.0, x_flip=108.0, y_flip=40.0, x_half=3.0, y_half=40.0, x_half_flip=117.0, y_half_flip=40.0), Position(name='RB', statsbomb=None, opta=None, wyscout='rb', x=31.2, y=70.0, x_flip=88.8, y_flip=10.0, x_half=13.2, y_half=70.0, x_half_flip=106.8, y_half_flip=10.0), Position(name='RCB', statsbomb=None, opta=None, wyscout='rcb', x=31.2, y=50.0, x_flip=88.8, y_flip=30.0, x_half=13.2, y_half=50.0, x_half_flip=106.8, y_half_flip=30.0), Position(name='LCB', statsbomb=None, opta=None, wyscout='lcb', x=31.2, y=30.0, x_flip=88.8, y_flip=50.0, x_half=13.2, y_half=30.0, x_half_flip=106.8, y_half_flip=50.0), Position(name='LB', statsbomb=None, opta=None, wyscout='lb', x=31.2, y=10.0, x_flip=88.8, y_flip=70.0, x_half=13.2, y_half=10.0, x_half_flip=106.8, y_half_flip=70.0), Position(name='RM', statsbomb=None, opta=None, wyscout='rw', x=69.6, y=70.0, x_flip=50.400000000000006, y_flip=10.0, x_half=33.599999999999994, y_half=70.0, x_half_flip=86.4, y_half_flip=10.0), Position(name='RCM', statsbomb=None, opta=None, wyscout='rcmf', x=69.6, y=50.0, x_flip=50.400000000000006, y_flip=30.0, x_half=33.599999999999994, y_half=50.0, x_half_flip=86.4, y_half_flip=30.0), Position(name='LCM', statsbomb=None, opta=None, wyscout='lcmf', x=69.6, y=30.0, x_flip=50.400000000000006, y_flip=50.0, x_half=33.599999999999994, y_half=30.0, x_half_flip=86.4, y_half_flip=50.0), Position(name='LM', statsbomb=None, opta=None, wyscout='lw', x=69.6, y=10.0, x_flip=50.400000000000006, y_flip=70.0, x_half=33.599999999999994, y_half=10.0, x_half_flip=86.4, y_half_flip=70.0), Position(name='ST', statsbomb=None, opta=None, wyscout='cf', x=108.0, y=40.0, x_flip=12.0, y_flip=40.0, x_half=54.0, y_half=40.0, x_half_flip=66.0, y_half_flip=40.0)], '4311': [Position(name='GK', statsbomb=None, opta=None, wyscout='gk', x=12.0, y=40.0, x_flip=108.0, y_flip=40.0, x_half=3.0, y_half=40.0, x_half_flip=117.0, y_half_flip=40.0), Position(name='RB', statsbomb=None, opta=None, wyscout='rb', x=31.2, y=70.0, x_flip=88.8, y_flip=10.0, x_half=13.2, y_half=70.0, x_half_flip=106.8, y_half_flip=10.0), Position(name='RCB', statsbomb=None, opta=None, wyscout='rcb', x=31.2, y=50.0, x_flip=88.8, y_flip=30.0, x_half=13.2, y_half=50.0, x_half_flip=106.8, y_half_flip=30.0), Position(name='LCB', statsbomb=None, opta=None, wyscout='lcb', x=31.2, y=30.0, x_flip=88.8, y_flip=50.0, x_half=13.2, y_half=30.0, x_half_flip=106.8, y_half_flip=50.0), Position(name='LB', statsbomb=None, opta=None, wyscout='lb', x=31.2, y=10.0, x_flip=88.8, y_flip=70.0, x_half=13.2, y_half=10.0, x_half_flip=106.8, y_half_flip=70.0), Position(name='RCM', statsbomb=None, opta=None, wyscout='rcmf3', x=69.6, y=56.0, x_flip=50.400000000000006, y_flip=24.0, x_half=33.599999999999994, y_half=56.0, x_half_flip=86.4, y_half_flip=24.0), Position(name='CM', statsbomb=None, opta=None, wyscout='dmf', x=69.6, y=40.0, x_flip=50.400000000000006, y_flip=40.0, x_half=33.599999999999994, y_half=40.0, x_half_flip=86.4, y_half_flip=40.0), Position(name='LCM', statsbomb=None, opta=None, wyscout='lcmf3', x=69.6, y=24.0, x_flip=50.400000000000006, y_flip=56.0, x_half=33.599999999999994, y_half=24.0, x_half_flip=86.4, y_half_flip=56.0), Position(name='CAM', statsbomb=None, opta=None, wyscout='amf', x=88.8, y=40.0, x_flip=31.200000000000003, y_flip=40.0, x_half=43.8, y_half=40.0, x_half_flip=76.2, y_half_flip=40.0), Position(name='ST', statsbomb=None, opta=None, wyscout='cf', x=108.0, y=40.0, x_flip=12.0, y_flip=40.0, x_half=54.0, y_half=40.0, x_half_flip=66.0, y_half_flip=40.0)], '4221': [Position(name='GK', statsbomb=None, opta=None, wyscout='gk', x=12.0, y=40.0, x_flip=108.0, y_flip=40.0, x_half=3.0, y_half=40.0, x_half_flip=117.0, y_half_flip=40.0), Position(name='RB', statsbomb=None, opta=None, wyscout='rb', x=31.2, y=70.0, x_flip=88.8, y_flip=10.0, x_half=13.2, y_half=70.0, x_half_flip=106.8, y_half_flip=10.0), Position(name='RCB', statsbomb=None, opta=None, wyscout='rcb', x=31.2, y=50.0, x_flip=88.8, y_flip=30.0, x_half=13.2, y_half=50.0, x_half_flip=106.8, y_half_flip=30.0), Position(name='LCB', statsbomb=None, opta=None, wyscout='lcb', x=31.2, y=30.0, x_flip=88.8, y_flip=50.0, x_half=13.2, y_half=30.0, x_half_flip=106.8, y_half_flip=50.0), Position(name='LB', statsbomb=None, opta=None, wyscout='lb', x=31.2, y=10.0, x_flip=88.8, y_flip=70.0, x_half=13.2, y_half=10.0, x_half_flip=106.8, y_half_flip=70.0), Position(name='RCM', statsbomb=None, opta=None, wyscout='rdmf', x=69.6, y=56.0, x_flip=50.400000000000006, y_flip=24.0, x_half=33.599999999999994, y_half=56.0, x_half_flip=86.4, y_half_flip=24.0), Position(name='LCM', statsbomb=None, opta=None, wyscout='ldmf', x=69.6, y=24.0, x_flip=50.400000000000006, y_flip=56.0, x_half=33.599999999999994, y_half=24.0, x_half_flip=86.4, y_half_flip=56.0), Position(name='RW', statsbomb=None, opta=None, wyscout='ramf', x=88.8, y=72.0, x_flip=31.200000000000003, y_flip=8.0, x_half=43.8, y_half=72.0, x_half_flip=76.2, y_half_flip=8.0), Position(name='LW', statsbomb=None, opta=None, wyscout='lamf', x=88.8, y=8.0, x_flip=31.200000000000003, y_flip=72.0, x_half=43.8, y_half=8.0, x_half_flip=76.2, y_half_flip=72.0), Position(name='ST', statsbomb=None, opta=None, wyscout='cf', x=108.0, y=40.0, x_flip=12.0, y_flip=40.0, x_half=54.0, y_half=40.0, x_half_flip=66.0, y_half_flip=40.0)], '4131': [Position(name='GK', statsbomb=None, opta=None, wyscout='gk', x=12.0, y=40.0, x_flip=108.0, y_flip=40.0, x_half=3.0, y_half=40.0, x_half_flip=117.0, y_half_flip=40.0), Position(name='RB', statsbomb=None, opta=None, wyscout='rb', x=31.2, y=70.0, x_flip=88.8, y_flip=10.0, x_half=13.2, y_half=70.0, x_half_flip=106.8, y_half_flip=10.0), Position(name='RCB', statsbomb=None, opta=None, wyscout='rcb', x=31.2, y=50.0, x_flip=88.8, y_flip=30.0, x_half=13.2, y_half=50.0, x_half_flip=106.8, y_half_flip=30.0), Position(name='LCB', statsbomb=None, opta=None, wyscout='lcb', x=31.2, y=30.0, x_flip=88.8, y_flip=50.0, x_half=13.2, y_half=30.0, x_half_flip=106.8, y_half_flip=50.0), Position(name='LB', statsbomb=None, opta=None, wyscout='lb', x=31.2, y=10.0, x_flip=88.8, y_flip=70.0, x_half=13.2, y_half=10.0, x_half_flip=106.8, y_half_flip=70.0), Position(name='CDM', statsbomb=None, opta=None, wyscout='dmf', x=50.4, y=40.0, x_flip=69.6, y_flip=40.0, x_half=23.4, y_half=40.0, x_half_flip=96.6, y_half_flip=40.0), Position(name='RW', statsbomb=None, opta=None, wyscout='ramf', x=88.8, y=70.0, x_flip=31.200000000000003, y_flip=10.0, x_half=43.8, y_half=70.0, x_half_flip=76.2, y_half_flip=10.0), Position(name='CAM', statsbomb=None, opta=None, wyscout='amf', x=88.8, y=40.0, x_flip=31.200000000000003, y_flip=40.0, x_half=43.8, y_half=40.0, x_half_flip=76.2, y_half_flip=40.0), Position(name='LW', statsbomb=None, opta=None, wyscout='lamf', x=88.8, y=10.0, x_flip=31.200000000000003, y_flip=70.0, x_half=43.8, y_half=10.0, x_half_flip=76.2, y_half_flip=70.0), Position(name='ST', statsbomb=None, opta=None, wyscout='cf', x=108.0, y=40.0, x_flip=12.0, y_flip=40.0, x_half=54.0, y_half=40.0, x_half_flip=66.0, y_half_flip=40.0)], '4212': [Position(name='GK', statsbomb=None, opta=None, wyscout='gk', x=12.0, y=40.0, x_flip=108.0, y_flip=40.0, x_half=3.0, y_half=40.0, x_half_flip=117.0, y_half_flip=40.0), Position(name='RB', statsbomb=None, opta=None, wyscout='rb', x=31.2, y=70.0, x_flip=88.8, y_flip=10.0, x_half=13.2, y_half=70.0, x_half_flip=106.8, y_half_flip=10.0), Position(name='RCB', statsbomb=None, opta=None, wyscout='rcb', x=31.2, y=50.0, x_flip=88.8, y_flip=30.0, x_half=13.2, y_half=50.0, x_half_flip=106.8, y_half_flip=30.0), Position(name='LCB', statsbomb=None, opta=None, wyscout='lcb', x=31.2, y=30.0, x_flip=88.8, y_flip=50.0, x_half=13.2, y_half=30.0, x_half_flip=106.8, y_half_flip=50.0), Position(name='LB', statsbomb=None, opta=None, wyscout='lb', x=31.2, y=10.0, x_flip=88.8, y_flip=70.0, x_half=13.2, y_half=10.0, x_half_flip=106.8, y_half_flip=70.0), Position(name='RDM', statsbomb=None, opta=None, wyscout='rdmf', x=50.4, y=56.0, x_flip=69.6, y_flip=24.0, x_half=23.4, y_half=56.0, x_half_flip=96.6, y_half_flip=24.0), Position(name='LDM', statsbomb=None, opta=None, wyscout='ldmf', x=50.4, y=24.0, x_flip=69.6, y_flip=56.0, x_half=23.4, y_half=24.0, x_half_flip=96.6, y_half_flip=56.0), Position(name='CAM', statsbomb=None, opta=None, wyscout='amf', x=88.8, y=40.0, x_flip=31.200000000000003, y_flip=40.0, x_half=43.8, y_half=40.0, x_half_flip=76.2, y_half_flip=40.0), Position(name='RCF', statsbomb=None, opta=None, wyscout='ss', x=108.0, y=56.0, x_flip=12.0, y_flip=24.0, x_half=54.0, y_half=56.0, x_half_flip=66.0, y_half_flip=24.0), Position(name='LCF', statsbomb=None, opta=None, wyscout='cf', x=108.0, y=24.0, x_flip=12.0, y_flip=56.0, x_half=54.0, y_half=24.0, x_half_flip=66.0, y_half_flip=56.0)], '342': [Position(name='GK', statsbomb=None, opta=None, wyscout='gk', x=12.0, y=40.0, x_flip=108.0, y_flip=40.0, x_half=3.0, y_half=40.0, x_half_flip=117.0, y_half_flip=40.0), Position(name='RCB', statsbomb=None, opta=None, wyscout='rcb3', x=31.2, y=56.0, x_flip=88.8, y_flip=24.0, x_half=13.2, y_half=56.0, x_half_flip=106.8, y_half_flip=24.0), Position(name='CB', statsbomb=None, opta=None, wyscout='cb', x=31.2, y=40.0, x_flip=88.8, y_flip=40.0, x_half=13.2, y_half=40.0, x_half_flip=106.8, y_half_flip=40.0), Position(name='LCB', statsbomb=None, opta=None, wyscout='lcb3', x=31.2, y=24.0, x_flip=88.8, y_flip=56.0, x_half=13.2, y_half=24.0, x_half_flip=106.8, y_half_flip=56.0), Position(name='RWB', statsbomb=None, opta=None, wyscout='rwb', x=50.4, y=72.0, x_flip=69.6, y_flip=8.0, x_half=23.4, y_half=72.0, x_half_flip=96.6, y_half_flip=8.0), Position(name='LWB', statsbomb=None, opta=None, wyscout='lwb', x=50.4, y=8.0, x_flip=69.6, y_flip=72.0, x_half=23.4, y_half=8.0, x_half_flip=96.6, y_half_flip=72.0), Position(name='RCM', statsbomb=None, opta=None, wyscout='rcmf', x=69.6, y=56.0, x_flip=50.400000000000006, y_flip=24.0, x_half=33.599999999999994, y_half=56.0, x_half_flip=86.4, y_half_flip=24.0), Position(name='LCM', statsbomb=None, opta=None, wyscout='lcmf', x=69.6, y=24.0, x_flip=50.400000000000006, y_flip=56.0, x_half=33.599999999999994, y_half=24.0, x_half_flip=86.4, y_half_flip=56.0), Position(name='RCF', statsbomb=None, opta=None, wyscout='ss', x=108.0, y=56.0, x_flip=12.0, y_flip=24.0, x_half=54.0, y_half=56.0, x_half_flip=66.0, y_half_flip=24.0), Position(name='LCF', statsbomb=None, opta=None, wyscout='cf', x=108.0, y=24.0, x_flip=12.0, y_flip=56.0, x_half=54.0, y_half=24.0, x_half_flip=66.0, y_half_flip=56.0)], '3411': [Position(name='GK', statsbomb=None, opta=None, wyscout='gk', x=12.0, y=40.0, x_flip=108.0, y_flip=40.0, x_half=3.0, y_half=40.0, x_half_flip=117.0, y_half_flip=40.0), Position(name='RCB', statsbomb=None, opta=None, wyscout='rcb3', x=31.2, y=56.0, x_flip=88.8, y_flip=24.0, x_half=13.2, y_half=56.0, x_half_flip=106.8, y_half_flip=24.0), Position(name='CB', statsbomb=None, opta=None, wyscout='cb', x=31.2, y=40.0, x_flip=88.8, y_flip=40.0, x_half=13.2, y_half=40.0, x_half_flip=106.8, y_half_flip=40.0), Position(name='LCB', statsbomb=None, opta=None, wyscout='lcb3', x=31.2, y=24.0, x_flip=88.8, y_flip=56.0, x_half=13.2, y_half=24.0, x_half_flip=106.8, y_half_flip=56.0), Position(name='RWB', statsbomb=None, opta=None, wyscout='rwb', x=50.4, y=72.0, x_flip=69.6, y_flip=8.0, x_half=23.4, y_half=72.0, x_half_flip=96.6, y_half_flip=8.0), Position(name='LWB', statsbomb=None, opta=None, wyscout='lwb', x=50.4, y=8.0, x_flip=69.6, y_flip=72.0, x_half=23.4, y_half=8.0, x_half_flip=96.6, y_half_flip=72.0), Position(name='RCM', statsbomb=None, opta=None, wyscout='rcmf', x=69.6, y=56.0, x_flip=50.400000000000006, y_flip=24.0, x_half=33.599999999999994, y_half=56.0, x_half_flip=86.4, y_half_flip=24.0), Position(name='LCM', statsbomb=None, opta=None, wyscout='lcmf', x=69.6, y=24.0, x_flip=50.400000000000006, y_flip=56.0, x_half=33.599999999999994, y_half=24.0, x_half_flip=86.4, y_half_flip=56.0), Position(name='CAM', statsbomb=None, opta=None, wyscout='amf', x=88.8, y=40.0, x_flip=31.200000000000003, y_flip=40.0, x_half=43.8, y_half=40.0, x_half_flip=76.2, y_half_flip=40.0), Position(name='ST', statsbomb=None, opta=None, wyscout='cf', x=108.0, y=40.0, x_flip=12.0, y_flip=40.0, x_half=54.0, y_half=40.0, x_half_flip=66.0, y_half_flip=40.0)], '351': [Position(name='GK', statsbomb=None, opta=None, wyscout='gk', x=12.0, y=40.0, x_flip=108.0, y_flip=40.0, x_half=3.0, y_half=40.0, x_half_flip=117.0, y_half_flip=40.0), Position(name='RCB', statsbomb=None, opta=None, wyscout='rcb3', x=31.2, y=56.0, x_flip=88.8, y_flip=24.0, x_half=13.2, y_half=56.0, x_half_flip=106.8, y_half_flip=24.0), Position(name='CB', statsbomb=None, opta=None, wyscout='cb', x=31.2, y=40.0, x_flip=88.8, y_flip=40.0, x_half=13.2, y_half=40.0, x_half_flip=106.8, y_half_flip=40.0), Position(name='LCB', statsbomb=None, opta=None, wyscout='lcb3', x=31.2, y=24.0, x_flip=88.8, y_flip=56.0, x_half=13.2, y_half=24.0, x_half_flip=106.8, y_half_flip=56.0), Position(name='RWB', statsbomb=None, opta=None, wyscout='rwb', x=50.4, y=72.0, x_flip=69.6, y_flip=8.0, x_half=23.4, y_half=72.0, x_half_flip=96.6, y_half_flip=8.0), Position(name='LWB', statsbomb=None, opta=None, wyscout='lwb', x=50.4, y=8.0, x_flip=69.6, y_flip=72.0, x_half=23.4, y_half=8.0, x_half_flip=96.6, y_half_flip=72.0), Position(name='RCM', statsbomb=None, opta=None, wyscout='rcmf3', x=69.6, y=56.0, x_flip=50.400000000000006, y_flip=24.0, x_half=33.599999999999994, y_half=56.0, x_half_flip=86.4, y_half_flip=24.0), Position(name='CM', statsbomb=None, opta=None, wyscout='dmf', x=69.6, y=40.0, x_flip=50.400000000000006, y_flip=40.0, x_half=33.599999999999994, y_half=40.0, x_half_flip=86.4, y_half_flip=40.0), Position(name='LCM', statsbomb=None, opta=None, wyscout='lcmf3', x=69.6, y=24.0, x_flip=50.400000000000006, y_flip=56.0, x_half=33.599999999999994, y_half=24.0, x_half_flip=86.4, y_half_flip=56.0), Position(name='ST', statsbomb=None, opta=None, wyscout='cf', x=108.0, y=40.0, x_flip=12.0, y_flip=40.0, x_half=54.0, y_half=40.0, x_half_flip=66.0, y_half_flip=40.0)], '531': [Position(name='GK', statsbomb=None, opta=None, wyscout='gk', x=12.0, y=40.0, x_flip=108.0, y_flip=40.0, x_half=3.0, y_half=40.0, x_half_flip=117.0, y_half_flip=40.0), Position(name='RB', statsbomb=None, opta=None, wyscout='rb5', x=31.2, y=72.0, x_flip=88.8, y_flip=8.0, x_half=13.2, y_half=72.0, x_half_flip=106.8, y_half_flip=8.0), Position(name='RCB', statsbomb=None, opta=None, wyscout='rcb3', x=31.2, y=56.0, x_flip=88.8, y_flip=24.0, x_half=13.2, y_half=56.0, x_half_flip=106.8, y_half_flip=24.0), Position(name='CB', statsbomb=None, opta=None, wyscout='cb', x=31.2, y=40.0, x_flip=88.8, y_flip=40.0, x_half=13.2, y_half=40.0, x_half_flip=106.8, y_half_flip=40.0), Position(name='LCB', statsbomb=None, opta=None, wyscout='lcb3', x=31.2, y=24.0, x_flip=88.8, y_flip=56.0, x_half=13.2, y_half=24.0, x_half_flip=106.8, y_half_flip=56.0), Position(name='LB', statsbomb=None, opta=None, wyscout='lb5', x=31.2, y=8.0, x_flip=88.8, y_flip=72.0, x_half=13.2, y_half=8.0, x_half_flip=106.8, y_half_flip=72.0), Position(name='CDM', statsbomb=None, opta=None, wyscout='dmf', x=50.4, y=40.0, x_flip=69.6, y_flip=40.0, x_half=23.4, y_half=40.0, x_half_flip=96.6, y_half_flip=40.0), Position(name='RCM', statsbomb=None, opta=None, wyscout='rcmf3', x=69.6, y=56.0, x_flip=50.400000000000006, y_flip=24.0, x_half=33.599999999999994, y_half=56.0, x_half_flip=86.4, y_half_flip=24.0), Position(name='LCM', statsbomb=None, opta=None, wyscout='lcmf3', x=69.6, y=24.0, x_flip=50.400000000000006, y_flip=56.0, x_half=33.599999999999994, y_half=24.0, x_half_flip=86.4, y_half_flip=56.0), Position(name='ST', statsbomb=None, opta=None, wyscout='cf', x=108.0, y=40.0, x_flip=12.0, y_flip=40.0, x_half=54.0, y_half=40.0, x_half_flip=66.0, y_half_flip=40.0)], '431': [Position(name='GK', statsbomb=None, opta=None, wyscout='gk', x=12.0, y=40.0, x_flip=108.0, y_flip=40.0, x_half=3.0, y_half=40.0, x_half_flip=117.0, y_half_flip=40.0), Position(name='RB', statsbomb=None, opta=None, wyscout='rb', x=31.2, y=70.0, x_flip=88.8, y_flip=10.0, x_half=13.2, y_half=70.0, x_half_flip=106.8, y_half_flip=10.0), Position(name='RCB', statsbomb=None, opta=None, wyscout='rcb', x=31.2, y=50.0, x_flip=88.8, y_flip=30.0, x_half=13.2, y_half=50.0, x_half_flip=106.8, y_half_flip=30.0), Position(name='LCB', statsbomb=None, opta=None, wyscout='lcb', x=31.2, y=30.0, x_flip=88.8, y_flip=50.0, x_half=13.2, y_half=30.0, x_half_flip=106.8, y_half_flip=50.0), Position(name='LB', statsbomb=None, opta=None, wyscout='lb', x=31.2, y=10.0, x_flip=88.8, y_flip=70.0, x_half=13.2, y_half=10.0, x_half_flip=106.8, y_half_flip=70.0), Position(name='RCM', statsbomb=None, opta=None, wyscout='rcmf3', x=69.6, y=56.0, x_flip=50.400000000000006, y_flip=24.0, x_half=33.599999999999994, y_half=56.0, x_half_flip=86.4, y_half_flip=24.0), Position(name='CM', statsbomb=None, opta=None, wyscout='dmf', x=69.6, y=40.0, x_flip=50.400000000000006, y_flip=40.0, x_half=33.599999999999994, y_half=40.0, x_half_flip=86.4, y_half_flip=40.0), Position(name='LCM', statsbomb=None, opta=None, wyscout='lcmf3', x=69.6, y=24.0, x_flip=50.400000000000006, y_flip=56.0, x_half=33.599999999999994, y_half=24.0, x_half_flip=86.4, y_half_flip=56.0), Position(name='ST', statsbomb=None, opta=None, wyscout='cf', x=108.0, y=40.0, x_flip=12.0, y_flip=40.0, x_half=54.0, y_half=40.0, x_half_flip=66.0, y_half_flip=40.0)], '44': [Position(name='GK', statsbomb=None, opta=None, wyscout='gk', x=12.0, y=40.0, x_flip=108.0, y_flip=40.0, x_half=3.0, y_half=40.0, x_half_flip=117.0, y_half_flip=40.0), Position(name='RB', statsbomb=None, opta=None, wyscout='rb', x=31.2, y=70.0, x_flip=88.8, y_flip=10.0, x_half=13.2, y_half=70.0, x_half_flip=106.8, y_half_flip=10.0), Position(name='RCB', statsbomb=None, opta=None, wyscout='rcb', x=31.2, y=50.0, x_flip=88.8, y_flip=30.0, x_half=13.2, y_half=50.0, x_half_flip=106.8, y_half_flip=30.0), Position(name='LCB', statsbomb=None, opta=None, wyscout='lcb', x=31.2, y=30.0, x_flip=88.8, y_flip=50.0, x_half=13.2, y_half=30.0, x_half_flip=106.8, y_half_flip=50.0), Position(name='LB', statsbomb=None, opta=None, wyscout='lb', x=31.2, y=10.0, x_flip=88.8, y_flip=70.0, x_half=13.2, y_half=10.0, x_half_flip=106.8, y_half_flip=70.0), Position(name='RM', statsbomb=None, opta=None, wyscout='rw', x=69.6, y=70.0, x_flip=50.400000000000006, y_flip=10.0, x_half=33.599999999999994, y_half=70.0, x_half_flip=86.4, y_half_flip=10.0), Position(name='RCM', statsbomb=None, opta=None, wyscout='rcmf', x=69.6, y=50.0, x_flip=50.400000000000006, y_flip=30.0, x_half=33.599999999999994, y_half=50.0, x_half_flip=86.4, y_half_flip=30.0), Position(name='LCM', statsbomb=None, opta=None, wyscout='lcmf', x=69.6, y=30.0, x_flip=50.400000000000006, y_flip=50.0, x_half=33.599999999999994, y_half=30.0, x_half_flip=86.4, y_half_flip=50.0), Position(name='LM', statsbomb=None, opta=None, wyscout='lw', x=69.6, y=10.0, x_flip=50.400000000000006, y_flip=70.0, x_half=33.599999999999994, y_half=10.0, x_half_flip=86.4, y_half_flip=70.0)], '422': [Position(name='GK', statsbomb=None, opta=None, wyscout='gk', x=12.0, y=40.0, x_flip=108.0, y_flip=40.0, x_half=3.0, y_half=40.0, x_half_flip=117.0, y_half_flip=40.0), Position(name='RB', statsbomb=None, opta=None, wyscout='rb', x=31.2, y=70.0, x_flip=88.8, y_flip=10.0, x_half=13.2, y_half=70.0, x_half_flip=106.8, y_half_flip=10.0), Position(name='RCB', statsbomb=None, opta=None, wyscout='rcb', x=31.2, y=50.0, x_flip=88.8, y_flip=30.0, x_half=13.2, y_half=50.0, x_half_flip=106.8, y_half_flip=30.0), Position(name='LCB', statsbomb=None, opta=None, wyscout='lcb', x=31.2, y=30.0, x_flip=88.8, y_flip=50.0, x_half=13.2, y_half=30.0, x_half_flip=106.8, y_half_flip=50.0), Position(name='LB', statsbomb=None, opta=None, wyscout='lb', x=31.2, y=10.0, x_flip=88.8, y_flip=70.0, x_half=13.2, y_half=10.0, x_half_flip=106.8, y_half_flip=70.0), Position(name='RCM', statsbomb=None, opta=None, wyscout='rdmf', x=69.6, y=56.0, x_flip=50.400000000000006, y_flip=24.0, x_half=33.599999999999994, y_half=56.0, x_half_flip=86.4, y_half_flip=24.0), Position(name='LCM', statsbomb=None, opta=None, wyscout='ldmf', x=69.6, y=24.0, x_flip=50.400000000000006, y_flip=56.0, x_half=33.599999999999994, y_half=24.0, x_half_flip=86.4, y_half_flip=56.0), Position(name='RW', statsbomb=None, opta=None, wyscout='ramf', x=88.8, y=72.0, x_flip=31.200000000000003, y_flip=8.0, x_half=43.8, y_half=72.0, x_half_flip=76.2, y_half_flip=8.0), Position(name='LW', statsbomb=None, opta=None, wyscout='lamf', x=88.8, y=8.0, x_flip=31.200000000000003, y_flip=72.0, x_half=43.8, y_half=8.0, x_half_flip=76.2, y_half_flip=72.0)], '341': [Position(name='GK', statsbomb=None, opta=None, wyscout='gk', x=12.0, y=40.0, x_flip=108.0, y_flip=40.0, x_half=3.0, y_half=40.0, x_half_flip=117.0, y_half_flip=40.0), Position(name='RCB', statsbomb=None, opta=None, wyscout='rcb3', x=31.2, y=56.0, x_flip=88.8, y_flip=24.0, x_half=13.2, y_half=56.0, x_half_flip=106.8, y_half_flip=24.0), Position(name='CB', statsbomb=None, opta=None, wyscout='cb', x=31.2, y=40.0, x_flip=88.8, y_flip=40.0, x_half=13.2, y_half=40.0, x_half_flip=106.8, y_half_flip=40.0), Position(name='LCB', statsbomb=None, opta=None, wyscout='lcb3', x=31.2, y=24.0, x_flip=88.8, y_flip=56.0, x_half=13.2, y_half=24.0, x_half_flip=106.8, y_half_flip=56.0), Position(name='RWB', statsbomb=None, opta=None, wyscout='rwb', x=50.4, y=72.0, x_flip=69.6, y_flip=8.0, x_half=23.4, y_half=72.0, x_half_flip=96.6, y_half_flip=8.0), Position(name='LWB', statsbomb=None, opta=None, wyscout='lwb', x=50.4, y=8.0, x_flip=69.6, y_flip=72.0, x_half=23.4, y_half=8.0, x_half_flip=96.6, y_half_flip=72.0), Position(name='RCM', statsbomb=None, opta=None, wyscout='rcmf', x=69.6, y=56.0, x_flip=50.400000000000006, y_flip=24.0, x_half=33.599999999999994, y_half=56.0, x_half_flip=86.4, y_half_flip=24.0), Position(name='LCM', statsbomb=None, opta=None, wyscout='lcmf', x=69.6, y=24.0, x_flip=50.400000000000006, y_flip=56.0, x_half=33.599999999999994, y_half=24.0, x_half_flip=86.4, y_half_flip=56.0), Position(name='ST', statsbomb=None, opta=None, wyscout='cf', x=108.0, y=40.0, x_flip=12.0, y_flip=40.0, x_half=54.0, y_half=40.0, x_half_flip=66.0, y_half_flip=40.0)], '53': [Position(name='GK', statsbomb=None, opta=None, wyscout='gk', x=12.0, y=40.0, x_flip=108.0, y_flip=40.0, x_half=3.0, y_half=40.0, x_half_flip=117.0, y_half_flip=40.0), Position(name='RB', statsbomb=None, opta=None, wyscout='rb5', x=31.2, y=72.0, x_flip=88.8, y_flip=8.0, x_half=13.2, y_half=72.0, x_half_flip=106.8, y_half_flip=8.0), Position(name='RCB', statsbomb=None, opta=None, wyscout='rcb3', x=31.2, y=56.0, x_flip=88.8, y_flip=24.0, x_half=13.2, y_half=56.0, x_half_flip=106.8, y_half_flip=24.0), Position(name='CB', statsbomb=None, opta=None, wyscout='cb', x=31.2, y=40.0, x_flip=88.8, y_flip=40.0, x_half=13.2, y_half=40.0, x_half_flip=106.8, y_half_flip=40.0), Position(name='LCB', statsbomb=None, opta=None, wyscout='lcb3', x=31.2, y=24.0, x_flip=88.8, y_flip=56.0, x_half=13.2, y_half=24.0, x_half_flip=106.8, y_half_flip=56.0), Position(name='LB', statsbomb=None, opta=None, wyscout='lb5', x=31.2, y=8.0, x_flip=88.8, y_flip=72.0, x_half=13.2, y_half=8.0, x_half_flip=106.8, y_half_flip=72.0), Position(name='CDM', statsbomb=None, opta=None, wyscout='dmf', x=50.4, y=40.0, x_flip=69.6, y_flip=40.0, x_half=23.4, y_half=40.0, x_half_flip=96.6, y_half_flip=40.0), Position(name='RCM', statsbomb=None, opta=None, wyscout='rcmf3', x=69.6, y=56.0, x_flip=50.400000000000006, y_flip=24.0, x_half=33.599999999999994, y_half=56.0, x_half_flip=86.4, y_half_flip=24.0), Position(name='LCM', statsbomb=None, opta=None, wyscout='lcmf3', x=69.6, y=24.0, x_flip=50.400000000000006, y_flip=56.0, x_half=33.599999999999994, y_half=24.0, x_half_flip=86.4, y_half_flip=56.0)]}),\n",
       " 'stripe_end': 0.9545454545454546,\n",
       " 'stripe_start': 0.045454545454545456,\n",
       " 'grass_stripe_end': 954,\n",
       " 'grass_stripe_start': 45,\n",
       " 'goal_left': array([[ 0., 44.],\n",
       "        [ 0., 36.]]),\n",
       " 'goal_right': array([[120.,  44.],\n",
       "        [120.,  36.]])}"
      ]
     },
     "execution_count": 7,
     "metadata": {},
     "output_type": "execute_result"
    }
   ],
   "source": [
    "vars(pitch)"
   ]
  },
  {
   "cell_type": "code",
   "execution_count": 10,
   "id": "46325249-18c3-48e7-9b82-b0367ec5c987",
   "metadata": {},
   "outputs": [
    {
     "data": {
      "text/plain": [
       "dict"
      ]
     },
     "execution_count": 10,
     "metadata": {},
     "output_type": "execute_result"
    }
   ],
   "source": [
    "type(params)"
   ]
  },
  {
   "cell_type": "code",
   "execution_count": null,
   "id": "3c52bcee-f01b-41b9-84d0-8a0923744ad6",
   "metadata": {},
   "outputs": [],
   "source": []
  }
 ],
 "metadata": {
  "kernelspec": {
   "display_name": "Python 3 (ipykernel)",
   "language": "python",
   "name": "python3"
  },
  "language_info": {
   "codemirror_mode": {
    "name": "ipython",
    "version": 3
   },
   "file_extension": ".py",
   "mimetype": "text/x-python",
   "name": "python",
   "nbconvert_exporter": "python",
   "pygments_lexer": "ipython3",
   "version": "3.10.13"
  }
 },
 "nbformat": 4,
 "nbformat_minor": 5
}
