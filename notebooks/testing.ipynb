{
 "cells": [
  {
   "cell_type": "code",
   "execution_count": 1,
   "id": "fbb0406c-1d85-4c87-a376-762289d1b203",
   "metadata": {},
   "outputs": [],
   "source": [
    "# Import libraries\n",
    "import datetime\n",
    "import pandas as pd\n",
    "import numpy as np\n",
    "import networkx as nx\n",
    "import matplotlib.pyplot as plt\n",
    "import json\n",
    "from mplsoccer import Pitch, Sbopen\n",
    "from typing import Literal"
   ]
  },
  {
   "cell_type": "code",
   "execution_count": 2,
   "id": "f22b3e90-1d8f-4c24-87a3-8d8d2ad15cbc",
   "metadata": {},
   "outputs": [],
   "source": [
    "# Find sys path\n",
    "import sys\n",
    "sys.path.append(\"../src\")"
   ]
  },
  {
   "cell_type": "code",
   "execution_count": 3,
   "id": "c5989dbe-5d60-43c8-b3db-37289b017c7d",
   "metadata": {},
   "outputs": [],
   "source": [
    "# Import custom functions\n",
    "import load_data as ld"
   ]
  },
  {
   "cell_type": "markdown",
   "id": "d70bc000-7532-4f4d-8f68-2c9ce6786fed",
   "metadata": {},
   "source": [
    "## Load data"
   ]
  },
  {
   "cell_type": "code",
   "execution_count": 4,
   "id": "f5d65b60-7754-4b16-8b75-47da1adf3fa4",
   "metadata": {},
   "outputs": [],
   "source": [
    "# Read config json file and define parameters\n",
    "with open(\"../config.json\", \"r\") as file:\n",
    "    params = json.load(file)\n",
    "\n",
    "# Load data and get match data\n",
    "parser, match_data = ld.get_match_data(params[\"competition\"], params[\"season\"])\n",
    "\n",
    "# Get match info\n",
    "match_info_dict, lineups = ld.get_match_info(parser, match_data, 3942819)"
   ]
  },
  {
   "cell_type": "code",
   "execution_count": 5,
   "id": "78210af9-c3e0-49ba-9def-9124c26a707d",
   "metadata": {},
   "outputs": [
    {
     "name": "stdout",
     "output_type": "stream",
     "text": [
      "{'Home Team': 'Netherlands', 'Away Team': 'England', 'Final Score': '1-2', 'Match Date': 'July 10, 2024', 'Stage': 'Semi-finals', 'Stadium': 'Signal-Iduna-Park'}\n",
      "   player_id    player_name player_nickname  jersey_number  match_id  team_id  \\\n",
      "0       2988  Memphis Depay   Memphis Depay             10   3942819      941   \n",
      "1       3306     Nathan Aké      Nathan Aké              5   3942819      941   \n",
      "\n",
      "     team_name  country_id country_name  \n",
      "0  Netherlands         160  Netherlands  \n",
      "1  Netherlands         160  Netherlands  \n"
     ]
    }
   ],
   "source": [
    "# TEST 1: Show match info and a glimpse of the lineups\n",
    "print(match_info_dict)\n",
    "print(lineups.head(2))"
   ]
  },
  {
   "cell_type": "code",
   "execution_count": 6,
   "id": "6e575b9f-ef5f-4f67-be25-f317b598de5d",
   "metadata": {},
   "outputs": [],
   "source": [
    "# Get match event data & phases of play\n",
    "event_df, related, freeze, tactics = parser.event(3942819)\n",
    "phase_bounds = ld.phase_of_play(event_df, match_info_dict[\"Home Team\"])"
   ]
  },
  {
   "cell_type": "code",
   "execution_count": 7,
   "id": "d9339d78-c100-4f5e-8885-40d1dcb74b78",
   "metadata": {},
   "outputs": [
    {
     "name": "stdout",
     "output_type": "stream",
     "text": [
      "[1101, 1701, 3396]\n"
     ]
    }
   ],
   "source": [
    "# TEST 2: Show phases of play bounds\n",
    "print(phase_bounds)"
   ]
  },
  {
   "cell_type": "code",
   "execution_count": 8,
   "id": "45218fd9-ac71-4f1c-8362-f548e66c5fe5",
   "metadata": {},
   "outputs": [],
   "source": [
    "# Obtain pass data for a specific phase of play and add \n",
    "passes = ld.get_passing_data(event_df, lineups, match_info_dict[\"Home Team\"], 1, phase_bounds)\n",
    "passes = ld.cosine_pass_vector(passes)"
   ]
  },
  {
   "cell_type": "code",
   "execution_count": 9,
   "id": "acf21312-c4a5-4234-9492-98023b94e50a",
   "metadata": {},
   "outputs": [
    {
     "data": {
      "text/html": [
       "<div>\n",
       "<style scoped>\n",
       "    .dataframe tbody tr th:only-of-type {\n",
       "        vertical-align: middle;\n",
       "    }\n",
       "\n",
       "    .dataframe tbody tr th {\n",
       "        vertical-align: top;\n",
       "    }\n",
       "\n",
       "    .dataframe thead th {\n",
       "        text-align: right;\n",
       "    }\n",
       "</style>\n",
       "<table border=\"1\" class=\"dataframe\">\n",
       "  <thead>\n",
       "    <tr style=\"text-align: right;\">\n",
       "      <th></th>\n",
       "      <th>x</th>\n",
       "      <th>y</th>\n",
       "      <th>end_x</th>\n",
       "      <th>end_y</th>\n",
       "      <th>pass_length</th>\n",
       "      <th>player_id</th>\n",
       "      <th>player_name</th>\n",
       "      <th>pass_recipient_id</th>\n",
       "      <th>pass_recipient_name</th>\n",
       "      <th>player_name_jersey</th>\n",
       "      <th>pass_recipient_jersey</th>\n",
       "      <th>cosine</th>\n",
       "    </tr>\n",
       "  </thead>\n",
       "  <tbody>\n",
       "    <tr>\n",
       "      <th>0</th>\n",
       "      <td>47.8</td>\n",
       "      <td>66.3</td>\n",
       "      <td>65.4</td>\n",
       "      <td>55.1</td>\n",
       "      <td>19.075708</td>\n",
       "      <td>15582.0</td>\n",
       "      <td>Malen</td>\n",
       "      <td>20750.0</td>\n",
       "      <td>Gakpo</td>\n",
       "      <td>18</td>\n",
       "      <td>11</td>\n",
       "      <td>0.843661</td>\n",
       "    </tr>\n",
       "    <tr>\n",
       "      <th>1</th>\n",
       "      <td>4.6</td>\n",
       "      <td>42.0</td>\n",
       "      <td>30.9</td>\n",
       "      <td>24.2</td>\n",
       "      <td>29.038930</td>\n",
       "      <td>37274.0</td>\n",
       "      <td>Verbruggen</td>\n",
       "      <td>21582.0</td>\n",
       "      <td>Reijnders</td>\n",
       "      <td>1</td>\n",
       "      <td>14</td>\n",
       "      <td>0.828154</td>\n",
       "    </tr>\n",
       "  </tbody>\n",
       "</table>\n",
       "</div>"
      ],
      "text/plain": [
       "      x     y  end_x  end_y  pass_length  player_id player_name  \\\n",
       "0  47.8  66.3   65.4   55.1    19.075708    15582.0       Malen   \n",
       "1   4.6  42.0   30.9   24.2    29.038930    37274.0  Verbruggen   \n",
       "\n",
       "   pass_recipient_id pass_recipient_name  player_name_jersey  \\\n",
       "0            20750.0               Gakpo                  18   \n",
       "1            21582.0           Reijnders                   1   \n",
       "\n",
       "   pass_recipient_jersey    cosine  \n",
       "0                     11  0.843661  \n",
       "1                     14  0.828154  "
      ]
     },
     "execution_count": 9,
     "metadata": {},
     "output_type": "execute_result"
    }
   ],
   "source": [
    "# TEST 3: Show passes for the Home Team after the first substitution\n",
    "passes.head(2)"
   ]
  },
  {
   "cell_type": "code",
   "execution_count": 10,
   "id": "489dfe1d-c56e-406e-82f3-5f38c66c9f51",
   "metadata": {},
   "outputs": [
    {
     "name": "stdout",
     "output_type": "stream",
     "text": [
      "End of defensive third: 40.0 | Var. Type: <class 'numpy.float64'>\n",
      "End of midfield third: 80.0 | Var. Type: <class 'numpy.float64'>\n",
      "       x     y  end_x  end_y  pass_length  player_id player_name  \\\n",
      "0   47.8  66.3   65.4   55.1    19.075708    15582.0       Malen   \n",
      "10  43.5  34.3   38.8   44.1     9.938397    15582.0       Malen   \n",
      "\n",
      "    pass_recipient_id pass_recipient_name  player_name_jersey  \\\n",
      "0             20750.0               Gakpo                  18   \n",
      "10            39167.0              Simons                  18   \n",
      "\n",
      "    pass_recipient_jersey    cosine  \n",
      "0                      11  0.843661  \n",
      "10                      7 -0.432432  \n"
     ]
    }
   ],
   "source": [
    "# Divide pitch and get filtered data for a specific region\n",
    "first_bound, second_bound, mid_region_passes = ld.region_pass_filter(passes, params, \"statsbomb\", \"mid\")\n",
    "\n",
    "# TEST 4: Show passes originating from midfield\n",
    "print(f\"End of defensive third: {first_bound} | Var. Type: {type(first_bound)}\")\n",
    "print(f\"End of midfield third: {second_bound} | Var. Type: {type(second_bound)}\")\n",
    "print(mid_region_passes.head(2))"
   ]
  },
  {
   "cell_type": "code",
   "execution_count": 17,
   "id": "918ea6c4-f938-4849-8ff6-0d0bb2fdbb0b",
   "metadata": {},
   "outputs": [
    {
     "name": "stdout",
     "output_type": "stream",
     "text": [
      "Overall passes: 74\n",
      "Passes originating from midfield: 38\n",
      "Forward passes originating from midfield: 9 | Progressive passes to attacking third from midfield: 3\n"
     ]
    }
   ],
   "source": [
    "# Obtain forward passes that originated in midfield\n",
    "fwd_mid_passes = ld.direction_pass_filter(mid_region_passes, \"fwd\")\n",
    "# Obtain progressive passes from midfield to attacking third\n",
    "prog_m2a_passes = ld.progressive_passes(fwd_mid_passes, \"m2a\", first_bound, second_bound)\n",
    "\n",
    "# TEST 5: Show forward passes from midfield and progressive passes\n",
    "print(f\"Overall passes: {len(passes)}\") \n",
    "print(f\"Passes originating from midfield: {len(mid_region_passes)}\")\n",
    "print(f\"Forward passes originating from midfield: {len(fwd_mid_passes)} | Progressive passes to attacking third from midfield: {len(prog_m2a_passes)}\")"
   ]
  },
  {
   "cell_type": "markdown",
   "id": "574d75b4-7c62-4529-bd37-8b206e137182",
   "metadata": {},
   "source": [
    "### Network Analysis"
   ]
  },
  {
   "cell_type": "code",
   "execution_count": null,
   "id": "b3419abe-1b27-44f6-8b1d-14b5dca4e462",
   "metadata": {},
   "outputs": [],
   "source": [
    "# Calculate node centralities\n",
    "node_strength(pass_graph, \"in\", \"Intensity\")\n",
    "node_strength(pass_graph, \"out\", \"Intensity\")\n",
    "node_strength(pass_graph, None, \"Intensity\")\n",
    "distance_centralities(pass_graph, \"Betweenness\", \"Distance\")\n",
    "distance_centralities(pass_graph, \"In-Harmonic\", \"Distance\")\n",
    "distance_centralities(pass_graph, \"Out-Harmonic\", \"Distance\")"
   ]
  },
  {
   "cell_type": "code",
   "execution_count": null,
   "id": "f9dfb09d-8e68-48f1-b6e3-180428e27f08",
   "metadata": {},
   "outputs": [],
   "source": [
    "# TEST 1: Loading data and creating the Graph object\n",
    "print(\"TEST 1: Network Creation\")\n",
    "print(pass_graph.number_of_nodes())\n",
    "print(pass_net_edgelist.shape[0] == pass_graph.number_of_edges())\n",
    "\n",
    "# TEST 2: Check node and edge attributes\n",
    "print(\"TEST 2: Initial Node and Edge Attributes\")\n",
    "print(pass_graph.nodes[\"Dijk\"][\"Avg Pos\"])\n",
    "pass_graph.get_edge_data(\"Dijk\", \"Depay\")\n",
    "\n",
    "# TEST 3:\n",
    "print(pass_graph.nodes[\"Simons\"])"
   ]
  },
  {
   "cell_type": "markdown",
   "id": "986574e4-ce0d-47e4-b101-16b406c8ed38",
   "metadata": {},
   "source": [
    "### Visualization & Statistics"
   ]
  },
  {
   "cell_type": "code",
   "execution_count": null,
   "id": "f9d70872-2fa9-434f-8e55-4690cfada6e9",
   "metadata": {},
   "outputs": [],
   "source": [
    "pass_data = (event_df.type_name == \"Pass\") & (event_df.team_name == match_info_dict[\"Home Team\"]) & (event_df.index < subs_hteam[0]) & (event_df.outcome_name.isnull()) & (event_df.sub_type_name != \"Throw-in\")\n",
    "#pass_data = event_df.loc[pass_data, [\"x\", \"y\", \"end_x\", \"end_y\", \"player_name\", \"pass_recipient_name\"]]"
   ]
  },
  {
   "cell_type": "code",
   "execution_count": null,
   "id": "1c757740-f5f6-4c5c-a7dd-68826db3e1b8",
   "metadata": {},
   "outputs": [],
   "source": [
    "phase_idx"
   ]
  },
  {
   "cell_type": "code",
   "execution_count": null,
   "id": "278e33a5-0326-4596-bc94-e871801cadeb",
   "metadata": {},
   "outputs": [],
   "source": [
    "pass_data.head(1)"
   ]
  },
  {
   "cell_type": "code",
   "execution_count": null,
   "id": "7ebc7689-a604-4917-ad35-9daed88265d4",
   "metadata": {},
   "outputs": [],
   "source": [
    "(37.1 - 50.1) /np.sqrt((37.1 - 50.1)**2 + (24.1 - 16.3)**2)"
   ]
  },
  {
   "cell_type": "code",
   "execution_count": null,
   "id": "435c4f9d-7958-4217-b96f-d2132611b83f",
   "metadata": {},
   "outputs": [],
   "source": [
    "lineups.head(5)"
   ]
  },
  {
   "cell_type": "code",
   "execution_count": null,
   "id": "44379d95-202f-4f2a-aa41-5f1bd9472724",
   "metadata": {},
   "outputs": [],
   "source": [
    "def get_passing_data(event_data, lineup, team_name, phase_idx, subs_id):\n",
    "    '''\n",
    "    Creating the pass data frame from the event data for the selected phase\n",
    "\n",
    "    INPUT\n",
    "        event_data: pd.DataFrame with event data\n",
    "        lineup: pd.DataFrame with lineups to obtain jersey numbers\n",
    "        team_name: str\n",
    "        phase_idx: int, index that corresponds to the phase selected by user\n",
    "        subs_id: array, array of indices corresponding to substitution events\n",
    "\n",
    "    OUTPUT\n",
    "        pass_data: pd.DataFrame with x,y positions of passer and receiver\n",
    "    '''\n",
    "    if len(subs_id) == 0: # case of zero substitutions\n",
    "        start_idx, end_idx = 0, len(event_data)\n",
    "    else:\n",
    "        start_idx = 0 if phase_idx == 0 else subs_id[phase_idx - 1]\n",
    "        end_idx = subs_id[phase_idx] if phase_idx < len(subs_id) else len(event_data)\n",
    "\n",
    "    mask = (\n",
    "        (event_data.type_name == \"Pass\") &\n",
    "        (event_data.team_name == team_name) &\n",
    "        (event_data.outcome_name.isnull()) &\n",
    "        (event_data.sub_type_name != \"Throw-in\")\n",
    "    )\n",
    "\n",
    "    pass_data = event_data.loc[start_idx: end_idx, :].loc[mask, [\"x\", \"y\", \"end_x\", \"end_y\", \"player_id\", \"player_name\", \"pass_recipient_id\", \"pass_recipient_name\"]]\n",
    "\n",
    "    # Keep player surname only\n",
    "    pass_data[\"player_name\"] = pass_data[\"player_name\"].apply(lambda x: str(x).split()[-1])\n",
    "    pass_data[\"pass_recipient_name\"] = pass_data[\"pass_recipient_name\"].apply(lambda x: str(x).split()[-1])\n",
    "    \n",
    "    # Assign jersey number to passer according to lineups data frame\n",
    "    pass_data = pass_data.merge(\n",
    "        lineup[[\"player_id\", \"jersey_number\"]],\n",
    "        on = \"player_id\",\n",
    "        how = \"left\"\n",
    "    ).rename(columns = {\"jersey_number\": \"player_name_jersey\"})\n",
    "\n",
    "    # Assign jersey number to recipient according to lineups data frame\n",
    "    pass_data = pass_data.merge(\n",
    "        lineup[[\"player_id\", \"jersey_number\"]],\n",
    "        left_on = \"pass_recipient_id\",\n",
    "        right_on = \"player_id\",\n",
    "        how = \"left\",\n",
    "        suffixes = (\"\", \"_recipient\")\n",
    "    ).rename(columns = {\"jersey_number\": \"pass_recipient_jersey\"})\n",
    "\n",
    "    pass_data = pass_data.drop(columns = [\"player_id_recipient\"])\n",
    "\n",
    "    return pass_data"
   ]
  },
  {
   "cell_type": "code",
   "execution_count": null,
   "id": "f231850e-ff40-4274-a329-323565398ec2",
   "metadata": {},
   "outputs": [],
   "source": [
    "passes = get_passing_data(event_df, lineups, match_info_dict[\"Home Team\"], 0, np.array([1101, 1701, 3396]))"
   ]
  },
  {
   "cell_type": "code",
   "execution_count": null,
   "id": "bfecd61c-c476-4993-abed-d6dc7533627e",
   "metadata": {},
   "outputs": [],
   "source": [
    "passes.shape"
   ]
  },
  {
   "cell_type": "code",
   "execution_count": null,
   "id": "9cf80847-a273-4fb9-8fbe-36b3b1e2aaac",
   "metadata": {},
   "outputs": [],
   "source": [
    "pitch = Pitch(pitch_type = \"statsbomb\")"
   ]
  },
  {
   "cell_type": "code",
   "execution_count": null,
   "id": "b27fea02-6511-4170-a009-c9bd967127a8",
   "metadata": {},
   "outputs": [],
   "source": [
    "vars(pitch)"
   ]
  },
  {
   "cell_type": "code",
   "execution_count": null,
   "id": "46325249-18c3-48e7-9b82-b0367ec5c987",
   "metadata": {},
   "outputs": [],
   "source": [
    "type(params)"
   ]
  },
  {
   "cell_type": "code",
   "execution_count": null,
   "id": "3c52bcee-f01b-41b9-84d0-8a0923744ad6",
   "metadata": {},
   "outputs": [],
   "source": []
  }
 ],
 "metadata": {
  "kernelspec": {
   "display_name": "Python 3 (ipykernel)",
   "language": "python",
   "name": "python3"
  },
  "language_info": {
   "codemirror_mode": {
    "name": "ipython",
    "version": 3
   },
   "file_extension": ".py",
   "mimetype": "text/x-python",
   "name": "python",
   "nbconvert_exporter": "python",
   "pygments_lexer": "ipython3",
   "version": "3.10.13"
  }
 },
 "nbformat": 4,
 "nbformat_minor": 5
}
